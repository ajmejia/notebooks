{
 "cells": [
  {
   "cell_type": "code",
   "execution_count": null,
   "metadata": {
    "collapsed": false
   },
   "outputs": [],
   "source": [
    "%pylab inline\n",
    "\n",
    "from PyTools import err, binner, nbins\n",
    "from sklearn.cluster import DBSCAN\n",
    "from scipy.optimize import leastsq\n",
    "from string import join\n",
    "from scipy.ndimage.filters import gaussian_filter\n",
    "import pres_style, os"
   ]
  },
  {
   "cell_type": "code",
   "execution_count": null,
   "metadata": {
    "collapsed": false
   },
   "outputs": [],
   "source": [
    "def put_FITS_names(table):\n",
    "    descr = table.dtype.descr\n",
    "    for i in xrange(3): descr.pop(0)\n",
    "    descr = [(\"input_file\", \"|S25\")] + descr\n",
    "\n",
    "    new_table = zeros(table.shape[0], dtype=descr)\n",
    "    new_table[\"input_file\"] = [\"spSpec-{0:05d}-{1:04d}-{2:03d}.fit\".format(r[\"mjd\"], r[\"plate\"], r[\"fiberID\"]) for r in table]\n",
    "    for f in new_table.dtype.names[1:]:\n",
    "        new_table[f] = table[f]\n",
    "    \n",
    "    return new_table\n",
    "\n",
    "par_lbs = [r\"$M_\\star$\", r\"$\\left<\\log{t_\\star}\\right>_M$\", r\"$\\left<\\log{t_\\star}\\right>_L$\",\n",
    "           r\"$\\left<\\log{Z_\\star/Z\\odot}\\right>_M$\", r\"$\\left<\\log{Z_\\star/Z\\odot}\\right>_L$\", r\"$A_V$\"]\n",
    "\n",
    "if \"paper_style\" in dir():\n",
    "    mnorm = 1e9\n",
    "    od = os.path.expandvars(\"$HOME/Documents/Papers/photofit_near_paper/\")\n",
    "    par_lbs = [r\"$\\log{M_\\star/M\\odot}$\", r\"$\\left<\\log{t_\\star}\\right>_M$\", r\"$\\left<\\log{t_\\star}\\right>_L$\",\n",
    "               r\"$\\left<\\log{Z_\\star/Z\\odot}\\right>_M$\", r\"$\\left<\\log{Z_\\star/Z\\odot}\\right>_L$\", r\"$A_V$\",\n",
    "               r\"$A_V$\", r\"$z$\"]\n",
    "    res_lbs = [r\"$\\Delta\\log{M_\\star}$\", r\"$\\Delta\\left<\\log{t_\\star}\\right>_M$\",\n",
    "               r\"$\\Delta\\left<\\log{t_\\star}\\right>_L$\", r\"$\\Delta\\left<\\log{Z_\\star}\\right>_M$\",\n",
    "               r\"$\\Delta\\left<\\log{Z_\\star}\\right>_L$\", r\"$\\Delta A_V$\"]\n",
    "    hatching = \"/\"*15\n",
    "    gray = \"0.3\"\n",
    "    ssag_cl = \"0.2\"\n",
    "    sdss_cl = \"#F6C141\"\n",
    "    sdss_sg = [sdss_cl, \"#E8601C\"]\n",
    "    jpas_cl = \"#90C987\"\n",
    "    jpas_sg = [jpas_cl, \"#4EB265\"]\n",
    "    spec_cl = \"#7BAFDE\"\n",
    "    spec_sg = [spec_cl, \"#1965B0\"]\n",
    "    map_col = cm.viridis\n",
    "else:\n",
    "    mnorm = 1e8\n",
    "    od = \"\"\n",
    "    par_lbs = [\"Mass (log/M$\\odot$)\", \"Age (log/yr)\", \"Age (log/yr)\", \"Metallicity (log/Z$\\odot$)\",\n",
    "               \"Metallicity (log/Z$\\odot$)\", \"Dust Extinction (mag)\", \"Redshift\"]"
   ]
  },
  {
   "cell_type": "code",
   "execution_count": null,
   "metadata": {
    "collapsed": false
   },
   "outputs": [],
   "source": [
    "#READ TABLES\n",
    "\n",
    "catalog = genfromtxt(\"catalog.txt\", dtype=None, names=True)\n",
    "spec_ne = genfromtxt(\"spec_ne.txt\", dtype=None, names=True)\n",
    "jpas_ye = genfromtxt(\"jpas_ye.txt\", dtype=None, names=True)\n",
    "jpas_ne = genfromtxt(\"jpas_ne.txt\", dtype=None, names=True)\n",
    "jpas_me = genfromtxt(\"jpas_me.txt\", dtype=None, names=True)\n",
    "gal2005 = genfromtxt(os.path.expandvars(\"$HOME/Programs/gallazzi+05/gallazzi_stats.log\"), dtype=None, names=True, usecols=(0,1,2,8,14,20))"
   ]
  },
  {
   "cell_type": "code",
   "execution_count": null,
   "metadata": {
    "collapsed": true
   },
   "outputs": [],
   "source": [
    "#CLEAN GALLAZZI TABLE\n",
    "\n",
    "# remove null values\n",
    "mask = where(gal2005[\"m_mode\"] != -99.0)\n",
    "gal2005 = gal2005[mask]\n",
    "\n",
    "# convert log(Z) into log(Z/Zo)\n",
    "gal2005[\"z_mode\"] -= log10(0.02)\n",
    "\n",
    "# homologate field names\n",
    "gal2005 = put_FITS_names(gal2005)\n",
    "gal2005.dtype.names = (\"input_file\", \"M_mod\", \"log_t_L_mod\", \"log_Z_L_mod\")"
   ]
  },
  {
   "cell_type": "code",
   "execution_count": null,
   "metadata": {
    "collapsed": true
   },
   "outputs": [],
   "source": [
    "# match gal2005 & catalog\n",
    "match_g05_in_cat = array([n in catalog[\"input_file\"] for n in gal2005[\"input_file\"]], dtype=bool)\n",
    "match_cat_in_g05 = array([n in gal2005[\"input_file\"] for n in catalog[\"input_file\"]], dtype=bool)"
   ]
  },
  {
   "cell_type": "code",
   "execution_count": null,
   "metadata": {
    "collapsed": true
   },
   "outputs": [],
   "source": [
    "# sort by input_file\n",
    "g05_sort = argsort(gal2005[\"input_file\"][match_g05_in_cat])\n",
    "cat_sort = argsort(catalog[\"input_file\"][match_cat_in_g05])"
   ]
  },
  {
   "cell_type": "code",
   "execution_count": null,
   "metadata": {
    "collapsed": true
   },
   "outputs": [],
   "source": [
    "print all(catalog[\"input_file\"][match_cat_in_g05]==gal2005[\"input_file\"][match_g05_in_cat])"
   ]
  }
 ],
 "metadata": {
  "kernelspec": {
   "display_name": "Python 2",
   "language": "python",
   "name": "python2"
  },
  "language_info": {
   "codemirror_mode": {
    "name": "ipython",
    "version": 2
   },
   "file_extension": ".py",
   "mimetype": "text/x-python",
   "name": "python",
   "nbconvert_exporter": "python",
   "pygments_lexer": "ipython2",
   "version": "2.7.10"
  }
 },
 "nbformat": 4,
 "nbformat_minor": 0
}
