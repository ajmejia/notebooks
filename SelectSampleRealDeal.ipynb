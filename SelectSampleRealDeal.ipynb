{
 "cells": [
  {
   "cell_type": "code",
   "execution_count": 1,
   "metadata": {
    "collapsed": false
   },
   "outputs": [
    {
     "name": "stdout",
     "output_type": "stream",
     "text": [
      "Populating the interactive namespace from numpy and matplotlib\n"
     ]
    }
   ],
   "source": [
    "%pylab inline\n",
    "\n",
    "from PyTools import err, binner, nbins\n",
    "from sklearn.cluster import DBSCAN\n",
    "from scipy.optimize import leastsq\n",
    "from string import join\n",
    "from scipy.ndimage.filters import gaussian_filter\n",
    "import pres_style, os"
   ]
  },
  {
   "cell_type": "code",
   "execution_count": 2,
   "metadata": {
    "collapsed": false
   },
   "outputs": [],
   "source": [
    "def put_FITS_names(table):\n",
    "    descr = table.dtype.descr\n",
    "    for i in xrange(3): descr.pop(0)\n",
    "    descr = [(\"input_file\", \"|S25\")] + descr\n",
    "\n",
    "    new_table = zeros(table.shape[0], dtype=descr)\n",
    "    new_table[\"input_file\"] = [\"spSpec-{0:05d}-{1:04d}-{2:03d}.fit\".format(r[\"mjd\"], r[\"plate\"], r[\"fiberID\"]) for r in table]\n",
    "    for f in new_table.dtype.names[1:]:\n",
    "        new_table[f] = table[f]\n",
    "    \n",
    "    return new_table\n",
    "\n",
    "par_lbs = [r\"$M_\\star$\", r\"$\\left<\\log{t_\\star}\\right>_M$\", r\"$\\left<\\log{t_\\star}\\right>_L$\",\n",
    "           r\"$\\left<\\log{Z_\\star/Z\\odot}\\right>_M$\", r\"$\\left<\\log{Z_\\star/Z\\odot}\\right>_L$\", r\"$A_V$\"]\n",
    "\n",
    "if \"paper_style\" in dir():\n",
    "    mnorm = 1e9\n",
    "    od = os.path.expandvars(\"$HOME/Documents/Papers/photofit_near_paper/\")\n",
    "    par_lbs = [r\"$\\log{M_\\star/M\\odot}$\", r\"$\\left<\\log{t_\\star}\\right>_M$\", r\"$\\left<\\log{t_\\star}\\right>_L$\",\n",
    "               r\"$\\left<\\log{Z_\\star/Z\\odot}\\right>_M$\", r\"$\\left<\\log{Z_\\star/Z\\odot}\\right>_L$\", r\"$A_V$\",\n",
    "               r\"$A_V$\", r\"$z$\"]\n",
    "    res_lbs = [r\"$\\Delta\\log{M_\\star}$\", r\"$\\Delta\\left<\\log{t_\\star}\\right>_M$\",\n",
    "               r\"$\\Delta\\left<\\log{t_\\star}\\right>_L$\", r\"$\\Delta\\left<\\log{Z_\\star}\\right>_M$\",\n",
    "               r\"$\\Delta\\left<\\log{Z_\\star}\\right>_L$\", r\"$\\Delta A_V$\"]\n",
    "    hatching = \"/\"*15\n",
    "    gray = \"0.3\"\n",
    "    ssag_cl = \"0.2\"\n",
    "    sdss_cl = \"#F6C141\"\n",
    "    sdss_sg = [sdss_cl, \"#E8601C\"]\n",
    "    jpas_cl = \"#90C987\"\n",
    "    jpas_sg = [jpas_cl, \"#4EB265\"]\n",
    "    spec_cl = \"#7BAFDE\"\n",
    "    spec_sg = [spec_cl, \"#1965B0\"]\n",
    "    map_col = cm.viridis\n",
    "else:\n",
    "    mnorm = 1e8\n",
    "    od = \"\"\n",
    "    par_lbs = [\"Mass (log/M$\\odot$)\", \"Age (log/yr)\", \"Age (log/yr)\", \"Metallicity (log/Z$\\odot$)\",\n",
    "               \"Metallicity (log/Z$\\odot$)\", \"Dust Extinction (mag)\", \"Redshift\"]"
   ]
  },
  {
   "cell_type": "code",
   "execution_count": null,
   "metadata": {
    "collapsed": true
   },
   "outputs": [],
   "source": [
    "#READ TABLES\n",
    "\n",
    "catalog = genfromtxt(\"catalog.txt\", dtype=None, names=True)\n",
    "\n",
    "g05 = genfromtxt(\"gal2005.txt\", dtype=None, names=True)\n",
    "\n",
    "match_cat_in_g05 = array([n in g05[\"input_file\"] for n in catalog[\"input_file\"]], dtype=bool)\n",
    "cat_sort = argsort(catalog[\"input_file\"][match_cat_in_g05])\n",
    "\n",
    "cat = catalog[match_cat_in_g05]"
   ]
  },
  {
   "cell_type": "code",
   "execution_count": null,
   "metadata": {
    "collapsed": true
   },
   "outputs": [],
   "source": [
    "sed_dir = os.path.expandvars(\"$master/inputs/real_deal7/spec/\")\n",
    "flist = [\"processed_SPEC_\"+name.replace(\".fit\", \".txt\") for name in catalog[\"input_file\"]]\n",
    "snr_wall, snr_CaHK, snr_CaII, snr_Zfea, npx_wall, npx_CaHK, npx_CaII, npx_Zfea = [], [], [], [], [], [], [], []\n",
    "for sed_file in flist:\n",
    "    wl, fl, sg = loadtxt(sed_dir+sed_file, usecols=(0,1,2), unpack=True)\n",
    "\n",
    "    wall_mask = (fl>0.0)&(sg>0.0)\n",
    "    CaHK_mask = wall_mask&(wl>=3920.0)&(wl<=3980.0)\n",
    "    CaII_mask = wall_mask&(wl>=8400.0)&(wl<=8700.0)\n",
    "    Zfea_mask = wall_mask&(wl>=6500.0)&(wl<=8000.0)\n",
    "\n",
    "    npx_wall.append(wall_mask.sum())\n",
    "    npx_CaHK.append(CaHK_mask.sum())\n",
    "    npx_CaII.append(CaII_mask.sum())\n",
    "    npx_Zfea.append(Zfea_mask.sum())\n",
    "\n",
    "    snr_wall.append(median(fl[wall_mask]/sg[wall_mask]) if npx_wall[-1]!=0 else 0.0)\n",
    "    snr_CaHK.append(median(fl[CaHK_mask]/sg[CaHK_mask]) if npx_CaHK[-1]!=0 else 0.0)\n",
    "    snr_CaII.append(median(fl[CaII_mask]/sg[CaII_mask]) if npx_CaII[-1]!=0 else 0.0)\n",
    "    snr_Zfea.append(median(fl[Zfea_mask]/sg[Zfea_mask]) if npx_Zfea[-1]!=0 else 0.0)\n",
    "\n",
    "sig2noi = zeros(catalog.size, dtype=[(\"input_file\", \"|S25\"), (\"snr_CaHK\", \"<f8\"), (\"snr_CaII\", \"<f8\"),\n",
    "                                     (\"snr_Zfea\", \"<f8\"), (\"snr_wall\", \"<f8\"), (\"npix_CaHK\", \"<i8\"),\n",
    "                                     (\"npix_CaII\", \"<i8\"), (\"npix_Zfea\", \"<i8\"), (\"npix_wall\", \"<i8\")])\n",
    "fields = sig2noi.dtype.names\n",
    "cols = [catalog[\"input_file\"], snr_CaHK, snr_CaII, snr_Zfea, snr_wall, npx_CaHK, npx_CaII, npx_Zfea, npx_wall]\n",
    "for field, column in zip(fields, cols): sig2noi[field] = column"
   ]
  },
  {
   "cell_type": "code",
   "execution_count": 22,
   "metadata": {
    "collapsed": false
   },
   "outputs": [],
   "source": [
    "savetxt(\"snr.txt\", sig2noi, fmt=\"%25s\"+\"%10.2f\"*4+\"%10d\"*4, header=(\"%23s\"+\"%10s\"*8)%fields)"
   ]
  },
  {
   "cell_type": "code",
   "execution_count": 23,
   "metadata": {
    "collapsed": true
   },
   "outputs": [],
   "source": [
    "savetxt(\"gal2005.txt\", gal2005[match_g05_in_cat][g05_sort], fmt=\"%25s\"+\"%12.4f\"*3, header=(\"%23s\"+\"%12s\"*3)%gal2005.dtype.names)"
   ]
  },
  {
   "cell_type": "code",
   "execution_count": 4,
   "metadata": {
    "collapsed": true
   },
   "outputs": [],
   "source": [
    "#CLEAN GALLAZZI TABLE\n",
    "\n",
    "# remove null values\n",
    "mask = where(gal2005[\"m_mode\"] != -99.0)\n",
    "gal2005 = gal2005[mask]\n",
    "\n",
    "# convert log(Z) into log(Z/Zo)\n",
    "gal2005[\"z_mode\"] -= log10(0.02)\n",
    "\n",
    "# homologate field names\n",
    "gal2005 = put_FITS_names(gal2005)\n",
    "gal2005.dtype.names = (\"input_file\", \"M_mod\", \"log_t_L_mod\", \"log_Z_L_mod\")\n",
    "\n",
    "# match gal2005 & other tables & sort by input_file\n",
    "match_g05_in_cat = array([n in catalog[\"input_file\"] for n in gal2005[\"input_file\"]], dtype=bool)\n",
    "\n",
    "\n",
    "g05_sort = argsort(gal2005[\"input_file\"][match_g05_in_cat])\n"
   ]
  }
 ],
 "metadata": {
  "kernelspec": {
   "display_name": "Python 2",
   "language": "python",
   "name": "python2"
  },
  "language_info": {
   "codemirror_mode": {
    "name": "ipython",
    "version": 2
   },
   "file_extension": ".py",
   "mimetype": "text/x-python",
   "name": "python",
   "nbconvert_exporter": "python",
   "pygments_lexer": "ipython2",
   "version": "2.7.10"
  }
 },
 "nbformat": 4,
 "nbformat_minor": 0
}
