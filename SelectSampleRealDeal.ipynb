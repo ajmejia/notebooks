{
 "cells": [
  {
   "cell_type": "code",
   "execution_count": 1,
   "metadata": {
    "collapsed": false
   },
   "outputs": [
    {
     "name": "stdout",
     "output_type": "stream",
     "text": [
      "Populating the interactive namespace from numpy and matplotlib\n"
     ]
    }
   ],
   "source": [
    "%pylab inline\n",
    "\n",
    "import pres_style, os"
   ]
  },
  {
   "cell_type": "code",
   "execution_count": 2,
   "metadata": {
    "collapsed": false
   },
   "outputs": [
    {
     "name": "stdout",
     "output_type": "stream",
     "text": [
      "True\n"
     ]
    }
   ],
   "source": [
    "#READ TABLES\n",
    "\n",
    "cat_m16 = genfromtxt(\"catalog.txt\", dtype=None, names=True)\n",
    "col_m16 = cat_m16[\"u_mag\"]-cat_m16[\"r_mag\"]\n",
    "rsh_m16 = cat_m16[\"redshift\"]\n",
    "snr_m16 = genfromtxt(\"snr.txt\", dtype=None, names=True)\n",
    "\n",
    "gal2005 = genfromtxt(\"gal2005.txt\", dtype=None, names=True)\n",
    "\n",
    "match_m16_in_g05 = array([n in gal2005[\"input_file\"] for n in cat_m16[\"input_file\"]], dtype=bool)\n",
    "compl_m16_in_g05 = array([n not in gal2005[\"input_file\"] for n in cat_m16[\"input_file\"]], dtype=bool)\n",
    "del gal2005\n",
    "\n",
    "cat_g05 = cat_m16[match_m16_in_g05]\n",
    "col_g05 = col_m16[match_m16_in_g05]\n",
    "rsh_g05 = rsh_m16[match_m16_in_g05]\n",
    "snr_g05 = snr_m16[match_m16_in_g05]\n",
    "\n",
    "cat_m16 = cat_m16[compl_m16_in_g05]\n",
    "col_m16 = col_m16[compl_m16_in_g05]\n",
    "rsh_m16 = rsh_m16[compl_m16_in_g05]\n",
    "snr_m16 = snr_m16[compl_m16_in_g05]\n",
    "\n",
    "print all(cat_g05[\"input_file\"]==snr_g05[\"input_file\"])&all(cat_m16[\"input_file\"]==snr_m16[\"input_file\"])"
   ]
  },
  {
   "cell_type": "code",
   "execution_count": 14,
   "metadata": {
    "collapsed": false
   },
   "outputs": [
    {
     "name": "stdout",
     "output_type": "stream",
     "text": [
      "SF_hSNR_g05: 3575\n",
      "SF_hSNR_m16: 1719\n",
      "Pa_hSNR_g05: 5887\n",
      "SF_lSNR_m16: 1608\n",
      "Pa_lSNR_m16: 144\n",
      "\n",
      "Total      : 12933\n"
     ]
    }
   ],
   "source": [
    "# MASKS FOR NEW SAMPLE\n",
    "# mask to avoid aperture bias\n",
    "rsh_m16_mask = rsh_m16>=0.05\n",
    "rsh_g05_mask = rsh_g05>=0.05\n",
    "# mask for g05 subsamples\n",
    "SF_hSNR_g05_mask = (rsh_g05_mask&(col_g05< 2.22)&(snr_g05[\"snr_wall\"]>15.0))\n",
    "SF_hSNR_m16_mask = (rsh_m16_mask&(col_m16< 2.22)&(snr_m16[\"snr_wall\"]>15.0))\n",
    "Pa_hSNR_g05_mask = (rsh_g05_mask&(col_g05>=2.22)&(snr_g05[\"snr_wall\"]>15.0))\n",
    "# mask for cat subsample\n",
    "SF_lSNR_m16_mask = (rsh_m16_mask&(col_m16< 2.22)&(snr_m16[\"snr_wall\"]<=15.0))\n",
    "Pa_lSNR_m16_mask = (rsh_m16_mask&(col_m16>=2.22)&(snr_m16[\"snr_wall\"]<=15.0))\n",
    "\n",
    "print \"SF_hSNR_g05:\", SF_hSNR_g05_mask.sum()\n",
    "print \"SF_hSNR_m16:\", SF_hSNR_m16_mask.sum()\n",
    "print \"Pa_hSNR_g05:\", Pa_hSNR_g05_mask.sum()\n",
    "print \"SF_lSNR_m16:\", SF_lSNR_m16_mask.sum()\n",
    "print \"Pa_lSNR_m16:\", Pa_lSNR_m16_mask.sum()\n",
    "print\n",
    "print \"Total      :\", SF_hSNR_g05_mask.sum()+SF_hSNR_m16_mask.sum()+Pa_hSNR_g05_mask.sum()+SF_lSNR_m16_mask.sum()+Pa_lSNR_m16_mask.sum()"
   ]
  },
  {
   "cell_type": "code",
   "execution_count": null,
   "metadata": {
    "collapsed": true
   },
   "outputs": [],
   "source": [
    "# WRITE TABLES\n",
    "savetxt(\"SF_hSNR_g05.txt\", cat_g05[\"input_file\"][SF_hSNR_g05_mask])\n",
    "savetxt(\"SF_hSNR_m16.txt\", cat_g05[\"input_file\"][SF_hSNR_g05_mask])\n",
    "savetxt(\"SF_lSNR_m16.txt\", cat_m16[\"input_file\"][SF_lSNR_m16_mask])\n",
    "savetxt(\"Pa_hSNR_g05.txt\", cat_g05[\"input_file\"][Pa_hSNR_g05_mask])\n",
    "savetxt(\"Pa_lSNR_m16.txt\", cat_m16[\"input_file\"][Pa_lSNR_m16_mask])"
   ]
  }
 ],
 "metadata": {
  "kernelspec": {
   "display_name": "Python 2",
   "language": "python",
   "name": "python2"
  },
  "language_info": {
   "codemirror_mode": {
    "name": "ipython",
    "version": 2
   },
   "file_extension": ".py",
   "mimetype": "text/x-python",
   "name": "python",
   "nbconvert_exporter": "python",
   "pygments_lexer": "ipython2",
   "version": "2.7.10"
  }
 },
 "nbformat": 4,
 "nbformat_minor": 0
}
