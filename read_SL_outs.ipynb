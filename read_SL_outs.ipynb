{
 "metadata": {
  "name": ""
 },
 "nbformat": 3,
 "nbformat_minor": 0,
 "worksheets": [
  {
   "cells": [
    {
     "cell_type": "code",
     "collapsed": false,
     "input": [
      "import os\n",
      "from thesis_redux_tools import integrated_flux"
     ],
     "language": "python",
     "metadata": {},
     "outputs": [],
     "prompt_number": 1
    },
    {
     "cell_type": "code",
     "collapsed": false,
     "input": [
      "def ccm(wlength, Av, Rv=3.1):\n",
      "    x = 1.e4 / wlength\n",
      "\n",
      "#\tInfrared:  Eq. 2\n",
      "    if x >= 0.3 and x < 1.1:\n",
      "        a= 0.574*x**1.61\n",
      "        b= -0.527*x**1.61\n",
      "#\tOptical/NIR:  Eq. 3\n",
      "    elif x >= 1.1 and x < 3.3:\n",
      "        y=x-1.82\n",
      "        a=1.+0.17699*y-0.50447*y**2-0.02427*y**3+0.72085*y**4+0.01979*y**5-0.77530*y**6+0.32999*y**7\n",
      "        b=1.41338*y+2.28305*y**2+1.07233*y**3-5.38434*y**4-0.62251*y**5+5.30260*y**6-2.09002*y**7\n",
      "#\tUltraviolet:  Eq.4\n",
      "    elif x >= 3.3 and x < 8.:\n",
      "        fa=0.\n",
      "        fb=0.\n",
      "        if x >= 5.9:\n",
      "            fa=-0.04473*(x-5.9)**2-0.009779*(x-5.9)**3\n",
      "            fb=0.2130*(x-5.9)**2+0.1207*(x-5.9)**3\n",
      "        a=1.752-0.316*x-0.104/((x-4.67)**2+0.341)+fa\n",
      "        b=-3.090+1.825*x+1.206/((x-4.62)**2+0.263)+fb\n",
      "#\tFar-UV:  Eq. 5\n",
      "    elif x >= 8 and x <= 10.:\n",
      "        a=-1.073-0.628*(x-8.)+0.137*(x-8.)**2-0.070*(x-8)**3\n",
      "        b=13.670+4.257*(x-8)-0.420*(x-8)**2+0.374*(x-8)**3\n",
      "    else:\n",
      "        return 0.0\n",
      "\n",
      "    return 10 ** (-0.4 * Av * (a + b / Rv))"
     ],
     "language": "python",
     "metadata": {},
     "outputs": [],
     "prompt_number": 2
    },
    {
     "cell_type": "code",
     "collapsed": false,
     "input": [
      "obs_res = 0.0\n",
      "bas_res = 0.0\n",
      "\n",
      "rband = loadtxt(\"../inputs/SDSS_filters.txt\")\n",
      "rband = rband[47+89:47+89+75]\n",
      "\n",
      "odir = \"../outputs/sl_outs/\"\n",
      "bdir = \"../../STARLIGHTv04/BasesDir_2013/\"\n",
      "\n",
      "out_list = sorted([os.path.join(root, file) for root, subs, files in os.walk(odir) for file in files if file.startswith(\"sl_processed\")])\n",
      "bas_list = sorted([os.path.join(root, file) for root, subs, files in os.walk(bdir) for file in files if file.endswith(\".spec\")])\n",
      "\n",
      "wlength, base = loadtxt(bas_list[0], unpack=True)\n",
      "for file in bas_list[1:]: base = np.vstack((base, loadtxt(file, usecols=(1,))))\n",
      "\n",
      "sl_table = []\n",
      "for file in out_list:\n",
      "    with open(file, \"r\") as f:\n",
      "        line = f.readline()[:-1]\n",
      "    \n",
      "        while \"adev\" not in line: line = f.readline()[:-1]\n",
      "        mean_residual = eval(line.split()[0])\n",
      "    \n",
      "        while \"Mcor_tot\" not in line: line = f.readline()[:-1]\n",
      "        mass = eval(line.split()[0])\n",
      "        \n",
      "        while \"vd\" not in line: line = f.readline()[:-1]\n",
      "        losvd = sqrt(eval(line.split()[0])**2 - obs_res**2 - bas_res**2)\n",
      "        \n",
      "        line = f.readline()[:-1]\n",
      "        Av = eval(line.split()[0])\n",
      "        \n",
      "        f.readline()\n",
      "        f.readline()\n",
      "        \n",
      "        table = genfromtxt(f, dtype=None, usecols=(1, 4, 5, 9), skip_footer=5237-225+1)\n",
      "        \n",
      "        x, ages, mets, ised_id = table[\"f0\"], table[\"f1\"], table[\"f2\"], table[\"f3\"]\n",
      "\n",
      "    rflx = []\n",
      "    for i in xrange(ages.size):\n",
      "        base[i] = base[i]*array([ccm(wl, Av, Rv=3.1) for wl in wlength])\n",
      "        rflx.append(integrated_flux(np.vstack((wlength, base[i])).T, rband))\n",
      "    \n",
      "    rflx = array(rflx)\n",
      "\n",
      "    lwla = average(log10(ages), weights=x*rflx)\n",
      "    mwla = average(log10(ages), weights=x)\n",
      "    lwlz = average(log10(mets/0.02), weights=x*rflx)\n",
      "    mwlz = average(log10(mets/0.02), weights=x)\n",
      "    \n",
      "    sl_table.append([mass, mwla, lwla, mwlz, lwlz, Av, losvd])\n",
      "\n",
      "savetxt(odir+\"sl_table\", array(sl_table))"
     ],
     "language": "python",
     "metadata": {},
     "outputs": [
      {
       "output_type": "stream",
       "stream": "stdout",
       "text": [
        "(160, 6917)\n"
       ]
      }
     ],
     "prompt_number": 3
    },
    {
     "cell_type": "code",
     "collapsed": false,
     "input": [],
     "language": "python",
     "metadata": {},
     "outputs": [],
     "prompt_number": 3
    }
   ],
   "metadata": {}
  }
 ]
}