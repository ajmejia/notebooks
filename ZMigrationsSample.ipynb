{
 "cells": [
  {
   "cell_type": "code",
   "execution_count": 1,
   "metadata": {
    "collapsed": false
   },
   "outputs": [
    {
     "name": "stdout",
     "output_type": "stream",
     "text": [
      "Populating the interactive namespace from numpy and matplotlib\n"
     ]
    }
   ],
   "source": [
    "%pylab inline\n",
    "\n",
    "import pres_style, os\n",
    "import pyfits as pyf\n",
    "from PyTools import integrated_flux"
   ]
  },
  {
   "cell_type": "code",
   "execution_count": 2,
   "metadata": {
    "collapsed": false
   },
   "outputs": [],
   "source": [
    "snr_written = True\n",
    "rds_written = True\n",
    "\n",
    "sdir = \"/home/mejia/Programs/master/inputs/\"\n",
    "\n",
    "wls, sg = loadtxt(sdir+\"SDSSERROR.DAT\", unpack=True)\n",
    "wls, sg = wls[(wls>=3850)&(wls<=9150)], sg[(wls>=3850)&(wls<=9150)]\n",
    "wlj = loadtxt(\"../inputs/real_deal7/nem_jpas/processed_nem_JPAS_spSpec-52319-0786-277.txt\", usecols=(0,))\n",
    "\n",
    "true_params = genfromtxt(sdir+\"set3+red.log\", dtype=None, names=True)\n",
    "\n",
    "Z_rich = (log10(true_params[\"Z\"])>0.3)&(true_params[\"AV_EFF\"]<0.5)&(true_params[\"RFWLA\"]>9)\n",
    "\n",
    "sed_list = sorted([file for root, subs, files in os.walk(sdir+\"SFHs_set3/\") for file in files if file.endswith(\".fits.gz\") and file in true_params[Z_rich][\"ESPECTRO\"]])"
   ]
  },
  {
   "cell_type": "code",
   "execution_count": 3,
   "metadata": {
    "collapsed": true
   },
   "outputs": [],
   "source": [
    "def integrated_flux(SED, passband):\n",
    "    mask = (passband[0, 0] <= SED[:, 0])&(SED[:, 0] <= passband[-1, 0])\n",
    "  \n",
    "    if mask.sum()==0: return 0.0\n",
    "\n",
    "    resolution = mean(diff(SED[mask, 0]))\n",
    "    if mask.sum()<0.95/resolution*(passband[-1, 0]-passband[0, 0]): return 0.0\n",
    "\n",
    "    ipassband = interp(SED[mask, 0], passband[:, 0], passband[:, 1])\n",
    "\n",
    "    return trapz(SED[mask, 0]*SED[mask, 1]*ipassband, SED[mask, 0])/trapz(SED[mask, 0]*ipassband, SED[mask, 0])\n",
    "\n",
    "def error_propagation(SED, passband):\n",
    "    mask = (passband[0, 0] <= SED[:, 0])&(SED[:, 0] <= passband[-1, 0])\n",
    "\n",
    "    if mask.sum()==0: return 0.0\n",
    "    \n",
    "    resolution = mean(diff(SED[mask, 0]))\n",
    "    if mask.sum()<0.95/resolution*(passband[-1, 0]-passband[0, 0]): return 0.0\n",
    "    \n",
    "    ipassband = interp(SED[mask, 0], passband[:, 0], passband[:, 1])\n",
    "\n",
    "    return sqrt(trapz((SED[mask, 0]*SED[mask, 1]*ipassband)**2, SED[mask, 0])/trapz(SED[mask, 0]*ipassband, SED[mask, 0])**2)\n",
    "\n",
    "jpas = open(\"../inputs/JPAS_filters.txt\").readlines()\n",
    "\n",
    "mask = [False if item.startswith(\"#\") else True for item in jpas]\n",
    "jpas_res = []\n",
    "for i in xrange(mask.count(False)):\n",
    "    try:\n",
    "        ini = mask.index(False); mask.remove(False)\n",
    "        fin = mask.index(False)\n",
    "        \n",
    "        jpas_res.append(np.array([eval(item.replace(\"  \", \",\")) for item in jpas[ini+1+i:fin+1+i]]))\n",
    "        \n",
    "    except ValueError:\n",
    "        jpas_res.append(np.array([eval(item.replace(\"  \", \",\")) for item in jpas[ini+1+i:]]))"
   ]
  },
  {
   "cell_type": "code",
   "execution_count": 4,
   "metadata": {
    "collapsed": false,
    "scrolled": true
   },
   "outputs": [],
   "source": [
    "if not snr_written:\n",
    "    random.seed(0)\n",
    "    for snr in [5, 15, 25]:\n",
    "        for file in sed_list:\n",
    "            f = pyf.open(sdir+\"SFHs_set3/\"+file)\n",
    "            wl, fl = f[1].data[\"Wavelength\"], f[1].data[\"Flux\"]\n",
    "\n",
    "            fli = interp(wls, wl, fl)\n",
    "            sgs = sg / sg[argmin(abs(wls-6800))] / snr * fli\n",
    "            fls = fli + random.randn(sg.size) * sgs\n",
    "\n",
    "            flj = array([integrated_flux(column_stack((wls, fls)), res) for res in jpas_res])\n",
    "            sgj = array([error_propagation(column_stack((wls, sgs)), res) for res in jpas_res])\n",
    "\n",
    "            savetxt(\"../inputs/tests/Z_migrations_snr/spec/\"+file.rstrip(\".fits.gz\")+\"_SPEC_snr{0}.txt\".format(snr), column_stack((wls, fls, sgs)))\n",
    "            savetxt(\"../inputs/tests/Z_migrations_snr/jpas/\"+file.rstrip(\".fits.gz\")+\"_JPAS_snr{0}.txt\".format(snr), column_stack((wlj, flj, sgj)))\n",
    "            \n",
    "    snr_written = True"
   ]
  },
  {
   "cell_type": "code",
   "execution_count": 5,
   "metadata": {
    "collapsed": false
   },
   "outputs": [],
   "source": [
    "if not rds_written:\n",
    "    random.seed(0)\n",
    "    for redshift in [0.050, 0.075, 0.100]:\n",
    "        for file in sed_list:\n",
    "            f = pyf.open(sdir+\"SFHs_set3/\"+file)\n",
    "            wl, fl = f[1].data[\"Wavelength\"], f[1].data[\"Flux\"]\n",
    "\n",
    "            wls_trim = wls[argmin(abs(wls-wls.min() / (1+redshift))):argmin(abs(wls-wls.max() / (1+redshift)))]\n",
    "            sg_trim = sg[argmin(abs(wls-wls.min() / (1+redshift))):argmin(abs(wls-wls.max() / (1+redshift)))]\n",
    "\n",
    "            fli = interp(wls_trim, wl, fl)\n",
    "            sgs = sg_trim / sg_trim[argmin(abs(wls_trim - 6800.0))] / 15.0 * fli\n",
    "            fls = fli + random.randn(sgs.size) * sgs\n",
    "\n",
    "            flj = array([integrated_flux(column_stack((wls_trim, fls)), res) for res in jpas_res])\n",
    "            sgj = array([error_propagation(column_stack((wls_trim, sgs)), res) for res in jpas_res])\n",
    "\n",
    "            savetxt(\"../inputs/tests/Z_migrations_trim/spec/\"+file.rstrip(\".fits.gz\")+\"_SPEC_rds{0}.txt\".format(\"{0:.3f}\".format(redshift).replace(\".\", \"p\")), column_stack((wls_trim, fls, sgs)))\n",
    "            savetxt(\"../inputs/tests/Z_migrations_trim/jpas/\"+file.rstrip(\".fits.gz\")+\"_JPAS_rds{0}.txt\".format(\"{0:.3f}\".format(redshift).replace(\".\", \"p\")), column_stack((wlj, flj, sgj)))\n",
    "        \n",
    "    rds_written = True"
   ]
  }
 ],
 "metadata": {
  "kernelspec": {
   "display_name": "Python 2",
   "language": "python",
   "name": "python2"
  },
  "language_info": {
   "codemirror_mode": {
    "name": "ipython",
    "version": 2
   },
   "file_extension": ".py",
   "mimetype": "text/x-python",
   "name": "python",
   "nbconvert_exporter": "python",
   "pygments_lexer": "ipython2",
   "version": "2.7.11"
  }
 },
 "nbformat": 4,
 "nbformat_minor": 0
}
