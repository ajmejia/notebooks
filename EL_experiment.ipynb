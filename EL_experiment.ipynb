{
 "metadata": {
  "name": ""
 },
 "nbformat": 3,
 "nbformat_minor": 0,
 "worksheets": [
  {
   "cells": [
    {
     "cell_type": "code",
     "collapsed": false,
     "input": [
      "import pyfits as pyf\n",
      "import os"
     ],
     "language": "python",
     "metadata": {},
     "outputs": [],
     "prompt_number": 1
    },
    {
     "cell_type": "code",
     "collapsed": false,
     "input": [
      "dir_sam = \"../inputs/real_deal6/\"\n",
      "\n",
      "flist = sorted([os.path.join(root, file) for root, subs, files in os.walk(dir_sam) for file in files if file.endswith(\".fit\")])[:900]\n",
      "\n",
      "ew, ew_err, cont = [], [], []\n",
      "for fit in flist:\n",
      "    f = pyf.open(fit)\n",
      "\n",
      "    ew.append(f[2].data[\"ew\"][30])\n",
      "    ew_err.append(f[2].data[\"ewErr\"][30])\n",
      "    cont.append(f[2].data[\"continuum\"][30])\n"
     ],
     "language": "python",
     "metadata": {},
     "outputs": [],
     "prompt_number": 26
    },
    {
     "cell_type": "code",
     "collapsed": false,
     "input": [
      "hist(ew, 20, lw=0)"
     ],
     "language": "python",
     "metadata": {},
     "outputs": [
      {
       "metadata": {},
       "output_type": "pyout",
       "prompt_number": 28,
       "text": [
        "(array([ 185.,  639.,   37.,   10.,    9.,    4.,    3.,    4.,    1.,\n",
        "          2.,    1.,    1.,    0.,    0.,    0.,    1.,    0.,    0.,\n",
        "          2.,    1.]),\n",
        " array([ -5.43698311,  -1.07641706,   3.28414898,   7.64471502,\n",
        "        12.00528107,  16.36584711,  20.72641315,  25.0869792 ,\n",
        "        29.44754524,  33.80811129,  38.16867733,  42.52924337,\n",
        "        46.88980942,  51.25037546,  55.61094151,  59.97150755,\n",
        "        64.33207359,  68.69263964,  73.05320568,  77.41377172,  81.77433777]),\n",
        " <a list of 20 Patch objects>)"
       ]
      },
      {
       "metadata": {},
       "output_type": "display_data",
       "png": "[encoded data removed]",
       "text": [
        "<matplotlib.figure.Figure at 0x7f5401defb50>"
       ]
      }
     ],
     "prompt_number": 28
    },
    {
     "cell_type": "code",
     "collapsed": false,
     "input": [],
     "language": "python",
     "metadata": {},
     "outputs": []
    }
   ],
   "metadata": {}
  }
 ]
}