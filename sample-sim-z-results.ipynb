{
 "cells": [
  {
   "cell_type": "markdown",
   "metadata": {},
   "source": [
    "#Photo-z Data Analysis\n",
    "\n",
    "##Purpose\n",
    "\n",
    "This notebook is intented to provide a complete analysis of the data generated during the photoz run of J-PAS spectra. There is\n",
    "about 1Gb of **output** data to analyze, plus xGb of input data that \"we already know very well\"...\n",
    "\n",
    "The idea is to explain the biases and uncertainties in the physical properties of distant galaxies (stellar mass, stellar age,\n",
    "stellar metallicity and dust content) retrieved via SED fitting. It is known now that biases and uncertainties for near galaxies\n",
    "($z=0$) are consequence of the well known degeneracies age-mass-metallicity-extinction. Now, for very far galaxies ($z\\geq 1$)\n",
    "the problem is expected to be more complicated because two main factors:\n",
    "\n",
    "* The effective wavelength coverage will be diminished as a consequence of the redshift.\n",
    "* The lack of evolution indicators in the UV, being this range dominated by newborn massive stars and by very old remnants of\n",
    "  intermediate stars.\n",
    "\n",
    "An *a priori* taste of this bittersweet can be taken if the distribution of the *angles* between SSPs at different redshifts (yes, up to the\n",
    "age of the universe at those redshifts) is shown as follows:"
   ]
  },
  {
   "cell_type": "code",
   "execution_count": null,
   "metadata": {
    "collapsed": true
   },
   "outputs": [],
   "source": []
  },
  {
   "cell_type": "markdown",
   "metadata": {},
   "source": [
    "As you can see...\n",
    "\n",
    "##The procedure\n",
    "\n",
    "We generated the whole output data by carrying a theorical-theorical analysis (TTA), which consist in contructing a bunch of synthetic data\n",
    "(to mimic the observed universe) and with **well known physical properties**, and then we try to retrieve those properties using our home-made\n",
    "spectral synthesis code: `DynBaS` (see Magris et al. (2014), in prep.).\n",
    "\n",
    "##The inputs\n",
    "\n",
    "We explore a considerable amount of the Star Formation History (SFH) space parameter generated using the\n",
    "<a href=\"http://arxiv.org/abs/1108.4719\">Chen et al. (2012)</a> recipe and the Stellar Population Synthesis (SPS) models of\n",
    "<a href=\"http://arxiv.org/abs/astro-ph/0309134\">Bruzual & Charlot (2003)</a> (BC03, hereafter). The recipe can be summarized as follows:\n",
    "\n",
    "* A Star Formation Rate (SFR) that consist in:\n",
    "  * An exponentially declining continuum star forming fase, parametrized by the initial onset of star formation, $t_\\text{form}$,\n",
    "    and the $e$-folding time, $\\tau$. This SFR can undergo a second fase that we call \"truncation\", in which the SFR suddenly begins\n",
    "    to slow down faster than before. It is parametrized with another exponential starting at the truncation time, $t_\\text{trunc}$,\n",
    "    and a $e$-folding time much more short (usually $<1$ Gyr).\n",
    "  * A burst of star formation that blends with the continuum part at any time, characterized by a starting time, $t_\\text{burst}$, a\n",
    "    duration time $t_\\text{ext}$, and an amplitude, $A\\equiv M_\\text{burst} / M_\\text{cont}$.\n",
    "* The dust content is parametrized following <a href=\"http://arxiv.org/abs/astro-ph/0003128\">Charlot & Fall (2000)</a>: the $V$-band\n",
    "  optical depth, $\\tau_V$, and the fraction of it that affects stars older than $10^7$ yr, $\\mu$.\n",
    "* The metallicities are interpolated from those available BC03 models, producing this way mono-metallic mock galaxies.\n",
    "\n",
    "For more details on the distributions of these parameters see <a href=\"http://arxiv.org/abs/1108.4719\">Chen et al. (2012)</a>.\n",
    "\n",
    "###The problem SEDs\n",
    "\n",
    "Each mock galaxy produced is then SED-fitted at different cosmic epochs. This mean, we pass each SED of the same mock galaxy, as seen at\n",
    "different redshifts (i.e., same galaxy with different ages, in the observer frame) and then compare the (known) input properties with the\n",
    "output of `DynBaS`.\n",
    "\n",
    "##The outputs"
   ]
  },
  {
   "cell_type": "code",
   "execution_count": 1,
   "metadata": {
    "collapsed": true
   },
   "outputs": [],
   "source": [
    "#LOAD THE BULK IN/OUT-PUT DATA\n",
    "\n",
    "import data_loader as dl\n",
    "\n",
    "indir       = \"inputs/photoz3/\"\n",
    "z           = append(arange(0.0, 1.0, 0.05), arange(1.0, 3.1, 0.1))\n",
    "zform_table = genfromtxt(indir+\"set3.zform\", dtype = None, names = True)\n",
    "zform_table = zform_table[lexsort((zform_table[\"zform\"], zform_table[\"Galaxy\"]))]\n",
    "SFH_IDs     = zform_table[\"Galaxy\"]\n",
    "zform       = {SFH_ID : zform for SFH_ID, zform in zip(SFH_IDs, zform_table[\"zform\"])}\n",
    "IDs_counts  = genfromtxt(indir+\"set3.counts\", dtype = None)\n",
    "IDs, counts = IDs_counts[\"f0\"], IDs_counts[\"f1\"]\n",
    "data_z      = {ID : dl.load_data(ID, count, n_trials = 50) for ID, count in zip(IDs, counts) if ID}\n",
    "z2ID        = {value : ID for value, ID in zip(z, IDs)}\n",
    "ID2z        = {ID : value for value, ID in zip(z, IDs)}\n",
    "\n",
    "del zform_table\n",
    "\n",
    "SFRs_z = {SFH_ID : {ID : loadtxt(indir+\"{0}_{1}.sfr\".format(SFH_ID, ID)) for ID in IDs if ID2z[ID]<zform[SFH_ID]} for SFH_ID in SFH_IDs}"
   ]
  },
  {
   "cell_type": "code",
   "execution_count": 18,
   "metadata": {
    "collapsed": false
   },
   "outputs": [],
   "source": [
    "#MAKE SOME PLOTS\n",
    "\n",
    "from matplotlib import rc\n",
    "\n",
    "rc(\"text\", usetex = False)\n",
    "\n",
    "fig, axs = subplots(5, 1, figsize = (20, 10), sharex = True, sharey = True)\n",
    "\n",
    "xlim(0., 3.)\n",
    "ylim(-1., +1.)\n",
    "\n",
    "xlabel(r\"Redshift\", fontsize = 12)\n",
    "\n",
    "for i, par in enumerate([\"M\", \"log_t_M\", \"log_t_L\", \"log_Z_M\", \"Av\"]) :\n",
    "    ave_res = array([mean(data_z[ID].residuals[par]) for ID in IDs])\n",
    "    std_res = array([std(data_z[ID].residuals[par]) for ID in IDs])\n",
    "    \n",
    "    axs[i].set_ylabel(r\"residual \" + par, fontsize = 12)\n",
    "    axs[i].errorbar(z, ave_res, std_res, fmt = \"-\", ecolor = \"#FF2100\", color = \"#6D6D6D\", lw = 1.5)\n",
    "    "
   ]
  },
  {
   "cell_type": "code",
   "execution_count": null,
   "metadata": {
    "collapsed": true
   },
   "outputs": [],
   "source": [
    "#ANALIZE AN INDIVIDUAL SFH\n",
    "\n",
    "SFH_ID = \"SSAG3022\"\n",
    "mask   = lambda ID : SFRs_z[SFH_ID][ID][:, 0] >= SFRs_z[SFH_ID][ID][:, 0].max() - 1e9\n",
    "\n",
    "t_obs      = np.array([SFRs_z[SFH_ID][ID][:, 0].max() for ID in sorted(SFRs_z[SFH_ID])])\n",
    "redshifts  = np.array([ID2z[ID] for ID in sorted(SFRs_z[SFH_ID])])\n",
    "mass_total = np.array([trapz(SFRs_z[SFH_ID][ID][:, 1], SFRs_z[SFH_ID][ID][:, 0]) for ID in sorted(SFRs_z[SFH_ID])])\n",
    "mass_1Myr  = np.array([trapz(SFRs_z[SFH_ID][ID][mask(ID), 1], SFRs_z[SFH_ID][ID][mask(ID), 0]) for ID in sorted(SFRs_z[SFH_ID])])\n",
    "residuals  = np.array([median(data_z[ID].get_SFH_residuals(\"{0}_{1}.jpas\".format(SFH_ID, ID))[\"M\"]) for ID in sorted(SFRs_z[SFH_ID])])"
   ]
  },
  {
   "cell_type": "markdown",
   "metadata": {},
   "source": [
    "##The outcome"
   ]
  }
 ],
 "metadata": {
  "kernelspec": {
   "display_name": "Python 2",
   "language": "python",
   "name": "python2"
  },
  "language_info": {
   "codemirror_mode": {
    "name": "ipython",
    "version": 2
   },
   "file_extension": ".py",
   "mimetype": "text/x-python",
   "name": "python",
   "nbconvert_exporter": "python",
   "pygments_lexer": "ipython2",
   "version": "2.7.11"
  }
 },
 "nbformat": 4,
 "nbformat_minor": 0
}
