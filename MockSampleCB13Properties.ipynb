{
 "cells": [
  {
   "cell_type": "code",
   "execution_count": 1,
   "metadata": {
    "collapsed": false
   },
   "outputs": [
    {
     "name": "stdout",
     "output_type": "stream",
     "text": [
      "Populating the interactive namespace from numpy and matplotlib\n"
     ]
    }
   ],
   "source": [
    "%pylab inline\n",
    "\n",
    "import os, paper_style"
   ]
  },
  {
   "cell_type": "code",
   "execution_count": 2,
   "metadata": {
    "collapsed": false
   },
   "outputs": [],
   "source": [
    "path = os.path.expandvars(\"$master/inputs/tta_cb13/set_cb13\")\n",
    "sfh_list = [\"SSAG{0:06d}_z0p00\".format(i+1) for i in xrange(140)]\n",
    "\n",
    "mass1gyr, mass1myr = [], []\n",
    "ur_rd, ur_nd, z_nd, t_nd = [], [], [], []\n",
    "for sfh in sfh_list:\n",
    "    t, sfr = loadtxt(\"{}/{}.sfr\".format(path, sfh), unpack=True)\n",
    "    sfh_pr = loadtxt(\"{}/{}nd.tparam\".format(path, sfh), usecols=(1,19))\n",
    "    col_nd = loadtxt(\"{}/{}nd.1ABmag\".format(path, sfh), usecols=(1,2,3,4,5))\n",
    "    col_rd = loadtxt(\"{}/{}.1ABmag\".format(path, sfh), usecols=(1,2,3,4,5))\n",
    "    \n",
    "    mass = (0.5*(sfr[1:]+sfr[:-1])*(t[1:]-t[:-1])).sum()\n",
    "\n",
    "    mass1myr.append((0.5*(sfr[1:]+sfr[:-1])*(t[1:]-t[:-1]))[t[1:]>=t.max()-1e6].sum()/mass)\n",
    "    mass1gyr.append((0.5*(sfr[1:]+sfr[:-1])*(t[1:]-t[:-1]))[t[1:]>=t.max()-1e9].sum()/mass)\n",
    "    z_nd.append(sfh_pr[0])\n",
    "    t_nd.append(sfh_pr[1])\n",
    "    ur_nd.append(col_nd[0]-col_nd[2])\n",
    "    ur_rd.append(col_rd[0]-col_rd[2])\n",
    "\n",
    "mass1myr = array(mass1myr)\n",
    "mass1gyr = array(mass1gyr)\n",
    "t_nd = array(t_nd)\n",
    "z_nd = log10(array(z_nd))\n",
    "ur_nd = array(ur_nd)\n",
    "ur_rd = array(ur_rd)"
   ]
  },
  {
   "cell_type": "code",
   "execution_count": 3,
   "metadata": {
    "collapsed": false
   },
   "outputs": [
    {
     "data": {
      "image/png": "[encoded data removed]",
      "text/plain": [
       "<matplotlib.figure.Figure at 0x7f2cf59caa50>"
      ]
     },
     "metadata": {},
     "output_type": "display_data"
    }
   ],
   "source": [
    "fig, ax = subplots(1, 1, figsize=(3.3,3.3))\n",
    "\n",
    "plot(ur_nd, mass1myr*100., \"ok\", ms=3, mew=0)\n",
    "plot(ur_rd, mass1myr*100., \"or\", ms=3, mew=0)\n",
    "axvline(2.22, ls=\"--\", color=\"b\")\n",
    "\n",
    "xlabel(r\"\\bf $u-r$\")\n",
    "ylabel(r\"\\bf last Myr mass fraction (\\%)\")\n",
    "\n",
    "tight_layout()"
   ]
  }
 ],
 "metadata": {
  "kernelspec": {
   "display_name": "Python 2",
   "language": "python",
   "name": "python2"
  },
  "language_info": {
   "codemirror_mode": {
    "name": "ipython",
    "version": 2
   },
   "file_extension": ".py",
   "mimetype": "text/x-python",
   "name": "python",
   "nbconvert_exporter": "python",
   "pygments_lexer": "ipython2",
   "version": "2.7.12"
  }
 },
 "nbformat": 4,
 "nbformat_minor": 0
}
