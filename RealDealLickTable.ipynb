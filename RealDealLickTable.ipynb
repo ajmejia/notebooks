{
 "cells": [
  {
   "cell_type": "code",
   "execution_count": 1,
   "metadata": {
    "collapsed": false
   },
   "outputs": [
    {
     "name": "stdout",
     "output_type": "stream",
     "text": [
      "Populating the interactive namespace from numpy and matplotlib\n"
     ]
    }
   ],
   "source": [
    "%pylab inline\n",
    "\n",
    "from astropy.io import fits\n",
    "import os\n",
    "\n",
    "from styles.colors import *\n",
    "from styles.slides import *"
   ]
  },
  {
   "cell_type": "code",
   "execution_count": 2,
   "metadata": {
    "collapsed": false
   },
   "outputs": [],
   "source": [
    "idir = os.path.expandvars(\"$phd/inputs/real_deal/fits\")\n",
    "\n",
    "fits_list = sorted([os.path.join(root, file) for root, subs, files in os.walk(idir) for file in files if file.endswith(\".fit\")])"
   ]
  },
  {
   "cell_type": "code",
   "execution_count": 3,
   "metadata": {
    "collapsed": true
   },
   "outputs": [],
   "source": [
    "index_names = [\n",
    "    \"4000Abreak\",\n",
    "    \"Lick_Hb\",\n",
    "    \"Lick_Mg2\",\n",
    "    \"Lick_Fe4531\",\n",
    "    \"Lick_Fe5015\",\n",
    "    \"Lick_Mgb\",\n",
    "    \"Lick_Fe5270\",\n",
    "    \"Lick_Fe5335\"\n",
    "]\n",
    "pos = {\n",
    "    \"4000Abreak\": (5, \"ew\", 34),\n",
    "    \"Lick_Hb\": (5, \"ew\", 8),\n",
    "    \"Lick_Mg2\": (5, \"mag\", 11),            #should be in mag\n",
    "    \"Lick_Fe4531\": (5, \"ew\", 6),\n",
    "    \"Lick_Fe5015\": (5, \"ew\", 9),\n",
    "    \"Lick_Mgb\": (5, \"mag\", 12),            #should be in mag\n",
    "    \"Lick_Fe5270\": (5, \"ew\", 13),\n",
    "    \"Lick_Fe5335\": (5, \"ew\", 14),\n",
    "    \"Hd\": (2, \"ew\", 24),\n",
    "    \"Hg\": (2, \"ew\", 26),\n",
    "    \n",
    "    \"4000Abreak_e\": (5, \"ewErr\", 34),\n",
    "    \"Lick_Hb_e\": (5, \"ewErr\", 8),\n",
    "    \"Lick_Mg2_e\": (5, \"magErr\", 11),            #should be in mag\n",
    "    \"Lick_Fe4531_e\": (5, \"ewErr\", 6),\n",
    "    \"Lick_Fe5015_e\": (5, \"ewErr\", 9),\n",
    "    \"Lick_Mgb_e\": (5, \"magErr\", 12),            #should be in mag\n",
    "    \"Lick_Fe5270_e\": (5, \"ewErr\", 13),\n",
    "    \"Lick_Fe5335_e\": (5, \"ewErr\", 14),\n",
    "    \"Hd_e\": (2, \"ewErr\", 24),\n",
    "    \"Hg_e\": (2, \"ewErr\", 26),\n",
    "}\n",
    "kws = [\"D4000\", \"Hbeta\", \"Hdg\", \"Mg2Fe\", \"MgFep\"]\n",
    "g05_index_ingredients = {\n",
    "    \"D4000\": (\"4000Abreak\",),\n",
    "    \"Hbeta\": (\"Lick_Hb\",),\n",
    "    \"Hdg\": (\"Hd\", \"Hg\"),\n",
    "    \"Mg2Fe\": (\"Lick_Mg2\", \"Lick_Fe4531\", \"Lick_Fe5015\"),\n",
    "    \"MgFep\": (\"Lick_Mgb\", \"Lick_Fe5270\", \"Lick_Fe5335\")\n",
    "}\n",
    "g05_index_ingredients_e = {\n",
    "    \"D4000\": (\"4000Abreak\", \"4000Abreak_e\"),\n",
    "    \"Hbeta\": (\"Lick_Hb_e\",),\n",
    "    \"Hdg\": (\"Hd_e\", \"Hg_e\"),\n",
    "    \"Mg2Fe\": (\"Lick_Mg2\", \"Mg2Fe\", \"Lick_Mg2_e\", \"Lick_Fe4531_e\", \"Lick_Fe5015_e\"),\n",
    "    \"MgFep\": (\"Lick_Mgb\", \"MgFep\", \"Lick_Mgb_e\", \"Lick_Fe5270_e\", \"Lick_Fe5335_e\")\n",
    "}\n",
    "g05_index_directions = {\n",
    "    \"D4000\": lambda D4000: 1./D4000,\n",
    "    \"Hbeta\": lambda Hb: Hb,\n",
    "    \"Hdg\": lambda Hd, Hg: Hd + Hg,\n",
    "    \"Mg2Fe\": lambda Mg2, Fe4531, Fe5015: 0.6*Mg2 + 0.4*log10(abs(Fe4531+Fe5015)),\n",
    "    \"MgFep\": lambda Mgb, Fe5270, Fe5335: sqrt(abs(Mgb*(0.72*Fe5270+0.28*Fe5335)))\n",
    "}\n",
    "g05_index_directions_e = {\n",
    "    \"D4000\": lambda D4000, D4000_e: 1./D4000**2*D4000_e,\n",
    "    \"Hbeta\": lambda Hb_e: Hb_e,\n",
    "    \"Hdg\": lambda Hd_e, Hg_e: sqrt(Hd_e**2 + Hg_e**2),\n",
    "    \"Mg2Fe\": lambda Mg2, Mg2Fe, Mg2_e, Fe4531_e, Fe5015_e: sqrt((0.6*Mg2_e)**2 + (0.4*Fe4531_e*10**(-Mg2Fe))**2 + (0.4*Fe5015_e*10**(-Mg2Fe))**2),\n",
    "    \"MgFep\": lambda Mgb, MgFep, Mgb_e, Fe5270_e, Fe5335_e: sqrt((MgFep*0.5/Mgb*Mgb_e)**2 + (0.72*Mgb*0.5/MgFep*Fe5270_e)**2 + (0.28*Mgb*0.5/MgFep*Fe5335_e)**2)\n",
    "}"
   ]
  },
  {
   "cell_type": "code",
   "execution_count": 4,
   "metadata": {
    "collapsed": false
   },
   "outputs": [],
   "source": [
    "g05_index = {\n",
    "    \"D4000\": [],\n",
    "    \"Hbeta\": [],\n",
    "    \"Hdg\": [],\n",
    "    \"Mg2Fe\": [],\n",
    "    \"MgFep\": []\n",
    "}\n",
    "g05_index_errors = {\n",
    "    \"D4000\": [],\n",
    "    \"Hbeta\": [],\n",
    "    \"Hdg\": [],\n",
    "    \"Mg2Fe\": [],\n",
    "    \"MgFep\": []\n",
    "}\n",
    "g05_table = []\n",
    "for file in fits_list:\n",
    "    f = fits.open(file)\n",
    "\n",
    "    for field in kws:\n",
    "        ingredients = ()\n",
    "        for ingredient in g05_index_ingredients[field]:\n",
    "            hdu, table, row = pos[ingredient]\n",
    "            ingredients += (f[hdu].data[table][row],)\n",
    "        g05_index[field] += [g05_index_directions[field](*ingredients)]\n",
    "        ingredients_e = ()\n",
    "        for ingredient in g05_index_ingredients_e[field]:\n",
    "            if ingredient==\"Mg2Fe\":\n",
    "                ingredients_e += (g05_index[ingredient][-1],)\n",
    "            elif ingredient==\"MgFep\":\n",
    "                ingredients_e += (g05_index[ingredient][-1],)\n",
    "            else:\n",
    "                hdu, table, row = pos[ingredient]\n",
    "                ingredients_e += (f[hdu].data[table][row],)\n",
    "        g05_index_errors[field] += [g05_index_directions_e[field](*ingredients_e)]"
   ]
  },
  {
   "cell_type": "code",
   "execution_count": 5,
   "metadata": {
    "collapsed": false
   },
   "outputs": [
    {
     "name": "stdout",
     "output_type": "stream",
     "text": [
      "Hdg: 0.491263576004\n",
      "Mg2Fe: 0.0980696651773\n",
      "Hbeta: 0.314397871494\n",
      "MgFep: 0.0453182593428\n",
      "D4000: 0.0167891783384\n"
     ]
    }
   ],
   "source": [
    "#These are the errors used in the G05 indexes plots\n",
    "for index in g05_index_ingredients: print \"{}: {}\".format(index, percentile(g05_index_errors[index], 50.))"
   ]
  },
  {
   "cell_type": "code",
   "execution_count": 6,
   "metadata": {
    "collapsed": false
   },
   "outputs": [],
   "source": [
    "fields = [\"input_file\", \"D4000\", \"Hbeta\", \"Hdg\", \"Mg2Fe\", \"MgFep\", \"D4000_err\", \"Hbeta_err\", \"Hdg_err\",\n",
    "          \"Mg2Fe_err\", \"MgFep_err\"]\n",
    "fmt = \"%25s\"+\"%13.5f\"*(len(fields)-1)\n",
    "\n",
    "g05_table = zeros(len(fits_list), dtype=zip(fields, [\"|S25\"]+[\"<f8\"]*(len(fields)-1)))\n",
    "g05_table[\"input_file\"] = map(lambda path: path.split(\"/\")[-1], fits_list)\n",
    "for field in fields[1:]:\n",
    "    if field.endswith(\"_err\"):\n",
    "        g05_table[field] = g05_index_errors[field[:-4]]\n",
    "    else:\n",
    "        g05_table[field] = g05_index[field]\n",
    "\n",
    "savetxt(\"data/RealDeal/G05_indexes_sample.txt\", g05_table, fmt, header=(\"%23s\"+\"%13s\"*(len(fields)-1))%tuple(fields))"
   ]
  }
 ],
 "metadata": {
  "kernelspec": {
   "display_name": "Python [default]",
   "language": "python",
   "name": "python2"
  },
  "language_info": {
   "codemirror_mode": {
    "name": "ipython",
    "version": 2
   },
   "file_extension": ".py",
   "mimetype": "text/x-python",
   "name": "python",
   "nbconvert_exporter": "python",
   "pygments_lexer": "ipython2",
   "version": "2.7.13"
  }
 },
 "nbformat": 4,
 "nbformat_minor": 1
}
