{
 "cells": [
  {
   "cell_type": "code",
   "execution_count": 1,
   "metadata": {
    "collapsed": false
   },
   "outputs": [
    {
     "name": "stdout",
     "output_type": "stream",
     "text": [
      "Populating the interactive namespace from numpy and matplotlib\n"
     ]
    }
   ],
   "source": [
    "%pylab inline\n",
    "\n",
    "import os\n",
    "from astropy.io import fits"
   ]
  },
  {
   "cell_type": "code",
   "execution_count": 4,
   "metadata": {
    "collapsed": false
   },
   "outputs": [
    {
     "name": "stdout",
     "output_type": "stream",
     "text": [
      "12933 12933\n"
     ]
    }
   ],
   "source": [
    "idir = os.path.expandvars(\"$phd/inputs/real_deal/fits\")\n",
    "odir = os.path.expandvars(\"$phd/inputs/real_deal/outs/spec\")\n",
    "\n",
    "fits_list = sorted([file for root, subs, files in os.walk(idir) for file in files if file.endswith(\".fit\")])\n",
    "\n",
    "spec_mod = genfromtxt(\"{}/dynbas_output.log\".format(odir), dtype=None, names=True)\n",
    "\n",
    "print len(fits_list), spec_mod.size\n"
   ]
  },
  {
   "cell_type": "code",
   "execution_count": 9,
   "metadata": {
    "collapsed": false
   },
   "outputs": [
    {
     "data": {
      "text/plain": [
       "SIMPLE  =                    T                                                  \n",
       "BITPIX  =                  -32                                                  \n",
       "NAXIS   =                    2                                                  \n",
       "NAXIS1  =                 3846                                                  \n",
       "NAXIS2  =                    5                                                  \n",
       "EXTEND  =                    T /                                                \n",
       "TAI     =        4716777628.69 / 1st row Number of seconds since Nov 17 1858    \n",
       "RA      =            233.89475 / 1st row RA of telescope boresight (deg)        \n",
       "DEC     =            15.189626 / 1st row Dec of telescope boresight (degrees)   \n",
       "EQUINOX =              2000.00 /                                                \n",
       "RADECSYS= 'FK5     '           /                                                \n",
       "AZ      =        345.592120000 / 1st row Azimuth (encoder) of tele (0=N?) (deg) \n",
       "ALT     =        71.6385956667 / 1st row Altitude (encoder) of tele (degrees)   \n",
       "AIRMASS =              1.05388 /                                                \n",
       "FOCUS   =            0.000000  / 1st row - Focus piston (microns?)              \n",
       "DATE-OBS= '2008-05-06'         / 1st row - TAI date                             \n",
       "TAIHMS  = '07:44:33.86'        / 1st row TAI time HH:MM:SS.SS                   \n",
       "DATASUM = '2095171524'         / Data checksum created 2008-05-06T07:45:31      \n",
       "CHECKSUM= 'Z3YYd0XXZ0XXd0XX'   / HDU checksum created 2008-05-06T07:45:31       \n",
       "TIMESYS = 'tai     '           / TAI, not UTC                                   \n",
       "TAI-BEG =        4716775391.00 / Exposure Start Time                            \n",
       "TAI-END =        4716778599.00 / Exposure End Time                              \n",
       "MJD     =                54592 / MJD of observation                             \n",
       "MJDLIST = '54592   '           /                                                \n",
       "VERSION = 'v4_38_0 '           / version of IOP                                 \n",
       "CAMVER  = 'SPEC1 v4_8'         / Camera code version                            \n",
       "OBSERVER= 'elenam  '                                                            \n",
       "OBSCOMM = 'science '                                                            \n",
       "TELESCOP= 'SDSS 2.5-M'         / Sloan Digital Sky Survey                       \n",
       "NEXP    =                   12 / Number of exposures in this file               \n",
       "BESTEXP =                52601 /                                                \n",
       "EXPID01 = 'b1-00052601-00052599-00052600' / ID string for exposure 1            \n",
       "EXPID02 = 'b1-00052602-00052599-00052600' / ID string for exposure 2            \n",
       "EXPID03 = 'b1-00052603-00052599-00052600' / ID string for exposure 3            \n",
       "EXPID04 = 'b2-00052601-00052599-00052600' / ID string for exposure 4            \n",
       "EXPID05 = 'b2-00052602-00052599-00052600' / ID string for exposure 5            \n",
       "EXPID06 = 'b2-00052603-00052599-00052600' / ID string for exposure 6            \n",
       "EXPID07 = 'r1-00052601-00052599-00052600' / ID string for exposure 7            \n",
       "EXPID08 = 'r1-00052602-00052599-00052600' / ID string for exposure 8            \n",
       "EXPID09 = 'r1-00052603-00052599-00052600' / ID string for exposure 9            \n",
       "EXPID10 = 'r2-00052601-00052599-00052600' / ID string for exposure 10           \n",
       "EXPID11 = 'r2-00052602-00052599-00052600' / ID string for exposure 11           \n",
       "EXPID12 = 'r2-00052603-00052599-00052600' / ID string for exposure 12           \n",
       "NEXP_B1 =                    3 / b1 camera number of exposures                  \n",
       "NEXP_B2 =                    3 / b2 camera number of exposures                  \n",
       "NEXP_R1 =                    3 / r1 camera number of exposures                  \n",
       "NEXP_R2 =                    3 / r2 camera number of exposures                  \n",
       "EXPT_B1 =              2807.00 / b1 camera exposure time (seconds)              \n",
       "EXPT_B2 =              2807.00 / b2 camera exposure time (seconds)              \n",
       "EXPT_R1 =              2807.00 / r1 camera exposure time (seconds)              \n",
       "EXPT_R2 =              2807.00 / r2 camera exposure time (seconds)              \n",
       "EXPTIME =              2807.00 / Minimum of exposure times for all cameras      \n",
       "SPCOADD = 'Tue May  6 12:17:25 2008' / SPCOADD finished                         \n",
       "FLAVOR  = 'science '           / Flavor of this sequence (e.g., dome f          \n",
       "QUALITY = 'excellent'          / night/image quality                            \n",
       "RADEG   = 2.33894900000000E+02 / Right Ascension. (degrees)                     \n",
       "DECDEG  = 1.51897200000000E+01 / Declination. (degrees)                         \n",
       "PLATEID =                 2782 / Plate Id                                       \n",
       "TILEID  =                 1899 / Tile Id                                        \n",
       "CARTID  =                    3 /Cartridge used in this plugging                 \n",
       "REDDEN  = '0.0824 0.0606 0.0440 0.0333 0.0236' / Median reddening vector for pla\n",
       "MAPID   =              5459001 / Map Id                                         \n",
       "NAME    = '2782-54590-01'      / Name of target; PlateId-MJD-Mapper Re          \n",
       "NGUIDE  =              51.0000 / Number of guider frames during exposure        \n",
       "SEEING20=       0.980000000000 / 20% seeing during exposure (arcsec)            \n",
       "SEEING50=              1.06667 / 50% seeing during exposure (arcsec)            \n",
       "SEEING80=              1.17333 / 80% seeing during exposure (arcsec)            \n",
       "RMSOFF20=       0.198745666667 / 20% RMS offset of guide fibers (arcsec)        \n",
       "RMSOFF50=       0.370641333333 / 50% RMS offset of guide fibers (arcsec)        \n",
       "RMSOFF80=       0.535318666667 / 80% RMS offset of guide fibers (arcsec)        \n",
       "COLBIN  =                    1 / Binning factor perpendicular to the c          \n",
       "ROWBIN  =                    1 / Binning factor perpendicular to the r          \n",
       "PROGRAM = 'binning 1   1 '     / Identifying name for CCD program               \n",
       "SECFOCUS= 0.00000000000000E+00 / Secondary Mirror Position as reported          \n",
       "GUIDEIMG= '/data/spectro/guider/gimg0211.fits' / Last archived guider image     \n",
       "WTIME   =        1210060626.33 / weatherData(timeStamp)                         \n",
       "AIRTEMP =        9.90000000000 / weatherData(airtemp)                           \n",
       "DEWPOINT=       -5.10000000000 / weatherData(dewpoint)                          \n",
       "DEWDEP  =        15.0333333333 / weatherData(dewpointDep)                       \n",
       "DUSTA   =        66274.3333333 / weatherData(dusta)                             \n",
       "DUSTB   =        2588.33333333 / weatherData(dustb)                             \n",
       "DUSTC   =        37433.3333333 / weatherData(dustc)                             \n",
       "DUSTD   =        1405.33333333 / weatherData(dustd)                             \n",
       "GUSTD   = 2.35100000000000E+02 / weatherData(gustd)                             \n",
       "GUSTS   =        9.63333333333 / weatherData(gusts)                             \n",
       "HUMIDITY=        34.5000000000 / weatherData(humidity)                          \n",
       "HUMIDOUT=        34.6666666667 / weatherData(humidout)                          \n",
       "PRESSURE=        21.4350000000 / weatherData(pressure)                          \n",
       "WINDD   =        256.233333333 / weatherData(windd)                             \n",
       "WINDS   =        7.23333333333 / weatherData(winds)                             \n",
       "MC1HUMHT= 2.35000000000000E+01 / sp1 mech hartmann humidity                     \n",
       "MC1HUMCO= 1.83000000000000E+01 / sp1 mech cen opt humidity                      \n",
       "MC1TEMDN= 1.14000000000000E+01 / sp1 mech median temp                           \n",
       "MC1THT  = 1.06000000000000E+01 / sp1 mech Temp_Hartmann_Top                     \n",
       "MC1TRCB = 1.12000000000000E+01 / sp1 mech Temp_Red_Cam_Bot                      \n",
       "MC1TRCT = 1.18000000000000E+01 / sp1 mech Temp_Red_Cam_Top                      \n",
       "MC1TBCB = 1.13000000000000E+01 / sp1 mech Temp_Blue_Cam_Bot                     \n",
       "MC1TBCT = 1.14000000000000E+01 / sp1 mech Temp_Blue_Cam_Top                     \n",
       "MC2HUMHT= -2.5600000000000E+01 / sp2 mech hartmann humidity                     \n",
       "MC2HUMCO= 1.78000000000000E+01 / sp2 mech cen opt humidity                      \n",
       "MC2TEMDN= 9.70000000000000E+00 / sp2 mech median temp                           \n",
       "MC2THT  = 1.02000000000000E+01 / sp2 mech Temp_Hartmann_Top                     \n",
       "MC2TRCB = 1.02000000000000E+01 / sp2 mech Temp_Red_Cam_Bot                      \n",
       "MC2TRCT = 9.70000000000000E+00 / sp2 mech Temp_Red_Cam_Top                      \n",
       "MC2TBCB = 9.70000000000000E+00 / sp2 mech Temp_Blue_Cam_Bot                     \n",
       "MC2TBCT = 1.00000000000000E+01 / sp2 mech Temp_Blue_Cam_Top                     \n",
       "TEMP01  =       -93.4900000000 / CCD 01 Temperature                             \n",
       "TEMP02  =       -93.3600000000 / CCD 02 Temperature                             \n",
       "TEMP03  =       -92.8400000000 / CCD 03 Temperature                             \n",
       "TEMP04  =       -92.5800000000 / CCD 04 Temperature                             \n",
       "VERSIDL = '6.3     '           / Version of IDL                                 \n",
       "VERSUTIL= 'v5_3_0  '           / Version of idlutils                            \n",
       "VERSREAD= 'v5_3_12 '           / Version of idlspec2d for pre-processing raw dat\n",
       "VERS2D  = 'v5_3_12 '           / Version of idlspec2d for 2D reduction          \n",
       "VERSCOMB= 'v5_3_12 '           / Version of idlspec2d for combining multiple spe\n",
       "VERSLOG = 'fermi-CVS 05/06/08' / Version of SPECLOG product                     \n",
       "VERSFLAT= 'v1_7    '           / Version of SPECFLAT product                    \n",
       "OPBC    = 'opBC-51813.par'     /                                                \n",
       "OPCONFIG= 'opConfig-50000.par' /                                                \n",
       "OPECALIB= 'opECalib-51577.par' /                                                \n",
       "XSIGMA  =       0.981930267233 /                                                \n",
       "XSIGMIN =       0.938146000000 /                                                \n",
       "XSIGMAX =        1.00783002377 /                                                \n",
       "WSIGMA  =       0.915692246338 /                                                \n",
       "WSIGMIN =       0.868112000000 /                                                \n",
       "WSIGMAX =        1.02210998535 /                                                \n",
       "PLUGFILE= 'plPlugMapM-2782-54590-01.par' /                                      \n",
       "LAMPLIST= 'lamphgcdne.dat'     /                                                \n",
       "SKYLIST = 'skylines.dat'       /                                                \n",
       "HELIO_RV=      -0.752474421290 / Heliocentric correction (added to velocities)  \n",
       "VACUUM  =                    T / Wavelengths are in vacuum                      \n",
       "SFLATTEN=                    T / Superflat has been applied                     \n",
       "PSFSKY  =                    3 / Order of PSF skysubtraction                    \n",
       "SKYCHI2 =        1.11642289181 / Mean chi^2 of sky-subtraction                  \n",
       "SCHI2MIN=        1.07531677655 /                                                \n",
       "SCHI2MAX=        1.19339796527 /                                                \n",
       "PREJECT =             0.200000 / Profile area rejection threshold               \n",
       "SPEC1_G =              20.3555 /(S/N)^2 for spec  1 at mag 20.20                \n",
       "SPEC1_R =              20.6062 /(S/N)^2 for spec  1 at mag 20.25                \n",
       "SPEC1_I =              18.4000 /(S/N)^2 for spec  1 at mag 19.90                \n",
       "SPEC2_G =              22.4764 /(S/N)^2 for spec  2 at mag 20.20                \n",
       "SPEC2_R =              25.4348 /(S/N)^2 for spec  2 at mag 20.25                \n",
       "SPEC2_I =              19.7507 /(S/N)^2 for spec  2 at mag 19.90                \n",
       "NSTD    =                   16 / Number of (good) std stars                     \n",
       "GOFFSTD =           -0.0567665 / Spectrophoto offset for std stars in G-band    \n",
       "GRMSSTD =            0.0564514 / Spectrophoto RMS for std stars in G-band       \n",
       "ROFFSTD =           -0.0294337 / Spectrophoto offset for std stars in R-band    \n",
       "RRMSSTD =            0.0510092 / Spectrophoto RMS for std stars in R-band       \n",
       "IOFFSTD =           -0.0171199 / Spectrophoto offset for std stars in I-band    \n",
       "IRMSSTD =            0.0498955 / Spectrophoto RMS for std stars in I-band       \n",
       "GROFFSTD=           -0.0227976 / Spectrophoto offset for std stars in (GR)      \n",
       "GRRMSSTD=            0.0311991 / Spectrophoto RMS for std stars in (GR)         \n",
       "RIOFFSTD=          -0.00879526 / Spectrophoto offset for std stars in (RI)      \n",
       "RIRMSSTD=            0.0216760 / Spectrophoto RMS for std stars in (RI)         \n",
       "NGAL    =                  339 / Number of (good) main galaxies                 \n",
       "GOFFGAL =           0.00623322 / Spectrophoto offset for main galaxies in G-band\n",
       "GRMSGAL =            0.0558819 / Spectrophoto RMS for main galaxies in G-band   \n",
       "ROFFGAL =           0.00253582 / Spectrophoto offset for main galaxies in R-band\n",
       "RRMSGAL =            0.0468111 / Spectrophoto RMS for main galaxies in R-band   \n",
       "IOFFGAL =           0.00445080 / Spectrophoto offset for main galaxies in I-band\n",
       "IRMSGAL =            0.0518183 / Spectrophoto RMS for main galaxies in I-band   \n",
       "GROFFGAL=          0.000499725 / Spectrophoto offset for main galaxies in (GR)  \n",
       "GRRMSGAL=            0.0313303 / Spectrophoto RMS for main galaxies in (GR)     \n",
       "RIOFFGAL=          -0.00489998 / Spectrophoto offset for main galaxies in (RI)  \n",
       "RIRMSGAL=            0.0197749 / Spectrophoto RMS for main galaxies in (RI)     \n",
       "LOWREJ  =                    5 / Extraction: low rejection                      \n",
       "HIGHREJ =                    8 / Extraction: high rejection                     \n",
       "SCATPOLY=                    0 / Extraction: Order of scattered light polynomial\n",
       "PROFTYPE=                    3 / Extraction profile: 1=Gaussian                 \n",
       "NFITPOLY=                    1 / Extraction: Number of parameters in each profil\n",
       "XCHI2   =              1.22627 / Extraction: Mean chi^2                         \n",
       "XCHI2MIN=              1.08501 /                                                \n",
       "XCHI2MAX=              1.43659 /                                                \n",
       "SHIFTGUE=   -0.000812781513105 /                                                \n",
       "SHIFT   =       0.183201688447 /Angstroms, at 4000AA                            \n",
       "SHIFTERR=        1.24308407106 /                                                \n",
       "NWORDER =                    2 / Linear-log10 coefficients                      \n",
       "WFITTYPE= 'LOG-LINEAR'         / Linear-log10 dispersion                        \n",
       "UNAME   = 'fnpc308.fnal.gov'   /                                                \n",
       "FBADPIX =            0.0162402 / Fraction of bad pixels                         \n",
       "FBADPIX1=            0.0123625 / Fraction of bad pixels on spectro-1            \n",
       "FBADPIX2=            0.0200813 / Fraction of bad pixels on spectro-2            \n",
       "WAT0_001= 'system=linear'      /                                                \n",
       "WAT1_001= 'wtype=linear label=Wavelength units=Angstroms' /                     \n",
       "CRPIX1  =                    1 / Starting pixel (1-indexed)                     \n",
       "CTYPE1  = 'LINEAR  '           /                                                \n",
       "DC-FLAG =                    1 / Log-linear flag                                \n",
       "PIXMIN  = 0.00000000000000E+00 / Place Holder                                   \n",
       "PIXMAX  = 2.04700000000000E+03 / Place Holder                                   \n",
       "ARRAY1  = 'SPECTRUM'           / units of (10^-17 erg/s/cm^2/A                  \n",
       "ARRAY2  = 'CONTINUUM-SUBTRACTED SPECTRUM' / units of 10^-17 erg/s/cm^2/A        \n",
       "ARRAY3  = 'ERROR   '           / units of 10^-17 erg/s/cm^2/A                   \n",
       "ARRAY4  = 'MASK    '           / mask bit array                                 \n",
       "BUNIT   = '1.0E-17 erg/cm/s/Ang' / units                                        \n",
       "SN_G    = 1.33878000000000E+01 / Median S/N ration ig g'                        \n",
       "MAG_G   =            18.610329 / Synthetic magnitude in g' (corrected)          \n",
       "SN_R    = 2.24351000000000E+01 / Median S/N ratio in r'                         \n",
       "MAG_R   =            17.851664 / Synthetic magnitude in r' (corrected)          \n",
       "SN_I    = 2.29528000000000E+01 / Median S/N ratio in i'                         \n",
       "MAG_I   =            17.416311 / Synthetic magnitude in i' (corrected)          \n",
       "SCI_SN  = -9.9990000000000E+03 / Science signal to noise ratio                  \n",
       "SMEAR_SN= -9.9990000000000E+03 / Smear signal to noise ratio                    \n",
       "SM_LEG_0= -9.9990000000000E+03 / 1st legendre coeff. for smear correct          \n",
       "SM_LEG_1= -9.9990000000000E+03 / 2nd legendre coeff. for smear correct          \n",
       "SM_LEG_2= -9.9990000000000E+03 / 3rd legendre coeff. for smear correct          \n",
       "OBJID   = ' 5183 40 3 657 191' / run rerun camcol field objID                   \n",
       "MAG     = ' 20.286 18.9407 18.2303 17.8048 17.5271' / fiber Mags                \n",
       "OBJTYPE = 'GALAXY  '           / object Type                                    \n",
       "RAOBJ   = 2.33304170000000E+02 / RA(deg) of object                              \n",
       "DECOBJ  = 1.53447110000000E+01 / DEC(deg) of object                             \n",
       "XFOCAL  = -1.2395819000000E+02 / X position in Focal plane                      \n",
       "YFOCAL  = 3.39134560000000E+01 / Y position in focal plane                      \n",
       "PRIMTARG=                   64 / primary Target Flag                            \n",
       "SECTARGE=                    0 / Secondary Target Flag                          \n",
       "FIBERID =                  437 / fiber ID                                       \n",
       "SPECID  =                    2 / spectrograph ID                                \n",
       "SCIEXPTI= 0.00000000000000E+00 /                                                \n",
       "CALIB   = ' 10.7016 34.3016 68.0553 101.621 132.937' /                          \n",
       "CALIBVAR= ' 4.33918 16.9364 6.72544 3.23729 0.486391' /                         \n",
       "SFD_EBV = 4.24667000000000E-02 /                                                \n",
       "NGOOD   =                 3840 / Number of Good Pixels                          \n",
       "VERS_1D = 'v5_13   '           / Version of Spectro1d                           \n",
       "BESTTEMP=                   24 / Best cross-correlation template                \n",
       "COEFF0  = 3.58030000000000E+00 / Center wavelength (log10) of first pi          \n",
       "COEFF1  = 1.00000000000000E-04 / Log10 dispersion per pixel                     \n",
       "CRVAL1  = 3.58030000000000E+00 / Iraf zero point                                \n",
       "CD1_1   = 1.00000000000000E-04 / Iraf dispersion                                \n",
       "1D_PDATE= '05/06/08:17:06:34'  / 1D Processing/last Modification date           \n",
       "SPEC_CLN=                    2 / Spectral Classn                                \n",
       "VEL_DIS = -9.9990000000000E+03 / Velocity dispersion (km/s)                     \n",
       "VEL_DISE= -9.9990000000000E+03 / Error on Velocity Dispersion (km/s)            \n",
       "Z       = 7.62284000000000E-02 / Final redshift                                 \n",
       "Z_ERR   = 9.91250000000000E-05 / Redshift error                                 \n",
       "Z_CONF  = 9.67128000000000E-01 / Redshift confidence                            \n",
       "Z_STATUS=                    3 / Redshift Status                                \n",
       "Z_WARNIN=                  512 / Redshift Warning Flags                         \n",
       "ECLASS  = 1.23458000000000E-02 / galaxy classification parameter                \n",
       "ECOEFF1 = 9.96289000000000E-01 / 1st expansion coefficient                      \n",
       "ECOEFF2 = -1.2300600000000E-02 / 2nd expansion coefficient                      \n",
       "ECOEFF3 = -6.3775000000000E-02 / 3rd expansion coefficient                      \n",
       "ECOEFF4 = -4.9287700000000E-02 / 4th expansion coefficient                      \n",
       "ECOEFF5 = 2.75736000000000E-02 / 5th expansion coefficient                      "
      ]
     },
     "execution_count": 9,
     "metadata": {},
     "output_type": "execute_result"
    }
   ],
   "source": [
    "f = fits.open(\"{}/{}\".format(idir,fit))\n",
    "f[0].header"
   ]
  },
  {
   "cell_type": "code",
   "execution_count": 16,
   "metadata": {
    "collapsed": true
   },
   "outputs": [],
   "source": [
    "mask = ones(spec_mod.size, dtype=np.bool)\n",
    "LOSVD_obs = []\n",
    "LOSVD_mod = sqrt(spec_mod[\"LOSVD_mod\"]**2)\n",
    "\n",
    "for i, fit in enumerate(fits_list):\n",
    "    f = fits.open(\"{}/{}\".format(idir,fit))\n",
    "    \n",
    "    if f[0].header[\"VEL_DIS\"]<=0:\n",
    "        mask[i] = False\n",
    "        continue\n",
    "    \n",
    "    LOSVD_obs.append(f[0].header[\"VEL_DIS\"])\n",
    "    \n",
    "LOSVD_obs = array(LOSVD_obs)"
   ]
  },
  {
   "cell_type": "code",
   "execution_count": 19,
   "metadata": {
    "collapsed": false
   },
   "outputs": [
    {
     "data": {
      "text/plain": [
       "(array([ 3099.,  3036.,  2764.,  1774.,  1270.,   504.,   316.,    94.,\n",
       "           61.,    15.]),\n",
       " array([  40.   ,   80.995,  121.99 ,  162.985,  203.98 ,  244.975,\n",
       "         285.97 ,  326.965,  367.96 ,  408.955,  449.95 ]),\n",
       " <a list of 10 Patch objects>)"
      ]
     },
     "execution_count": 19,
     "metadata": {},
     "output_type": "execute_result"
    },
    {
     "data": {
      "image/png": "[encoded data removed]",
      "text/plain": [
       "<matplotlib.figure.Figure at 0x7f6ad4e2a1d0>"
      ]
     },
     "metadata": {},
     "output_type": "display_data"
    }
   ],
   "source": [
    "hist(LOSVD_mod)"
   ]
  },
  {
   "cell_type": "code",
   "execution_count": 11,
   "metadata": {
    "collapsed": false
   },
   "outputs": [
    {
     "data": {
      "text/plain": [
       "[<matplotlib.lines.Line2D at 0x7f6ad52eee90>]"
      ]
     },
     "execution_count": 11,
     "metadata": {},
     "output_type": "execute_result"
    },
    {
     "data": {
      "image/png": "[encoded data removed]",
      "text/plain": [
       "<matplotlib.figure.Figure at 0x7f6ad52eef90>"
      ]
     },
     "metadata": {},
     "output_type": "display_data"
    }
   ],
   "source": [
    "plot(LOSVD_obs, LOSVD_mod[mask], \".r\")\n",
    "plot([0,450], [0,450], \"--k\")"
   ]
  }
 ],
 "metadata": {
  "kernelspec": {
   "display_name": "Python [default]",
   "language": "python",
   "name": "python2"
  },
  "language_info": {
   "codemirror_mode": {
    "name": "ipython",
    "version": 2
   },
   "file_extension": ".py",
   "mimetype": "text/x-python",
   "name": "python",
   "nbconvert_exporter": "python",
   "pygments_lexer": "ipython2",
   "version": "2.7.12"
  }
 },
 "nbformat": 4,
 "nbformat_minor": 1
}
