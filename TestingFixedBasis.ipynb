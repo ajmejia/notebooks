{
 "cells": [
  {
   "cell_type": "code",
   "execution_count": null,
   "metadata": {
    "collapsed": false
   },
   "outputs": [],
   "source": [
    "%pylab inline\n",
    "\n",
    "import scipy.linalg as linear\n",
    "from scipy.optimize import nnls\n",
    "from numpy.linalg import matrix_rank\n",
    "import pres_style"
   ]
  },
  {
   "cell_type": "code",
   "execution_count": null,
   "metadata": {
    "collapsed": false
   },
   "outputs": [],
   "source": [
    "def gauss_elimination(A):\n",
    "    M = copy(A)\n",
    "    \n",
    "    m, n = M.shape\n",
    "    for k in xrange(min([m, n])):\n",
    "        imax = argmax(M[k:, k])\n",
    "        if M[imax, k] == 0.0: raise ValueError\n",
    "        #k = imax\n",
    "        for i in xrange(k+1, m):\n",
    "            for j in xrange(k+1, n):\n",
    "                M[i, j] = M[i, j] - M[k, j]*(M[i, k]/M[k, k])\n",
    "            M[i, k] = 0.0\n",
    "    return M\n",
    "\n",
    "def back_substitution(U, n=None):\n",
    "    if n==None: n = U.shape[0]\n",
    "    M = U[:, :n]\n",
    "    b = U[:, n]\n",
    "    x = zeros(n)\n",
    "    for i in xrange(n-1, -1, -1):\n",
    "        x[i] = (1./M[i, i])*(b[i]-sum(M[i, i+1:]*x[i+1:]))\n",
    "    return x"
   ]
  },
  {
   "cell_type": "code",
   "execution_count": null,
   "metadata": {
    "collapsed": false
   },
   "outputs": [],
   "source": [
    "M = array([[2, 1, -1], [-3, -1, 2], [-2, 1, 2]], dtype=float)\n",
    "b = array([8, -11, -3], dtype=float)\n",
    "\n",
    "Mb = column_stack((M, b))\n",
    "U  = gauss_elimination(Mb)\n",
    "print U\n",
    "\n",
    "print back_substitution(U)"
   ]
  },
  {
   "cell_type": "code",
   "execution_count": null,
   "metadata": {
    "collapsed": false
   },
   "outputs": [],
   "source": [
    "#READ MODELS\n",
    "models = loadtxt(\"../../mateu+2015/bc2003_hr_stelib_m62_chab_ssp.ised\")[:, :5]\n",
    "wl = models[:, 0]\n",
    "M  = copy(models[:, 1:])\n",
    "\n",
    "rw = array(range(1, 5))/10.\n",
    "O  = dot(M, rw)\n",
    "\n",
    "sigma = O/1e1\n",
    "O = O + random.randn(wl.size)*sigma\n",
    "#O /= sigma\n",
    "#M /= repeat(reshape(sigma, (sigma.size, 1)), M.shape[1], 1)\n",
    "\n",
    "#APPLY GAUSSIAN ELIMINATION\n",
    "MO = column_stack((M, O))                   #This is the augmented matrix (M|O)\n",
    "\n",
    "U  = gauss_elimination(M)\n",
    "UO = gauss_elimination(MO)\n",
    "\n",
    "#CLASSIFY\n",
    "N_w     = size(rw)\n",
    "rank_M  = matrix_rank(U)\n",
    "rank_MO = matrix_rank(UO)\n",
    "\n",
    "print N_w, rank_M, rank_MO"
   ]
  },
  {
   "cell_type": "code",
   "execution_count": null,
   "metadata": {
    "collapsed": false
   },
   "outputs": [],
   "source": [
    "weights = back_substitution(UO, rank_M)\n",
    "w_lsq   = linear.lstsq(M, O)[0]\n",
    "w_nnls  = nnls(M, O)[0]\n",
    "\n",
    "print \"{0:>12s} {1:>12s} {2:>12s} {3:>12s}\".format(\"Real\", \"GE-BS\", \"LS\", \"NNLS\")\n",
    "for i in xrange(rw.size):\n",
    "    print \"{0:12.2e} {1:12.2e} {2:12.2e} {3:12.2e}\".format(rw[i], weights[i], w_lsq[i], w_nnls[i])\n",
    "\n",
    "plot(wl, array([sum(models[i, 1:]*rw) for i in xrange(wl.size)]), \"-k\", lw=3, label=\"Real\")\n",
    "#plot(wl, array([sum(models[i, 1:]*weights) for i in xrange(wl.size)]), \"-\", label=\"GE-BS\")\n",
    "plot(wl, array([sum(models[i, 1:]*w_lsq) for i in xrange(wl.size)]), \"-\", label=\"LS\")\n",
    "plot(wl, array([sum(models[i, 1:]*w_nnls) for i in xrange(wl.size)]), \"-\", label=\"NNLS\")\n",
    "\n",
    "legend(loc=0)\n",
    "\n",
    "xlabel(\"Wavelength\")\n",
    "ylabel(\"Flux\")"
   ]
  },
  {
   "cell_type": "code",
   "execution_count": null,
   "metadata": {
    "collapsed": false
   },
   "outputs": [],
   "source": [
    "wli = array([0, 400, 900, 1400, 1900, 2400, 2900, 3400, 3900, 4400, 4900, 5400], dtype=int)\n",
    "\n",
    "#READ MODELS\n",
    "models = loadtxt(\"../../mateu+2015/bc2003_hr_stelib_m62_chab_ssp.ised\")[:, :8]\n",
    "wl = models[wli, 0]\n",
    "M  = copy(models[wli, 1:])\n",
    "\n",
    "rw = array(range(1, 8))/10.\n",
    "O  = dot(M, rw)\n",
    "\n",
    "sigma = O/20.\n",
    "O = O + random.randn(wl.size)*sigma\n",
    "O /= sigma\n",
    "M /= repeat(reshape(sigma, (sigma.size, 1)), M.shape[1], 1)\n",
    "\n",
    "#APPLY GAUSSIAN ELIMINATION\n",
    "MO = column_stack((M, O))                   #This is the augmented matrix (M|O)\n",
    "\n",
    "U  = gauss_elimination(M)\n",
    "UO = gauss_elimination(MO)\n",
    "\n",
    "#CLASSIFY\n",
    "N_w     = size(rw)\n",
    "rank_M  = matrix_rank(U)\n",
    "rank_MO = matrix_rank(UO)\n",
    "\n",
    "print N_w, rank_M, rank_MO"
   ]
  },
  {
   "cell_type": "code",
   "execution_count": null,
   "metadata": {
    "collapsed": false
   },
   "outputs": [],
   "source": [
    "weights = back_substitution(UO, rank_M)\n",
    "w_lsq   = linear.lstsq(M, O)[0]\n",
    "w_nnls  = nnls(M, O)[0]\n",
    "\n",
    "print \"{0:>12s} {1:>12s} {2:>12s} {3:>12s}\".format(\"Real\", \"GE-BS\", \"LS\", \"NNLS\")\n",
    "for i in xrange(12): print \"{0:12.2e} {1:12.2e} {2:12.2e} {3:12.2e}\".format(rw[i], weights[i], w_lsq[i], w_nnls[i])\n",
    "\n",
    "plot(wl, array([sum(models[wli[i], 1:]*rw) for i in xrange(wl.size)]), \"-k\", lw=3, label=\"Real\")\n",
    "plot(wl, array([sum(models[wli[i], 1:]*weights) for i in xrange(wl.size)]), \"-\", label=\"GE-BS\")\n",
    "plot(wl, array([sum(models[wli[i], 1:]*w_lsq) for i in xrange(wl.size)]), \"-\", label=\"LS\")\n",
    "plot(wl, array([sum(models[wli[i], 1:]*w_nnls) for i in xrange(wl.size)]), \"-\", label=\"NNLS\")\n",
    "legend(loc=0)\n",
    "\n",
    "xlabel(\"Wavelength\")\n",
    "ylabel(\"Flux\")"
   ]
  }
 ],
 "metadata": {
  "kernelspec": {
   "display_name": "Python 2",
   "language": "python",
   "name": "python2"
  },
  "language_info": {
   "codemirror_mode": {
    "name": "ipython",
    "version": 2
   },
   "file_extension": ".py",
   "mimetype": "text/x-python",
   "name": "python",
   "nbconvert_exporter": "python",
   "pygments_lexer": "ipython2",
   "version": "2.7.10"
  }
 },
 "nbformat": 4,
 "nbformat_minor": 0
}
