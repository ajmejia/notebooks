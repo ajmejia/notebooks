{
 "cells": [
  {
   "cell_type": "markdown",
   "metadata": {},
   "source": [
    "# Tratado de la $\\text{SNR}$ como función de $\\lambda$\n",
    "\n",
    "La curva que construye Ivan **no** es realmente una curva de sigmas, es simplemente un artilugio basado en las medidas espectroscópicas del SDSS que sirve para dar una forma realista a los espectros de error para nuestras simulaciones. Si a esa curva la llamamos $\\Sigma_\\lambda^r$ (el $r$ está porque esa curva viene normalizada a 1 en esa banda), el espectro de sigmas, $\\sigma_\\lambda$, se construye de la siguiente manera:\n",
    "\n",
    "$$\n",
    "\\sigma_\\lambda = \\frac{\\Sigma_\\lambda F_\\lambda^\\text{teo}}{\\text{SNR}_r},\n",
    "$$\n",
    "\n",
    "donde $F_\\lambda^\\text{teo}$ es un espectro de la SSAG que se quiere perturbar y $\\text{SNR}_r$ es la señal a ruido **nominal** que tendrá en $r$. Así, el espectro perturbado sería\n",
    "\n",
    "$$\n",
    "F_\\lambda^\\text{sim} = \\text{GAUSS}(F_\\lambda^\\text{teo}, \\sigma),\n",
    "$$\n",
    "\n",
    "y su espectro de señal a ruido, $\\text{SNR}_\\lambda$ se define como\n",
    "\n",
    "$$\n",
    "\\text{SNR}_\\lambda \\equiv \\frac{F_\\lambda^\\text{sim}}{\\sigma_\\lambda}=\\frac{\\text{SNR}_rF_\\lambda^\\text{sim}}{\\Sigma_\\lambda F_\\lambda^\\text{teo}}.\n",
    "$$\n",
    "\n",
    "En el caso de señal a ruido constante, lo que hacemos es asumir $\\Sigma_\\lambda=1$, lo que se traduce en $\\text{SNR}_\\lambda=\\text{SNR}_r=\\text{SNR}$, ya que $F_\\lambda^\\text{sim}/F_\\lambda^\\text{teo}\\approx1$."
   ]
  }
 ],
 "metadata": {
  "kernelspec": {
   "display_name": "Python [default]",
   "language": "python",
   "name": "python2"
  },
  "language_info": {
   "codemirror_mode": {
    "name": "ipython",
    "version": 2
   },
   "file_extension": ".py",
   "mimetype": "text/x-python",
   "name": "python",
   "nbconvert_exporter": "python",
   "pygments_lexer": "ipython2",
   "version": "2.7.13"
  }
 },
 "nbformat": 4,
 "nbformat_minor": 0
}
