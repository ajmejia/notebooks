{
 "cells": [
  {
   "cell_type": "code",
   "execution_count": 1,
   "metadata": {
    "collapsed": false
   },
   "outputs": [
    {
     "name": "stdout",
     "output_type": "stream",
     "text": [
      "Populating the interactive namespace from numpy and matplotlib\n"
     ]
    }
   ],
   "source": [
    "%pylab inline\n",
    "\n",
    "from styles.paper import *\n",
    "from styles.colors import *"
   ]
  },
  {
   "cell_type": "code",
   "execution_count": 2,
   "metadata": {
    "collapsed": false
   },
   "outputs": [],
   "source": [
    "filt = array([\"FUV\", \"NUV\", \"U\", \"B\", \"V\", \"J\", \"H\", \"K\"])\n",
    "M = array([8.34, 7.50, 4.86, 4.36, 3.44, 2.094, 1.283, 0.984]) - 24.46\n",
    "M_er = array([0.01, 0.01, 0.03, 0.02, 0.03, 0.016, 0.017, 0.017]) - 24.46\n",
    "\n",
    "Mo  = array([16.02, 10.18, 5.59, 5.48, 4.78, 3.66, 3.33, 3.28])\n",
    "\n",
    "wl = array([1538.6, 2315.7, 3584.1, 4395.2, 5424.0, 12350.0, 16620.0, 21590.0])\n",
    "fl = 10**(-0.4*(M-Mo))\n",
    "fl_er = M_er*fl / 1.0857"
   ]
  },
  {
   "cell_type": "code",
   "execution_count": 3,
   "metadata": {
    "collapsed": false
   },
   "outputs": [],
   "source": [
    "savetxt(\"m31_sed.txt\", column_stack((wl, fl, fl_er)))"
   ]
  }
 ],
 "metadata": {
  "kernelspec": {
   "display_name": "Python 2",
   "language": "python",
   "name": "python2"
  },
  "language_info": {
   "codemirror_mode": {
    "name": "ipython",
    "version": 2
   },
   "file_extension": ".py",
   "mimetype": "text/x-python",
   "name": "python",
   "nbconvert_exporter": "python",
   "pygments_lexer": "ipython2",
   "version": "2.7.12"
  }
 },
 "nbformat": 4,
 "nbformat_minor": 0
}
