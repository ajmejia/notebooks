{
 "cells": [
  {
   "cell_type": "code",
   "execution_count": 1,
   "metadata": {
    "collapsed": false
   },
   "outputs": [
    {
     "name": "stdout",
     "output_type": "stream",
     "text": [
      "Populating the interactive namespace from numpy and matplotlib\n"
     ]
    }
   ],
   "source": [
    "%pylab inline\n",
    "\n",
    "import os, pres_style"
   ]
  },
  {
   "cell_type": "code",
   "execution_count": 2,
   "metadata": {
    "collapsed": false
   },
   "outputs": [],
   "source": [
    "path = os.path.expandvars(\"$master/inputs/tta_cb13/ssag\")\n",
    "\n",
    "colors = genfromtxt(\"{}/SSAG_1.00TauV.log\".format(path), dtype=None, names=True, skip_header=2)\n",
    "params = genfromtxt(\"{}/true_params.log\".format(path), dtype=None, names=True)"
   ]
  },
  {
   "cell_type": "code",
   "execution_count": 3,
   "metadata": {
    "collapsed": true
   },
   "outputs": [],
   "source": [
    "#filter nd galaxies in params\n",
    "mask = array([not name.endswith(\"nd\") for name in params[\"Galaxy\"]], dtype=bool)\n",
    "params_clean = params[mask]\n",
    "\n",
    "#find the union between colors and params\n",
    "mask = array([name in params_clean[\"Galaxy\"] for name in colors[\"Seq\"]], dtype=bool)\n",
    "colors_clean = colors[mask]"
   ]
  },
  {
   "cell_type": "code",
   "execution_count": 4,
   "metadata": {
    "collapsed": false
   },
   "outputs": [],
   "source": [
    "#write joint tables\n",
    "c_fields = \"u g r i z\".split()\n",
    "p_fields = \"Masszobs rFWLAyr ZZsun Av_eff\".split()\n",
    "t_fields = \"name u g r i z M_lib log_t_L_lib log_Z_L_lib Av_lib\".split()\n",
    "t_dtypes = zip(t_fields, (\"S18 \"+9*\"<f8 \").split())\n",
    "\n",
    "p_map = dict(zip(p_fields, t_fields[6:]))\n",
    "\n",
    "catalog = zeros(params_clean.size, dtype=t_dtypes)\n",
    "\n",
    "catalog[\"name\"] = params_clean[\"Galaxy\"]\n",
    "for field in c_fields: catalog[field] = colors_clean[field]\n",
    "for p_field, t_field in p_map.iteritems(): catalog[t_field] = params_clean[p_field]\n",
    "\n",
    "fmt = \"%16s\"+5*\"%8.4f\"+4*\"%12.5f\"\n",
    "hdr = (\"%14s\"+5*\"%8s\"+4*\"%12s\")%tuple(t_fields)\n",
    "savetxt(\"{}/ssag_cb13_catalog.txt\".format(path), catalog, fmt=fmt, header=hdr)"
   ]
  }
 ],
 "metadata": {
  "kernelspec": {
   "display_name": "Python 2",
   "language": "python",
   "name": "python2"
  },
  "language_info": {
   "codemirror_mode": {
    "name": "ipython",
    "version": 2
   },
   "file_extension": ".py",
   "mimetype": "text/x-python",
   "name": "python",
   "nbconvert_exporter": "python",
   "pygments_lexer": "ipython2",
   "version": "2.7.12"
  }
 },
 "nbformat": 4,
 "nbformat_minor": 0
}
