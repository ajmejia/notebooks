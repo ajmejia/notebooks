{
 "cells": [
  {
   "cell_type": "code",
   "execution_count": 1,
   "metadata": {
    "collapsed": false
   },
   "outputs": [
    {
     "name": "stdout",
     "output_type": "stream",
     "text": [
      "Populating the interactive namespace from numpy and matplotlib\n"
     ]
    }
   ],
   "source": [
    "%pylab inline\n",
    "\n",
    "import os\n",
    "from styles import slides"
   ]
  },
  {
   "cell_type": "code",
   "execution_count": 2,
   "metadata": {
    "collapsed": false
   },
   "outputs": [],
   "source": [
    "idir = os.path.expandvars(\"$phd/inputs/tta_cb13\")\n",
    "fl = [\"SSAG{0:06d}\".format(i+1) for i in xrange(140)]"
   ]
  },
  {
   "cell_type": "code",
   "execution_count": 3,
   "metadata": {
    "collapsed": false
   },
   "outputs": [],
   "source": [
    "fields = \"input_file u g r i z M_lib log_t_M_lib log_t_L_lib log_Z_M_lib log_Z_L_lib Av_lib\".split()\n",
    "dtypes = [\"|10S\"]+11*[float]\n",
    "ssag_catalog = zeros(140, dtype=zip(fields, dtypes))\n",
    "for j, name in enumerate(fl):\n",
    "    par_rec = loadtxt(\"{}/set_cb13/{}_z0p00.tparam\".format(idir, name), usecols=[7,16,19,1,1,8])\n",
    "    mag_rec = loadtxt(\"{}/set_cb13/{}_z0p00.1ABmag\".format(idir, name), usecols=[1,2,3,4,5])\n",
    "    \n",
    "    par_rec[[3,4]] = log10(par_rec[[3,4]])\n",
    "    \n",
    "    ssag_catalog[\"input_file\"][j] = name\n",
    "    for i in xrange(5): ssag_catalog[fields[i+1]][j] = mag_rec[i]\n",
    "    for i in xrange(6): ssag_catalog[fields[i+6]][j] = par_rec[i]\n",
    "\n",
    "#savetxt(\"{}/tta_cb13/ssag_catalog.log\".format(idir), ssag_catalog, fmt=\"%12s\"+\"%9.5f\"*5+\"%13.5e\"*6, header=(\"%10s\"+\"%9s\"*5+\"%13s\"*6)%tuple(fields))"
   ]
  }
 ],
 "metadata": {
  "kernelspec": {
   "display_name": "Python [default]",
   "language": "python",
   "name": "python2"
  },
  "language_info": {
   "codemirror_mode": {
    "name": "ipython",
    "version": 2
   },
   "file_extension": ".py",
   "mimetype": "text/x-python",
   "name": "python",
   "nbconvert_exporter": "python",
   "pygments_lexer": "ipython2",
   "version": "2.7.13"
  }
 },
 "nbformat": 4,
 "nbformat_minor": 0
}
