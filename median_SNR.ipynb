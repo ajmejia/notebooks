{
 "metadata": {
  "name": "",
  "signature": "sha256:becba556b361a65e2ff5b97bf9e3cea33ca9ee582372aa2d26dad2fae2b5458c"
 },
 "nbformat": 3,
 "nbformat_minor": 0,
 "worksheets": [
  {
   "cells": [
    {
     "cell_type": "code",
     "collapsed": false,
     "input": [
      "indexes = []\n",
      "for i in xrange(120): indexes += range(i * 100, i * 100 + 50)\n",
      "\n",
      "lsnr_seds = genfromtxt(\"../outputs/photometric_fit/photoz3/photofit_z0p00.library\")[:6000]\n",
      "hsnr_seds = genfromtxt(\"../outputs/photometric_fit/remote_set3/photofit_JPAS.library\")[indexes]\n",
      "\n",
      "print lsnr_seds.shape, hsnr_seds.shape"
     ],
     "language": "python",
     "metadata": {},
     "outputs": [
      {
       "output_type": "stream",
       "stream": "stdout",
       "text": [
        "(6000, 231) (6000, 231)\n"
       ]
      }
     ],
     "prompt_number": 1
    },
    {
     "cell_type": "code",
     "collapsed": false,
     "input": [
      "wli = [2+i for i in xrange(56)]\n",
      "fli = [wli[-1]+56+1+i for i in xrange(56)]\n",
      "sgi = [fli[-1]+1+i for i in xrange(56)]\n",
      "\n",
      "lsnr = lsnr_seds[:, fli] / lsnr_seds[:, sgi]\n",
      "hsnr = hsnr_seds[:, fli] / hsnr_seds[:, sgi]\n",
      "\n",
      "med_lsnr = median(lsnr, axis=1)\n",
      "med_hsnr = median(hsnr, axis=1)\n",
      "\n",
      "print median(med_hsnr)\n",
      "print median(med_lsnr)\n",
      "\n",
      "hist(med_lsnr, 40, histtype=\"step\")"
     ],
     "language": "python",
     "metadata": {},
     "outputs": [
      {
       "output_type": "stream",
       "stream": "stdout",
       "text": [
        "139.970496494\n",
        "46.5898301671\n"
       ]
      },
      {
       "metadata": {},
       "output_type": "pyout",
       "prompt_number": 2,
       "text": [
        "(array([   2.,    2.,    5.,   11.,   10.,   14.,   33.,   51.,   46.,\n",
        "         79.,  103.,  130.,  156.,  214.,  267.,  291.,  346.,  384.,\n",
        "        416.,  378.,  405.,  401.,  397.,  368.,  320.,  287.,  252.,\n",
        "        178.,  144.,   97.,   64.,   49.,   32.,   23.,   21.,   10.,\n",
        "          6.,    6.,    1.,    1.]),\n",
        " array([ 44.80268374,  44.89127972,  44.97987569,  45.06847166,\n",
        "        45.15706763,  45.2456636 ,  45.33425957,  45.42285554,\n",
        "        45.51145151,  45.60004748,  45.68864345,  45.77723943,\n",
        "        45.8658354 ,  45.95443137,  46.04302734,  46.13162331,\n",
        "        46.22021928,  46.30881525,  46.39741122,  46.48600719,\n",
        "        46.57460316,  46.66319914,  46.75179511,  46.84039108,\n",
        "        46.92898705,  47.01758302,  47.10617899,  47.19477496,\n",
        "        47.28337093,  47.3719669 ,  47.46056287,  47.54915885,\n",
        "        47.63775482,  47.72635079,  47.81494676,  47.90354273,\n",
        "        47.9921387 ,  48.08073467,  48.16933064,  48.25792661,  48.34652258]),\n",
        " <a list of 1 Patch objects>)"
       ]
      },
      {
       "metadata": {},
       "output_type": "display_data",
       "png": "[encoded data removed]",
       "text": [
        "<matplotlib.figure.Figure at 0x7ff9084b4bd0>"
       ]
      }
     ],
     "prompt_number": 2
    },
    {
     "cell_type": "code",
     "collapsed": false,
     "input": [
      "hist(med_hsnr, 40, histtype=\"step\")"
     ],
     "language": "python",
     "metadata": {},
     "outputs": [
      {
       "metadata": {},
       "output_type": "pyout",
       "prompt_number": 3,
       "text": [
        "(array([   1.,    0.,    2.,    0.,    6.,    4.,    4.,   13.,   21.,\n",
        "         32.,   49.,  106.,  129.,  178.,  210.,  285.,  303.,  422.,\n",
        "        403.,  424.,  462.,  474.,  441.,  420.,  340.,  296.,  228.,\n",
        "        227.,  148.,  137.,   84.,   59.,   44.,   19.,   14.,   10.,\n",
        "          3.,    1.,    0.,    1.]),\n",
        " array([ 137.47904177,  137.59826814,  137.7174945 ,  137.83672087,\n",
        "        137.95594723,  138.07517359,  138.19439996,  138.31362632,\n",
        "        138.43285268,  138.55207905,  138.67130541,  138.79053178,\n",
        "        138.90975814,  139.0289845 ,  139.14821087,  139.26743723,\n",
        "        139.3866636 ,  139.50588996,  139.62511632,  139.74434269,\n",
        "        139.86356905,  139.98279542,  140.10202178,  140.22124814,\n",
        "        140.34047451,  140.45970087,  140.57892724,  140.6981536 ,\n",
        "        140.81737996,  140.93660633,  141.05583269,  141.17505906,\n",
        "        141.29428542,  141.41351178,  141.53273815,  141.65196451,\n",
        "        141.77119087,  141.89041724,  142.0096436 ,  142.12886997,\n",
        "        142.24809633]),\n",
        " <a list of 1 Patch objects>)"
       ]
      },
      {
       "metadata": {},
       "output_type": "display_data",
       "png": "[encoded data removed]",
       "text": [
        "<matplotlib.figure.Figure at 0x7ff9084b4390>"
       ]
      }
     ],
     "prompt_number": 3
    },
    {
     "cell_type": "code",
     "collapsed": false,
     "input": [],
     "language": "python",
     "metadata": {},
     "outputs": [],
     "prompt_number": 3
    }
   ],
   "metadata": {}
  }
 ]
}