{
 "metadata": {
  "name": "",
  "signature": "sha256:e983173b0c941075d6e84213c457e34c8ca4d34a94326dc45c9dc5ad6486a53c"
 },
 "nbformat": 3,
 "nbformat_minor": 0,
 "worksheets": [
  {
   "cells": [
    {
     "cell_type": "markdown",
     "metadata": {},
     "source": [
      "#Tratado de la $\\text{SNR}$ como funci\u00f3n de $\\lambda$\n",
      "\n",
      "La curva que construye Ivan **no** es realmente una curva de sigmas, es simplemente un artilugio basado en las medidas espectrosc\u00f3picas del SDSS que sirve para dar una forma realista a los espectros de error para nuestras simulaciones. Si a esa curva la llamamos $\\Sigma_\\lambda^r$ (el $r$ est\u00e1 porque esa curva viene normalizada a 1 en esa banda), el espectro de sigmas, $\\sigma_\\lambda$, se construye de la siguiente manera:\n",
      "\n",
      "$$\n",
      "\\sigma_\\lambda = \\frac{\\Sigma_\\lambda F_\\lambda^\\text{teo}}{\\text{SNR}_r},\n",
      "$$\n",
      "\n",
      "donde $F_\\lambda^\\text{teo}$ es un espectro de la SSAG que se quiere perturbar y $\\text{SNR}_r$ es la se\u00f1al a ruido **nominal** que tendr\u00e1 en $r$. As\u00ed, el espectro perturbado ser\u00eda\n",
      "\n",
      "$$\n",
      "F_\\lambda^\\text{sim} = \\text{GAUSS}(F_\\lambda^\\text{teo}, \\sigma),\n",
      "$$\n",
      "\n",
      "y su espectro de se\u00f1al a ruido, $\\text{SNR}_\\lambda$ se define como\n",
      "\n",
      "$$\n",
      "\\text{SNR}_\\lambda \\equiv \\frac{F_\\lambda^\\text{sim}}{\\sigma_\\lambda}=\\frac{\\text{SNR}_rF_\\lambda^\\text{sim}}{\\Sigma_\\lambda F_\\lambda^\\text{teo}}.\n",
      "$$\n",
      "\n",
      "En el caso de se\u00f1al a ruido constante, lo que hacemos es asumir $\\Sigma_\\lambda=1$, lo que se traduce en $\\text{SNR}_\\lambda=\\text{SNR}_r=\\text{SNR}$, ya que $F_\\lambda^\\text{sim}/F_\\lambda^\\text{teo}\\approx1$."
     ]
    }
   ],
   "metadata": {}
  }
 ]
}