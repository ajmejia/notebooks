{
 "cells": [
  {
   "cell_type": "code",
   "execution_count": 1,
   "metadata": {
    "collapsed": false
   },
   "outputs": [
    {
     "name": "stdout",
     "output_type": "stream",
     "text": [
      "Populating the interactive namespace from numpy and matplotlib\n"
     ]
    }
   ],
   "source": [
    "%pylab inline"
   ]
  },
  {
   "cell_type": "code",
   "execution_count": 2,
   "metadata": {
    "collapsed": true
   },
   "outputs": [],
   "source": [
    "odir = \"../inputs/real_deal6/\"\n",
    "catalog = genfromtxt(\"../outputs/real_deal6/ugriz_catalog_rf.txt\", dtype=None, names=True)\n",
    "\n",
    "weff = array([3.5618E+03, 4.7189E+03, 6.1852E+03, 7.4997E+03, 8.9615E+03])\n",
    "\n",
    "def mag2flux(mag, wlength):\n",
    "    return 10**(-0.4 * (mag - 22.5)) * 3.631e-6 * 1e-23 * (299792458.0E10/wlength**2)"
   ]
  },
  {
   "cell_type": "code",
   "execution_count": 3,
   "metadata": {
    "collapsed": false
   },
   "outputs": [],
   "source": [
    "mag = zeros(5)\n",
    "sig = zeros(5)\n",
    "for i, fn in enumerate(catalog[\"input_file\"]):\n",
    "    fname = \"processed_SDSS_\"+fn.replace(\"fit\", \"txt\")\n",
    "    \n",
    "    f = open(odir+fname, \"w\")\n",
    "    f.write(\"# redshift = {0:8.4f}\\n\".format(0.0))\n",
    "    f.write(\"#\\n\")\n",
    "    f.write(\"{0:15s}{1:15s}{2:15s}\\n\".format(\"#        lambda\", \"           flux\", \"          sigma\"))\n",
    "\n",
    "    mag[0] = catalog[\"u_mag\"][i]\n",
    "    mag[1] = catalog[\"g_mag\"][i]\n",
    "    mag[2] = catalog[\"r_mag\"][i]\n",
    "    mag[3] = catalog[\"i_mag\"][i]\n",
    "    mag[4] = catalog[\"z_mag\"][i]\n",
    "    sig[0] = catalog[\"u_err\"][i]\n",
    "    sig[1] = catalog[\"g_err\"][i]\n",
    "    sig[2] = catalog[\"r_err\"][i]\n",
    "    sig[3] = catalog[\"i_err\"][i]\n",
    "    sig[4] = catalog[\"z_err\"][i]\n",
    "    \n",
    "    flux   = mag2flux(mag, weff)\n",
    "    sigma  = 2.5 * log10(exp(1.0)) * (sig/flux)\n",
    "    for j in xrange(5):\n",
    "        f.write(\"{0:15.4f}{1:15.4e}{2:15.4e}\\n\".format(weff[j], flux[j], sigma[j]))\n",
    "    f.close()"
   ]
  }
 ],
 "metadata": {
  "kernelspec": {
   "display_name": "Python 2",
   "language": "python",
   "name": "python2"
  },
  "language_info": {
   "codemirror_mode": {
    "name": "ipython",
    "version": 2
   },
   "file_extension": ".py",
   "mimetype": "text/x-python",
   "name": "python",
   "nbconvert_exporter": "python",
   "pygments_lexer": "ipython2",
   "version": "2.7.11"
  }
 },
 "nbformat": 4,
 "nbformat_minor": 0
}
