{
 "cells": [
  {
   "cell_type": "code",
   "execution_count": 1,
   "metadata": {},
   "outputs": [
    {
     "name": "stdout",
     "output_type": "stream",
     "text": [
      "Populating the interactive namespace from numpy and matplotlib\n"
     ]
    }
   ],
   "source": [
    "%pylab inline\n",
    "\n",
    "import os\n",
    "from string import replace\n",
    "from styles import slides"
   ]
  },
  {
   "cell_type": "code",
   "execution_count": 2,
   "metadata": {},
   "outputs": [
    {
     "name": "stdout",
     "output_type": "stream",
     "text": [
      "True\n"
     ]
    }
   ],
   "source": [
    "#READ TABLES\n",
    "\n",
    "cat_m16 = genfromtxt(\"data/sample-obs/catalog.txt\", dtype=None, names=True)\n",
    "col_m16 = cat_m16[\"u_mag\"]-cat_m16[\"r_mag\"]\n",
    "rsh_m16 = cat_m16[\"redshift\"]\n",
    "snr_m16 = genfromtxt(\"data/sample-obs/snr.txt\", dtype=None, names=True)\n",
    "\n",
    "gal2005 = genfromtxt(\"data/sample-obs/gal2005.txt\", dtype=None, names=True)\n",
    "\n",
    "match_m16_in_g05 = array([n in gal2005[\"input_file\"] for n in cat_m16[\"input_file\"]], dtype=bool)\n",
    "compl_m16_in_g05 = array([n not in gal2005[\"input_file\"] for n in cat_m16[\"input_file\"]], dtype=bool)\n",
    "del gal2005\n",
    "\n",
    "cat_g05 = cat_m16[match_m16_in_g05]\n",
    "col_g05 = col_m16[match_m16_in_g05]\n",
    "rsh_g05 = rsh_m16[match_m16_in_g05]\n",
    "snr_g05 = snr_m16[match_m16_in_g05]\n",
    "\n",
    "cat_m16 = cat_m16[compl_m16_in_g05]\n",
    "col_m16 = col_m16[compl_m16_in_g05]\n",
    "rsh_m16 = rsh_m16[compl_m16_in_g05]\n",
    "snr_m16 = snr_m16[compl_m16_in_g05]\n",
    "\n",
    "print all(cat_g05[\"input_file\"]==snr_g05[\"input_file\"])&all(cat_m16[\"input_file\"]==snr_m16[\"input_file\"])"
   ]
  },
  {
   "cell_type": "code",
   "execution_count": 3,
   "metadata": {},
   "outputs": [
    {
     "name": "stdout",
     "output_type": "stream",
     "text": [
      "SF_hSNR_g05: 3575\n",
      "SF_hSNR_m16: 1719\n",
      "Pa_hSNR_g05: 5887\n",
      "SF_lSNR_m16: 5761\n",
      "Pa_lSNR_m16: 482\n",
      "\n",
      "Total      : 17424\n"
     ]
    }
   ],
   "source": [
    "# MASKS FOR NEW SAMPLE\n",
    "# mask to avoid aperture bias\n",
    "rsh_m16_mask = rsh_m16>=0.05\n",
    "rsh_g05_mask = rsh_g05>=0.05\n",
    "# mask for g05 subsamples\n",
    "SF_hSNR_g05_mask = (rsh_g05_mask&(col_g05< 2.22)&(snr_g05[\"snr_wall\"]>15.0))\n",
    "SF_hSNR_m16_mask = (rsh_m16_mask&(col_m16< 2.22)&(snr_m16[\"snr_wall\"]>15.0))\n",
    "Pa_hSNR_g05_mask = (rsh_g05_mask&(col_g05>=2.22)&(snr_g05[\"snr_wall\"]>15.0))\n",
    "# mask for cat subsample\n",
    "SF_lSNR_m16_mask = (rsh_m16_mask&(col_m16< 2.22)&(snr_m16[\"snr_wall\"]<=15.0))\n",
    "Pa_lSNR_m16_mask = (rsh_m16_mask&(col_m16>=2.22)&(snr_m16[\"snr_wall\"]<=15.0))\n",
    "\n",
    "print \"SF_hSNR_g05:\", SF_hSNR_g05_mask.sum()\n",
    "print \"SF_hSNR_m16:\", SF_hSNR_m16_mask.sum()\n",
    "print \"Pa_hSNR_g05:\", Pa_hSNR_g05_mask.sum()\n",
    "print \"SF_lSNR_m16:\", SF_lSNR_m16_mask.sum()\n",
    "print \"Pa_lSNR_m16:\", Pa_lSNR_m16_mask.sum()\n",
    "print\n",
    "print \"Total      :\", SF_hSNR_g05_mask.sum()+SF_hSNR_m16_mask.sum()+Pa_hSNR_g05_mask.sum()+SF_lSNR_m16_mask.sum()+Pa_lSNR_m16_mask.sum()"
   ]
  },
  {
   "cell_type": "code",
   "execution_count": 4,
   "metadata": {
    "collapsed": true
   },
   "outputs": [],
   "source": [
    "colors = \"#771144 #114477 #F1932D #AA4444 #F7EE55\".split()\n",
    "labels = [\"SF hSNR g05 (%d)\"%SF_hSNR_g05_mask.sum(),\n",
    "          \"SF hSNR m16 (%d)\"%SF_hSNR_m16_mask.sum(),\n",
    "          \"SF lSNR m16 (%d)\"%SF_lSNR_m16_mask.sum(),\n",
    "          \"Pa hSNR g05 (%d)\"%Pa_hSNR_g05_mask.sum(),\n",
    "          \"Pa lSNR m16 (%d)\"%Pa_lSNR_m16_mask.sum(),\n",
    "         ]"
   ]
  },
  {
   "cell_type": "code",
   "execution_count": 5,
   "metadata": {},
   "outputs": [
    {
     "data": {
      "text/plain": [
       "<matplotlib.text.Text at 0x7f22f485a910>"
      ]
     },
     "execution_count": 5,
     "metadata": {},
     "output_type": "execute_result"
    },
    {
     "data": {
      "image/png": "[encoded data removed]",
      "text/plain": [
       "<matplotlib.figure.Figure at 0x7f22f47b3390>"
      ]
     },
     "metadata": {},
     "output_type": "display_data"
    }
   ],
   "source": [
    "sub_col = [col_g05[SF_hSNR_g05_mask],\n",
    "           col_m16[SF_hSNR_m16_mask],\n",
    "           col_m16[SF_lSNR_m16_mask],\n",
    "           col_g05[Pa_hSNR_g05_mask],\n",
    "           col_m16[Pa_lSNR_m16_mask],\n",
    "          ]\n",
    "hist(sub_col, 20, (1,3), True, histtype=\"barstacked\", color=colors, label=labels)\n",
    "legend(loc=0, fontsize=10, ncol=2)\n",
    "ylim(0.05, 1.5)\n",
    "\n",
    "xlabel(r\"u-r (mag)\")\n",
    "ylabel(r\"Galaxies per bin\")"
   ]
  },
  {
   "cell_type": "code",
   "execution_count": 6,
   "metadata": {},
   "outputs": [
    {
     "data": {
      "text/plain": [
       "<matplotlib.text.Text at 0x7f22f4000510>"
      ]
     },
     "execution_count": 6,
     "metadata": {},
     "output_type": "execute_result"
    },
    {
     "data": {
      "image/png": "[encoded data removed]",
      "text/plain": [
       "<matplotlib.figure.Figure at 0x7f2329d2aa10>"
      ]
     },
     "metadata": {},
     "output_type": "display_data"
    }
   ],
   "source": [
    "sub_rsh = [rsh_g05[SF_hSNR_g05_mask],\n",
    "           rsh_m16[SF_hSNR_m16_mask],\n",
    "           rsh_m16[SF_lSNR_m16_mask],\n",
    "           rsh_g05[Pa_hSNR_g05_mask],\n",
    "           rsh_m16[Pa_lSNR_m16_mask],\n",
    "          ]\n",
    "hist(sub_rsh, 20, (0.05,0.1), True, histtype=\"barstacked\", color=colors, label=labels)\n",
    "legend(loc=0, fontsize=10, ncol=2)\n",
    "\n",
    "xlabel(r\"Redshift\")\n",
    "ylabel(r\"Galaxies per bin\")"
   ]
  },
  {
   "cell_type": "code",
   "execution_count": 7,
   "metadata": {
    "scrolled": false
   },
   "outputs": [
    {
     "data": {
      "image/png": "[encoded data removed]",
      "text/plain": [
       "<matplotlib.figure.Figure at 0x7f22f3b0b810>"
      ]
     },
     "metadata": {},
     "output_type": "display_data"
    }
   ],
   "source": [
    "fig, axs = subplots(2, 2, figsize=(8, 8), sharex=True, sharey=True)\n",
    "\n",
    "sub_snr = lambda field: [snr_g05[field][SF_hSNR_g05_mask],\n",
    "                         snr_m16[field][SF_hSNR_m16_mask],\n",
    "                         snr_m16[field][SF_lSNR_m16_mask],\n",
    "                         snr_g05[field][Pa_hSNR_g05_mask],\n",
    "                         snr_m16[field][Pa_lSNR_m16_mask],\n",
    "                        ]\n",
    "fields = \"snr_wall snr_CaHK snr_CaII snr_Zfea\".split()\n",
    "for field, ax in zip(fields, axs.ravel()):\n",
    "    ax.set_title(field.lstrip(\"snr_\").replace(\"wall\", \"Whole range\").replace(\"Zfea\", \"Z-features\").replace(\"CaII\", \"CaII triplet\"))\n",
    "    ax.hist(sub_snr(field), 20, (0.0,60.0), True, histtype=\"barstacked\", color=colors, label=labels)\n",
    "\n",
    "axs[0, 1].legend(loc=0, fontsize=10)\n",
    "axs[1, 0].set_xlabel(r\"SNR\")\n",
    "axs[1, 1].set_xlabel(r\"SNR\")\n",
    "axs[0, 0].set_ylabel(r\"Galaxies per bin\")\n",
    "axs[1, 0].set_ylabel(r\"Galaxies per bin\")\n",
    "\n",
    "fig.tight_layout()"
   ]
  },
  {
   "cell_type": "code",
   "execution_count": 8,
   "metadata": {},
   "outputs": [],
   "source": [
    "#WRITE TABLES\n",
    "def convert(names, ID):\n",
    "    return array([\"processed_\"+ID+\"_\"+name.replace(\".fit\", \".txt\") for name in names], dtype=str)\n",
    "\n",
    "# spec tables\n",
    "od = os.path.expandvars(\"$phd/inputs/real_deal/spec/\")\n",
    "#savetxt(od+\"spec_taita.txt\",    convert(cat_g05[\"input_file\"][SF_hSNR_g05_mask], \"SPEC\"), fmt=\"%s\")\n",
    "#savetxt(od+\"spec_dulcinea.txt\", convert(cat_m16[\"input_file\"][SF_hSNR_m16_mask], \"SPEC\"), fmt=\"%s\")\n",
    "#savetxt(od+\"spec_chapi.txt\",    convert(cat_m16[\"input_file\"][SF_lSNR_m16_mask], \"SPEC\"), fmt=\"%s\")\n",
    "#savetxt(od+\"spec_ovcida2.txt\",  convert(cat_g05[\"input_file\"][Pa_hSNR_g05_mask], \"SPEC\"), fmt=\"%s\")\n",
    "#savetxt(od+\"spec_danzon.txt\",   convert(cat_m16[\"input_file\"][Pa_lSNR_m16_mask], \"SPEC\"), fmt=\"%s\")\n",
    "# jpas tables\n",
    "od = os.path.expandvars(\"$phd/inputs/real_deal/jpas/\")\n",
    "#savetxt(od+\"jpas_taita.txt\",    convert(cat_g05[\"input_file\"][SF_hSNR_g05_mask], \"JPAS\"), fmt=\"%s\")\n",
    "#savetxt(od+\"jpas_dulcinea.txt\", convert(cat_m16[\"input_file\"][SF_hSNR_m16_mask], \"JPAS\"), fmt=\"%s\")\n",
    "#savetxt(od+\"jpas_chapi.txt\",    convert(cat_m16[\"input_file\"][SF_lSNR_m16_mask], \"JPAS\"), fmt=\"%s\")\n",
    "#savetxt(od+\"jpas_ovcida2.txt\",  convert(cat_g05[\"input_file\"][Pa_hSNR_g05_mask], \"JPAS\"), fmt=\"%s\")\n",
    "#savetxt(od+\"jpas_danzon.txt\",   convert(cat_m16[\"input_file\"][Pa_lSNR_m16_mask], \"JPAS\"), fmt=\"%s\")\n",
    "# nem_jpas tables\n",
    "od = os.path.expandvars(\"$phd/inputs/real_deal/nem_jpas/\")\n",
    "#savetxt(od+\"nem_jpas_taita.txt\",    convert(cat_g05[\"input_file\"][SF_hSNR_g05_mask], \"nem_JPAS\"), fmt=\"%s\")\n",
    "#savetxt(od+\"nem_jpas_dulcinea.txt\", convert(cat_m16[\"input_file\"][SF_hSNR_m16_mask], \"nem_JPAS\"), fmt=\"%s\")\n",
    "#savetxt(od+\"nem_jpas_chapi.txt\",    convert(cat_m16[\"input_file\"][SF_lSNR_m16_mask], \"nem_JPAS\"), fmt=\"%s\")\n",
    "#savetxt(od+\"nem_jpas_ovcida2.txt\",  convert(cat_g05[\"input_file\"][Pa_hSNR_g05_mask], \"nem_JPAS\"), fmt=\"%s\")\n",
    "#savetxt(od+\"nem_jpas_danzon.txt\",   convert(cat_m16[\"input_file\"][Pa_lSNR_m16_mask], \"nem_JPAS\"), fmt=\"%s\")\n",
    "# sdss tables\n",
    "od = os.path.expandvars(\"$phd/inputs/real_deal/sdss/\")\n",
    "#savetxt(od+\"sdss_taita.txt\",    convert(cat_g05[\"input_file\"][SF_hSNR_g05_mask], \"SDSS\"), fmt=\"%s\")\n",
    "#savetxt(od+\"sdss_dulcinea.txt\", convert(cat_m16[\"input_file\"][SF_hSNR_m16_mask], \"SDSS\"), fmt=\"%s\")\n",
    "#savetxt(od+\"sdss_chapi.txt\",    convert(cat_m16[\"input_file\"][SF_lSNR_m16_mask], \"SDSS\"), fmt=\"%s\")\n",
    "#savetxt(od+\"sdss_ovcida2.txt\",  convert(cat_g05[\"input_file\"][Pa_hSNR_g05_mask], \"SDSS\"), fmt=\"%s\")\n",
    "#savetxt(od+\"sdss_danzon.txt\",   convert(cat_m16[\"input_file\"][Pa_lSNR_m16_mask], \"SDSS\"), fmt=\"%s\")"
   ]
  }
 ],
 "metadata": {
  "kernelspec": {
   "display_name": "Python 2",
   "language": "python",
   "name": "python2"
  },
  "language_info": {
   "codemirror_mode": {
    "name": "ipython",
    "version": 2
   },
   "file_extension": ".py",
   "mimetype": "text/x-python",
   "name": "python",
   "nbconvert_exporter": "python",
   "pygments_lexer": "ipython2",
   "version": "2.7.13"
  }
 },
 "nbformat": 4,
 "nbformat_minor": 1
}
