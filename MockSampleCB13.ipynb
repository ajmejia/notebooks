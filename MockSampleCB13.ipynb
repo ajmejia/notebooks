{
 "cells": [
  {
   "cell_type": "code",
   "execution_count": 1,
   "metadata": {
    "collapsed": false
   },
   "outputs": [
    {
     "name": "stdout",
     "output_type": "stream",
     "text": [
      "Populating the interactive namespace from numpy and matplotlib\n"
     ]
    }
   ],
   "source": [
    "%pylab inline\n",
    "\n",
    "import pres_style, os\n",
    "from PyTools import integrated_flux as flux\n",
    "\n",
    "random.seed(0)"
   ]
  },
  {
   "cell_type": "code",
   "execution_count": 2,
   "metadata": {
    "collapsed": true
   },
   "outputs": [],
   "source": [
    "#read SED list\n",
    "idir = os.path.expandvars(\"$master/inputs/set3_cb13/sed_files/\")\n",
    "flist = sorted([file for root, subs, files in os.walk(idir) for file in files if \"nd\" not in file])"
   ]
  },
  {
   "cell_type": "code",
   "execution_count": 3,
   "metadata": {
    "collapsed": false
   },
   "outputs": [
    {
     "data": {
      "text/plain": [
       "[<matplotlib.lines.Line2D at 0x7f6291cd1510>]"
      ]
     },
     "execution_count": 3,
     "metadata": {},
     "output_type": "execute_result"
    },
    {
     "data": {
      "image/png": "[encoded data removed]",
      "text/plain": [
       "<matplotlib.figure.Figure at 0x7f629b444850>"
      ]
     },
     "metadata": {},
     "output_type": "display_data"
    }
   ],
   "source": [
    "#read Spec. sigma\n",
    "wl_spec, sigma_spec = loadtxt(\"../inputs/SDSSERROR.DAT\", unpack=True)\n",
    "sigma_spec *= 1e-17\n",
    "\n",
    "#read J-PAS filters\n",
    "jpas = open(\"../inputs/JPAS_filters.txt\").readlines()\n",
    "\n",
    "mask = [False if item.startswith(\"#\") else True for item in jpas]\n",
    "jpas_res = []\n",
    "for i in xrange(mask.count(False)):\n",
    "    try:\n",
    "        ini = mask.index(False); mask.remove(False)\n",
    "        fin = mask.index(False)\n",
    "        \n",
    "        jpas_res.append(np.array([eval(item.replace(\"  \", \",\")) for item in jpas[ini+1+i:fin+1+i]]))\n",
    "        \n",
    "    except ValueError:\n",
    "        jpas_res.append(np.array([eval(item.replace(\"  \", \",\")) for item in jpas[ini+1+i:]]))\n",
    "#read J-PAS sigma\n",
    "wl_jpas, sigma_jpas = loadtxt(\"../inputs/JPAS_sigma.txt\")\n",
    "\n",
    "#read ugriz filters\n",
    "sdss_res = loadtxt(\"../inputs/SDSS_filters.txt\")\n",
    "\n",
    "sdss_res = [\n",
    "    sdss_res[:47],\n",
    "    sdss_res[47:47+89],\n",
    "    sdss_res[47+89:47+89+75],\n",
    "    sdss_res[47+89+75:47+89+75+89],\n",
    "    sdss_res[47+89+75+89:]\n",
    "]\n",
    "#read ugriz sigma\n",
    "wl_sdss, sigma_sdss = loadtxt(\"../inputs/SDSS_sigma.txt\")\n",
    "\n",
    "#find normalization wavelength\n",
    "iwl_spec_norm = argmin(abs(wl_sdss[2]-wl_spec))\n",
    "iwl_jpas_norm = argmin(abs(wl_sdss[2]-wl_jpas))\n",
    "#normalize sigmas at r\n",
    "sigma_spec /= sigma_spec[iwl_spec_norm]\n",
    "sigma_jpas /= sigma_jpas[iwl_jpas_norm]\n",
    "sigma_sdss /= sigma_sdss[2]\n",
    "\n",
    "plot(wl_spec, sigma_spec)\n",
    "plot(wl_jpas, sigma_jpas)\n",
    "plot(wl_sdss, sigma_sdss)"
   ]
  },
  {
   "cell_type": "code",
   "execution_count": 4,
   "metadata": {
    "collapsed": false
   },
   "outputs": [
    {
     "name": "stdout",
     "output_type": "stream",
     "text": [
      "0.974025974026 0.405405405405\n"
     ]
    }
   ],
   "source": [
    "wl_spec_snr = wl_spec[argmin(abs(sdss_res[2][0, 0]-wl_spec)):argmin(abs(sdss_res[2][-1, 0]-wl_spec))]\n",
    "wl_jpas_snr = jpas_res[iwl_jpas_norm][:, 0]\n",
    "wl_sdss_snr = sdss_res[2][:, 0]\n",
    "\n",
    "print 50./(wl_jpas_snr[-1]-wl_jpas_snr[0])*3, 250./(wl_sdss_snr[-1]-wl_sdss_snr[0])*3.0"
   ]
  },
  {
   "cell_type": "code",
   "execution_count": 8,
   "metadata": {
    "collapsed": false
   },
   "outputs": [],
   "source": [
    "#add Gaussian noise to SEDs\n",
    "hdr = \"%10s %12s %12s\"%tuple(\"wavelength flux sigma\".split())\n",
    "fmt = \"%12.2f %12.4e %12.4e\"\n",
    "\n",
    "snr_spec, snr_jpas, snr_sdss = 20.0, 20.0, 250.0\n",
    "N = 20\n",
    "for fname in flist:\n",
    "    sed_hr = loadtxt(os.path.join(idir, fname), usecols=(0, 2))\n",
    "    \n",
    "    wl_hr, fl_hr = sed_hr.T\n",
    "    \n",
    "    fl_spec = interp(wl_spec, wl_hr, fl_hr)\n",
    "    sg_spec = sigma_spec*fl_spec/snr_spec\n",
    "    \n",
    "    fl_jpas = array([flux(sed_hr, filt) for filt in jpas_res])\n",
    "    sg_jpas = sigma_jpas*fl_jpas/snr_jpas\n",
    "    \n",
    "    fl_sdss = array([flux(sed_hr, filt) for filt in sdss_res])\n",
    "    sg_sdss = sigma_sdss*fl_sdss/snr_sdss\n",
    "    \n",
    "    for i in xrange(N):\n",
    "        fl_spec_noisy = fl_spec + random.randn(fl_spec.size)*sg_spec\n",
    "        fl_jpas_noisy = fl_jpas + random.randn(fl_jpas.size)*sg_jpas\n",
    "        fl_sdss_noisy = fl_sdss + random.randn(fl_sdss.size)*sg_sdss\n",
    "        \n",
    "        savetxt(\"{0}_{1:03d}.txt\".format(fname.split(\".\")[0], i), column_stack((wl_spec, fl_spec_noisy, sg_spec)), fmt=fmt, header=hdr)\n",
    "        break\n",
    "    break"
   ]
  }
 ],
 "metadata": {
  "kernelspec": {
   "display_name": "Python 2",
   "language": "python",
   "name": "python2"
  },
  "language_info": {
   "codemirror_mode": {
    "name": "ipython",
    "version": 2
   },
   "file_extension": ".py",
   "mimetype": "text/x-python",
   "name": "python",
   "nbconvert_exporter": "python",
   "pygments_lexer": "ipython2",
   "version": "2.7.11"
  }
 },
 "nbformat": 4,
 "nbformat_minor": 0
}
