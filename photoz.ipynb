{
 "metadata": {
  "name": "photoz"
 }, 
 "nbformat": 2, 
 "worksheets": [
  {
   "cells": [
    {
     "cell_type": "markdown", 
     "source": [
      "#SFR of near and far galaxies"
     ]
    }, 
    {
     "cell_type": "code", 
     "collapsed": true, 
     "input": [
      "from matplotlib import rc", 
      "", 
      "rc(\"text\", usetex = True)", 
      "", 
      "name = \"inputs/photoz3/SSAG3003\"", 
      "", 
      "t0, sfr0 = loadtxt(name + \"_z0p00.sfr\", unpack = True)", 
      "t3, sfr3 = loadtxt(name + \"_z3p00.sfr\", unpack = True)", 
      "", 
      "tform       = t0.max()", 
      "", 
      "tobs0       = t0.max()", 
      "M_total0    = trapz(sfr0, t0)", 
      "M_1gyr0     = trapz(sfr0[t0>=tobs0 - 1e9], t0[t0>=tobs0 - 1e9])", 
      "mean_age_M0 = average(t0[1:], weights = (t0[1:] - t0[:-1]) * (sfr0[1:] + sfr0[:-1]) / 2.0)", 
      "", 
      "tobs3       = t3.max()", 
      "M_total3    = trapz(sfr3, t3)", 
      "M_1gyr3     = trapz(sfr3[t3>=tobs3 - 1e9], t3[t3>=tobs3 - 1e9])", 
      "mean_age_M3 = average(t3[1:], weights = (t3[1:] - t3[:-1]) * (sfr3[1:] + sfr3[:-1]) / 2.0)", 
      "", 
      "print", 
      "print \"Some properties at z=0:\"", 
      "print", 
      "print \" * observation age   = {0:.3e} yr\".format(tobs0)", 
      "print \" * mean age          = {0:.3e} yr\".format(mean_age_M0)", 
      "print \" * total mass formed = {0:.3f} Mo\".format(M_total0)", 
      "print \" * mass of last Gyr  = {0:.3f} Mo\".format(M_1gyr0)", 
      "print", 
      "print \"Same properties at z=3:\"", 
      "print", 
      "print \" * observation age   = {0:.3e} yr\".format(tobs3)", 
      "print \" * mean age          = {0:.3e} yr\".format(mean_age_M3)", 
      "print \" * total mass formed = {0:.3f} Mo\".format(M_total3)", 
      "print \" * mass of last Gyr  = {0:.3f} Mo\".format(M_1gyr3)", 
      "print", 
      "print", 
      "", 
      "fig, ax = subplots(1, 1, figsize = (12, 5))", 
      "", 
      "ax.tick_params(labelsize = 18)", 
      "ax.set_xlabel(\"$t$ (Gyr)\", fontsize = 20)", 
      "ax.set_ylabel(\"SFR (M$\\odot$/Gyr)\", fontsize = 20)", 
      "", 
      "ax.set_xlim(tform/1e9 - 13.75, tform/1e9 + 0.3)", 
      "ax.set_ylim(0.0, 1.0)", 
      "", 
      "ax.set_xticks([tform/1e9 - 13.75, 0.0, tform/1e9])", 
      "ax.set_yticks(arange(0.1, 1.1, 0.1))", 
      "", 
      "ax.set_xticklabels([r\"$t_{\\rm BB}$\", r\"$t_{\\rm form}$\", r\"$t_{\\rm today}$\"])", 
      "", 
      "ax.fill_between(t0/1e9, sfr0*1e9, facecolor = \"lightgray\", edgecolor = \"k\", lw = 2)", 
      "ax.plot(tobs0/1e9, sfr0[-1]*1e9, \"o\", mfc = \"lightgray\", mec = \"k\", mew = 1.5, ms = 7, label = \"observation onset ($z=0$)\")", 
      "ax.axvline(mean_age_M0/1e9, color = \"k\", ls = \"-.\", lw = 2.5, label = \"mean age ($z=0$)\")", 
      "", 
      "ax.fill_between(t3/1e9, sfr3*1e9, color = \"gray\", lw = 0)", 
      "ax.plot(tobs3/1e9, sfr3[-1]*1e9, \"o\", mfc = \"gray\", mec = \"k\", mew = 1.5, ms = 9, label = \"observation onset ($z=3$)\")", 
      "ax.axvline(mean_age_M3/1e9, color = \"#FF8C00\", ls = \"-.\", lw = 2.5, label = \"mean age ($z=3$)\")", 
      "", 
      "legend(loc = 1, prop = {\"size\":18})"
     ], 
     "language": "python", 
     "outputs": [], 
     "prompt_number": 214
    }, 
    {
     "cell_type": "code", 
     "collapsed": true, 
     "input": [
      "wl0, fl0 = loadtxt(name + \"_z0p00.sed\", usecols = (0, 1), unpack = True)", 
      "wl3, fl3 = loadtxt(name + \"_z3p00.sed\", usecols = (0, 1), unpack = True)", 
      "", 
      "fig, ax = subplots(1, 1, figsize = (12, 5))", 
      "", 
      "ax.tick_params(labelsize = 18)", 
      "ax.set_xlim(3000, 10000)", 
      "", 
      "ax.set_xlabel(r\"$\\lambda$ (\\AA)\", fontsize = 20)", 
      "ax.set_ylabel(r\"Flux (L$\\odot$/\\AA)\", fontsize = 20)", 
      "", 
      "ax.plot(wl3, fl3, \"-\", lw = 1.5, color = \"lightgray\", label = \"SED ($z=3$, rest-frame)\")", 
      "ax.plot(wl0, fl0, \"-k\", lw = 2, label = \"SED ($z=0$)\")", 
      "ax.plot(wl3*4, fl3, \"-\", lw = 2, color = \"#FF8C00\", label = \"SED ($z=3$)\")", 
      "", 
      "legend(loc = 1, prop = {\"size\":18})"
     ], 
     "language": "python", 
     "outputs": [], 
     "prompt_number": 192
    }, 
    {
     "cell_type": "code", 
     "collapsed": false, 
     "input": [
      "import data_loader as dl", 
      "", 
      "z           = append(arange(0.0, 1.0, 0.05), arange(1.0, 3.1, 0.1))", 
      "zform_table = genfromtxt(\"inputs/photoz3/set3.zform\", dtype = None, names = True)", 
      "zform_table = zform_table[lexsort((zform_table[\"zform\"], zform_table[\"Galaxy\"]))]", 
      "SFH_IDs     = zform_table[\"Galaxy\"]", 
      "zform       = {SFH_ID : zform for SFH_ID, zform in zip(SFH_IDs, zform_table[\"zform\"])}", 
      "IDs_counts  = genfromtxt(\"inputs/photoz3/set3.counts\", dtype = None)", 
      "IDs, counts = IDs_counts[\"f0\"], IDs_counts[\"f1\"]", 
      "sel_runs    = [\"z0p00\", \"z0p05\", \"z0p50\", \"z1p00\", \"z1p50\", \"z2p00\", \"z2p50\", \"z2p70\", \"z2p80\", \"z2p90\", \"z3p00\"]", 
      "data_z      = {ID : dl.load_data(ID, count, n_trials = 50) for ID, count in zip(IDs, counts) if ID}", 
      "z2ID        = {value : ID for value, ID in zip(z, IDs)}", 
      "ID2z        = {ID : value for value, ID in zip(z, IDs)}", 
      "", 
      "del zform_table"
     ], 
     "language": "python", 
     "outputs": [], 
     "prompt_number": 6
    }, 
    {
     "cell_type": "code", 
     "collapsed": true, 
     "input": [
      "SFRs_z = {SFH_ID : {ID : loadtxt(\"inputs/photoz3/{0}_{1}.sfr\".format(SFH_ID, ID)) for ID in sel_runs if ID2z[ID] < zform[SFH_ID]} for SFH_ID in SFH_IDs}"
     ], 
     "language": "python", 
     "outputs": [], 
     "prompt_number": 2
    }, 
    {
     "cell_type": "code", 
     "collapsed": false, 
     "input": [
      "fig, ax = subplots(1, 1, figsize = (8, 8))", 
      "ax.tick_params(labelsize = 18)", 
      "", 
      "ax.set_xlabel(\"$t$ (yr)\", fontsize = 20)", 
      "ax.set_ylabel(\"SFR (M$\\odot$/yr)\", fontsize = 20)", 
      "", 
      "for i, ID in enumerate(sorted(SFRs_z[\"SSAG3022\"])) :", 
      "    semilogy(SFRs_z[\"SSAG3022\"][ID][:, 0], SFRs_z[\"SSAG3022\"][ID][:, 1], \"-\", lw = 3, label = ID)", 
      "", 
      "legend(loc = 0, prop = {\"size\":18})"
     ], 
     "language": "python", 
     "outputs": [], 
     "prompt_number": 3
    }, 
    {
     "cell_type": "code", 
     "collapsed": true, 
     "input": [
      "SFH_ID = \"SSAG3022\"", 
      "mask   = lambda ID : SFRs_z[SFH_ID][ID][:, 0] >= SFRs_z[SFH_ID][ID][:, 0].max() - 1e9", 
      "", 
      "t_obs      = np.array([SFRs_z[SFH_ID][ID][:, 0].max() for ID in sorted(SFRs_z[SFH_ID])])", 
      "redshifts  = np.array([ID2z[ID] for ID in sorted(SFRs_z[SFH_ID])])", 
      "mass_total = np.array([trapz(SFRs_z[SFH_ID][ID][:, 1], SFRs_z[SFH_ID][ID][:, 0]) for ID in sorted(SFRs_z[SFH_ID])])", 
      "mass_1Myr  = np.array([trapz(SFRs_z[SFH_ID][ID][mask(ID), 1], SFRs_z[SFH_ID][ID][mask(ID), 0]) for ID in sorted(SFRs_z[SFH_ID])])", 
      "residuals  = np.array([median(data_z[ID].get_SFH_residuals(\"{0}_{1}.jpas\".format(SFH_ID, ID))[\"M\"]) for ID in sorted(SFRs_z[SFH_ID])])"
     ], 
     "language": "python", 
     "outputs": [], 
     "prompt_number": 41
    }, 
    {
     "cell_type": "code", 
     "collapsed": false, 
     "input": [
      "figure(figsize = (10, 8))", 
      "", 
      "plot(redshifts, residuals * 100, \"-sk\")", 
      "#plot(redshifts, mass_1Myr / mass_total * 100, \"-ok\")"
     ], 
     "language": "python", 
     "outputs": [], 
     "prompt_number": 42
    }, 
    {
     "cell_type": "code", 
     "collapsed": false, 
     "input": [
      "wl_IDs, fl_lib_IDs, fl_syn_IDs = np.array([[\"w_eff_\" + str(i), \"L_lib_\" + str(i), \"L_syn_\" + str(i)] for i in xrange(242, 298)]).T", 
      "", 
      "wl_IDs     = list(wl_IDs)", 
      "fl_lib_IDs = list(fl_lib_IDs)", 
      "fl_syn_IDs = list(fl_syn_IDs)", 
      "", 
      "fig, axs = subplots(2, 2, figsize = (10, 10))", 
      "", 
      "ax1, ax2, ax3, ax4 = axs.ravel()", 
      "", 
      "ax1.set_xlabel(\"$t$ (yr)\", fontsize = 20)", 
      "ax1.set_ylabel(\"SFR (M$\\odot$/yr)\", fontsize = 20)", 
      "for i, ID in enumerate(sorted(SFRs_z[SFH_ID])[:3]) :", 
      "    ax1.semilogy(SFRs_z[SFH_ID][ID][:, 0], SFRs_z[SFH_ID][ID][:, 1], \"-\", lw = 3, label = ID)", 
      "    ax2.plot(list(data_z[ID].library[wl_IDs][0]), list(data_z[ID].library[fl_lib_IDs][0]), \"-\")", 
      "", 
      "ax1.legend(loc = 0, prop = {\"size\":10})", 
      "", 
      "print data_z[\"z0p00\"].physical[\"log_t_M_lib\"][0], data_z[\"z0p05\"].physical[\"log_t_M_lib\"][0], data_z[\"z0p50\"].physical[\"log_t_M_lib\"][0]"
     ], 
     "language": "python", 
     "outputs": [], 
     "prompt_number": 43
    }, 
    {
     "cell_type": "code", 
     "collapsed": true, 
     "input": [], 
     "language": "python", 
     "outputs": []
    }
   ]
  }
 ]
}