{
 "cells": [
  {
   "cell_type": "markdown",
   "metadata": {},
   "source": [
    "#Emission line detector\n",
    "##Introduction\n",
    "This is a code to test recoverability of the emission line information, namely, equivalent widths, intensities, etc...\n",
    "The idea is rather simple: since the emission lines in J-PAS spetra appears as an excess in three passbands, and this three bands form a triangle with a particular shape, it should be easy to parametrize it as a function of two parameters $k_1$ and $k_2$.\n",
    "\n",
    "##Approaches\n",
    "###Trigonometric parameters\n",
    "As a first approach this parameters were defined to be\n",
    "$$\\beta\\equiv k_1-k_2,$$\n",
    "where $\\beta$ is the angle as shown in the figure below.\n",
    "\n",
    "###Color parameters\n",
    "This time, the parameters were defined to be\n",
    "$$k_1\\equiv f_1/f_2\\text{ and }k_2\\equiv f_3/f_1,$$\n",
    "\n",
    "###Jesús' suggestion\n",
    "During a Student Meeting, was suggested the computation of the equivalent width from the J-PAS spectra..."
   ]
  },
  {
   "cell_type": "code",
   "execution_count": 1,
   "metadata": {
    "collapsed": false
   },
   "outputs": [
    {
     "name": "stdout",
     "output_type": "stream",
     "text": [
      "Populating the interactive namespace from numpy and matplotlib\n"
     ]
    }
   ],
   "source": [
    "%pylab inline\n",
    "\n",
    "import os\n",
    "import pyfits as pyf\n",
    "from scipy.optimize import leastsq\n",
    "from copy import deepcopy as copy"
   ]
  },
  {
   "cell_type": "code",
   "execution_count": 2,
   "metadata": {
    "collapsed": false
   },
   "outputs": [],
   "source": [
    "sdir = \"../inputs/real_deal6/unfiltered/\"\n",
    "flist = sorted([os.path.join(root, file) for root, subs, files in os.walk(sdir) for file in files if file.endswith(\".fit\")])\n",
    "jlist = sorted([os.path.join(root, file) for root, subs, files in os.walk(sdir) for file in files if \"_JPAS_\" in file])\n",
    "\n",
    "rows = dict(Hgamma=26, Hbeta=28, OIIIa=29, OIIIb=30, NIIa=35, Halpha=36, NIIb=37, Li=38, SIIa=39, SIIb=40)\n",
    "wlin = dict(Hgamma=5, Hbeta=10, OIIIa=12, OIIIb=12, NIIa=28, Halpha=28, NIIb=28, Li=30, SIIa=30, SIIb=30)\n",
    "ew = dict(Hgamma=[], Hbeta=[], OIIIa=[], OIIIb=[], NIIa=[], Halpha=[], NIIb=[], Li=[], SIIa=[], SIIb=[])\n",
    "er = copy(ew)\n",
    "k1 = copy(ew)\n",
    "k2 = copy(ew)\n",
    "mk = copy(ew)\n",
    "\n",
    "z = []\n",
    "for fn, jn in zip(flist, jlist):\n",
    "    f = pyf.open(fn)\n",
    "    wj, fj = loadtxt(jn, usecols=(0, 1), unpack=True)\n",
    "\n",
    "    z.append(f[0].header[\"z\"])\n",
    "    \n",
    "    for kw in ew:\n",
    "        mk[kw].append(all(fj[wlin[kw]:wlin[kw]+3]>0.0))\n",
    "        if any(fj[wlin[kw]:wlin[kw]+3]<=0.0):\n",
    "            k1[kw].append(np.nan)\n",
    "            k2[kw].append(np.nan)\n",
    "            ew[kw].append(np.nan)\n",
    "            er[kw].append(np.nan)\n",
    "        else:\n",
    "            k1[kw].append(fj[wlin[kw]]/fj[wlin[kw]+1])\n",
    "            k2[kw].append(fj[wlin[kw]]/fj[wlin[kw]+2])\n",
    "            ew[kw].append(f[2].data[\"ew\"][rows[kw]])\n",
    "            er[kw].append(f[2].data[\"ewErr\"][rows[kw]])"
   ]
  },
  {
   "cell_type": "code",
   "execution_count": 3,
   "metadata": {
    "collapsed": false
   },
   "outputs": [],
   "source": [
    "z = array(z)\n",
    "\n",
    "for kw in ew:\n",
    "    mk[kw] = array(mk[kw])\n",
    "    k1[kw] = array(k1[kw])\n",
    "    k2[kw] = array(k2[kw])\n",
    "    \n",
    "    ew[kw] = array(ew[kw])\n",
    "    er[kw] = array(er[kw])"
   ]
  },
  {
   "cell_type": "code",
   "execution_count": 4,
   "metadata": {
    "collapsed": false
   },
   "outputs": [],
   "source": [
    "mk[\"Hbeta,OIII\"] = mk[\"Hbeta\"]&mk[\"OIIIa\"]&mk[\"OIIIb\"]\n",
    "ew[\"Hbeta,OIII\"] = ew[\"Hbeta\"]+ew[\"OIIIa\"]+ew[\"OIIIb\"]\n",
    "k1[\"Hbeta,OIII\"] = k1[\"OIIIa\"]\n",
    "k2[\"Hbeta,OIII\"] = k2[\"OIIIa\"]\n",
    "\n",
    "mk[\"OIII\"] = mk[\"OIIIa\"]&mk[\"OIIIb\"]\n",
    "ew[\"OIII\"] = ew[\"OIIIa\"]+ew[\"OIIIb\"]\n",
    "k1[\"OIII\"] = k1[\"OIIIa\"]\n",
    "k2[\"OIII\"] = k2[\"OIIIa\"]\n",
    "\n",
    "mk[\"NII,Halpha,NII\"] = mk[\"NIIa\"]&mk[\"Halpha\"]&mk[\"NIIb\"]\n",
    "ew[\"NII,Halpha,NII\"] = ew[\"NIIa\"]+ew[\"Halpha\"]+ew[\"NIIb\"]\n",
    "k1[\"NII,Halpha,NII\"] = k1[\"Halpha\"]\n",
    "k2[\"NII,Halpha,NII\"] = k2[\"Halpha\"]\n",
    "\n",
    "mk[\"Li,SII,SII\"] = mk[\"Li\"]&mk[\"SIIa\"]&mk[\"SIIb\"]\n",
    "ew[\"Li,SII,SII\"] = ew[\"Li\"]+ew[\"SIIa\"]+ew[\"SIIb\"]\n",
    "k1[\"Li,SII,SII\"] = k1[\"Li\"]\n",
    "k2[\"Li,SII,SII\"] = k2[\"Li\"]"
   ]
  },
  {
   "cell_type": "code",
   "execution_count": 72,
   "metadata": {
    "collapsed": false
   },
   "outputs": [
    {
     "name": "stdout",
     "output_type": "stream",
     "text": [
      "[  217.4835193   1062.12222244] 10.3987363277\n",
      "[  278.81867414  1338.57486397] 13.2944667478\n"
     ]
    },
    {
     "name": "stderr",
     "output_type": "stream",
     "text": [
      "/usr/lib/python2.7/site-packages/IPython/kernel/__main__.py:15: RuntimeWarning: invalid value encountered in less\n"
     ]
    },
    {
     "data": {
      "text/plain": [
       "<matplotlib.text.Text at 0x7f20e281f750>"
      ]
     },
     "execution_count": 72,
     "metadata": {},
     "output_type": "execute_result"
    },
    {
     "data": {
      "image/png": "[encoded data removed]",
      "text/plain": [
       "<matplotlib.figure.Figure at 0x7f20e28a7750>"
      ]
     },
     "metadata": {},
     "output_type": "display_data"
    }
   ],
   "source": [
    "K = {}\n",
    "#for kw in ew: K[kw] = k1[kw]\n",
    "#for kw in ew: K[kw] = k2[kw]\n",
    "#for kw in ew: K[kw] = (k1[kw]+k2[kw])/(k1[kw]+k2[kw])[mk[kw]].max()\n",
    "for kw in ew: K[kw] = 1-(k1[kw]+k2[kw])/2\n",
    "\n",
    "def model(K, pars):\n",
    "    a, b = pars\n",
    "    return a*K + b*K**2\n",
    "\n",
    "def residual(pars, K, EW):\n",
    "    return EW - model(K, pars)\n",
    "\n",
    "for kw in [\"Hbeta,OIII\", \"NII,Halpha,NII\"]:\n",
    "    inlier = (z<=0.05)&(mk[kw])&(ew[kw]<500)\n",
    "\n",
    "    pars, n = leastsq(residual, x0=(1, 1), args=(K[kw][inlier], ew[kw][inlier]), ftol=1e-3)\n",
    "    K_i = linspace(K[kw][inlier].min(), K[kw][inlier].max(), 1000)\n",
    "\n",
    "    plot(K[kw][inlier], ew[kw][inlier], \".\", label=kw)\n",
    "    plot(K_i, model(K_i, pars), \"-\", lw=2)\n",
    "    print pars, model(0.04, pars)\n",
    "\n",
    "axvline(0.05, ls=\"--\", color=\"0.4\")\n",
    "legend(loc=0)\n",
    "xlabel(r\"K\", size=18)\n",
    "ylabel(r\"EW (\\AA)\", size=18)"
   ]
  },
  {
   "cell_type": "code",
   "execution_count": null,
   "metadata": {
    "collapsed": true
   },
   "outputs": [],
   "source": []
  }
 ],
 "metadata": {
  "kernelspec": {
   "display_name": "Python 2",
   "language": "python",
   "name": "python2"
  },
  "language_info": {
   "codemirror_mode": {
    "name": "ipython",
    "version": 2
   },
   "file_extension": ".py",
   "mimetype": "text/x-python",
   "name": "python",
   "nbconvert_exporter": "python",
   "pygments_lexer": "ipython2",
   "version": "2.7.10"
  }
 },
 "nbformat": 4,
 "nbformat_minor": 0
}
