{
 "metadata": {
  "name": "",
  "signature": "sha256:dcff4be52a23ae251b8c8a0837330cf94f05c97c06f8dde8e84477ceda966962"
 },
 "nbformat": 3,
 "nbformat_minor": 0,
 "worksheets": [
  {
   "cells": [
    {
     "cell_type": "code",
     "collapsed": false,
     "input": [
      "labels = [r\"$M_\\star$\", r\"$\\left<\\log{t_\\star}\\right>_M$\", r\"$\\left<\\log{t_\\star}\\right>_L$\",\n",
      "          r\"$Z_\\star/Z\\odot$\", r\"$A_V$\"]\n",
      "\n",
      "rc(\"xtick\", labelsize=\"small\")\n",
      "rc(\"ytick\", labelsize=\"small\")"
     ],
     "language": "python",
     "metadata": {},
     "outputs": [],
     "prompt_number": 1
    },
    {
     "cell_type": "code",
     "collapsed": false,
     "input": [
      "#load SDSS catalog\n",
      "#table_obs = genfromtxt(\"../../degree_thesis/data/photometry/total_photometry.txt\", dtype=None, names=True)\n",
      "#load whole SSAG\n",
      "table_lib = genfromtxt(\"../inputs/SSAG_catalog.txt\", dtype=None, names=True)\n",
      "table_lib[\"mwage\"] = log10(table_lib[\"mwage\"])\n",
      "Av = table_lib[\"V\"]-table_lib[\"pV\"]\n",
      "#load set3 sample\n",
      "table_set = genfromtxt(\"../inputs/set3_catalog.txt\", dtype=None, names=True)"
     ],
     "language": "python",
     "metadata": {},
     "outputs": [],
     "prompt_number": 2
    },
    {
     "cell_type": "code",
     "collapsed": false,
     "input": [
      "def perturbation(xo, yo, x, y, R=0.05):\n",
      "    idxs = range(x.size)\n",
      "    mask = (xo-x)**2 + (yo-y)**2<=R**2\n",
      "    \n",
      "    N = mask.sum()\n",
      "    index = random.choice(idxs)\n",
      "    return index, N\n",
      "\n",
      "xcolor_lib = table_lib[\"umag\"] - table_lib[\"gmag\"]\n",
      "ycolor_lib = table_lib[\"gmag\"] - table_lib[\"rmag\"]\n",
      "\n",
      "xcolor_set = table_set[\"umag\"] - table_set[\"gmag\"]\n",
      "ycolor_set = table_set[\"gmag\"] - table_set[\"rmag\"]\n",
      "\n",
      "si = array([argmin(abs(name-table_lib[\"name\"])) for name in table_set[\"name\"]])"
     ],
     "language": "python",
     "metadata": {},
     "outputs": [],
     "prompt_number": 3
    },
    {
     "cell_type": "code",
     "collapsed": false,
     "input": [
      "fig, axs = subplots(1, 5, figsize=(12, 3), sharey=True)\n",
      "\n",
      "ix, N = zip(*[perturbation(x, y, xcolor_lib, ycolor_lib, R=0.05) for x, y in zip(xcolor_set, ycolor_set)])\n",
      "ix = array(ix)\n",
      "\n",
      "fields = [\"mass\", \"mwage\", \"rfwla\", \"Z\"]\n",
      "lim = [(0, 7), (8, 10.2), (8, 10.2), (0, 2.5), (0, 5)]\n",
      "for i in xrange(axs.size):\n",
      "    if i!=4:\n",
      "        axs[i].hist(table_lib[fields[i]][si], 20, lw=0, range=lim[i])\n",
      "        axs[i].hist(table_lib[fields[i]][ix], 20, lw=0, range=lim[i], alpha=0.7)\n",
      "    else:\n",
      "        axs[i].hist(Av[si], 20, lw=0, range=lim[i])\n",
      "        axs[i].hist(Av[ix], 20, lw=0, range=lim[i], alpha=0.7)\n",
      "    \n",
      "    if i==0: axs[i].set_ylabel(\"Counts\", size=12)\n",
      "    axs[i].set_xlabel(labels[i], size=12)\n",
      "\n",
      "tight_layout()"
     ],
     "language": "python",
     "metadata": {},
     "outputs": [
      {
       "metadata": {},
       "output_type": "display_data",
       "png": "[encoded data removed]",
       "text": [
        "<matplotlib.figure.Figure at 0x7f0250d2eb50>"
       ]
      }
     ],
     "prompt_number": 7
    },
    {
     "cell_type": "code",
     "collapsed": false,
     "input": [],
     "language": "python",
     "metadata": {},
     "outputs": []
    }
   ],
   "metadata": {}
  }
 ]
}