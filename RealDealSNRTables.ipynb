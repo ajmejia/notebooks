{
 "cells": [
  {
   "cell_type": "code",
   "execution_count": 1,
   "metadata": {
    "collapsed": false
   },
   "outputs": [
    {
     "name": "stdout",
     "output_type": "stream",
     "text": [
      "Populating the interactive namespace from numpy and matplotlib\n"
     ]
    }
   ],
   "source": [
    "%pylab inline\n",
    "\n",
    "import os\n",
    "from operator import concat"
   ]
  },
  {
   "cell_type": "code",
   "execution_count": 2,
   "metadata": {
    "collapsed": false
   },
   "outputs": [
    {
     "name": "stdout",
     "output_type": "stream",
     "text": [
      "['input_file', 'snr_CaHK', 'snr_CaII', 'snr_Zfea', 'snr_wall', 'npix_CaHK', 'npix_CaII', 'npix_Zfea', 'npix_wall']\n"
     ]
    }
   ],
   "source": [
    "filters = dict(\n",
    "    CaHK=[2],\n",
    "    CaII=range(47,50),\n",
    "    Zfea=range(38,56),\n",
    "    wall=range(56)\n",
    ")\n",
    "snr_hdr = map(concat, [\"snr_\"]*len(filters), filters.keys())\n",
    "npx_hdr = map(concat, [\"npix_\"]*len(filters), filters.keys())\n",
    "fields = [\"input_file\"] + sorted(snr_hdr) + sorted(npx_hdr)\n",
    "print fields"
   ]
  },
  {
   "cell_type": "code",
   "execution_count": 3,
   "metadata": {
    "collapsed": false
   },
   "outputs": [
    {
     "name": "stderr",
     "output_type": "stream",
     "text": [
      "/home/mejia/Programs/miniconda2/lib/python2.7/site-packages/ipykernel/__main__.py:13: RuntimeWarning: invalid value encountered in divide\n"
     ]
    }
   ],
   "source": [
    "idir = os.path.expandvars(\"$master/inputs/real_deal/nem_jpas/\")\n",
    "flist = sorted([file for root, subs, files in os.walk(idir) for file in files if file.startswith(\"processed_\")])\n",
    "\n",
    "input_n = []\n",
    "snr, npx = dict(zip(filters.keys(),([],[],[],[]))), dict(zip(filters.keys(),([],[],[],[])))\n",
    "for file in flist:\n",
    "    fl, sg = loadtxt(idir+file, usecols=(1,2), unpack=True)\n",
    "\n",
    "    input_n.append(\"spSpec\"+file.lstrip(\"dynbasfit_processed_nem_JPAS_\").replace(\".txt\", \".fit\"))\n",
    "    for kw in filters.keys():\n",
    "        not_masked = fl[filters[kw]]>0.0\n",
    "        \n",
    "        snr[kw] += [mean((fl/sg)[filters[kw]][not_masked]) if any(not_masked) else 0.0]\n",
    "        npx[kw] += [count_nonzero(not_masked)]"
   ]
  },
  {
   "cell_type": "code",
   "execution_count": 4,
   "metadata": {
    "collapsed": false
   },
   "outputs": [],
   "source": [
    "oname = os.path.expandvars(\"$master/notebooks/data/RealDeal/nfilters.txt\")\n",
    "fmt = \"%25s\"+\"%10.2f\"*4+\"%10d\"*4\n",
    "hdr = (\"%23s\"+\"%10s\"*4+\"%10s\"*4)%tuple(fields)\n",
    "\n",
    "table = zeros(len(input_n), dtype=zip(fields,(\"|25S \"+\">i8 \"*4+\">f8 \"*4).split()))\n",
    "table[\"input_file\"] = input_n\n",
    "for kw in filters.keys():\n",
    "    table[\"snr_\"+kw] = snr[kw]\n",
    "    table[\"npix_\"+kw] = npx[kw]\n",
    "\n",
    "savetxt(oname, table, fmt=fmt, header=hdr)"
   ]
  }
 ],
 "metadata": {
  "kernelspec": {
   "display_name": "Python 2",
   "language": "python",
   "name": "python2"
  },
  "language_info": {
   "codemirror_mode": {
    "name": "ipython",
    "version": 2
   },
   "file_extension": ".py",
   "mimetype": "text/x-python",
   "name": "python",
   "nbconvert_exporter": "python",
   "pygments_lexer": "ipython2",
   "version": "2.7.12"
  }
 },
 "nbformat": 4,
 "nbformat_minor": 0
}
