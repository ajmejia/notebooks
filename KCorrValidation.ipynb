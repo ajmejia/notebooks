{
 "cells": [
  {
   "cell_type": "code",
   "execution_count": 1,
   "metadata": {
    "collapsed": false
   },
   "outputs": [
    {
     "name": "stdout",
     "output_type": "stream",
     "text": [
      "Populating the interactive namespace from numpy and matplotlib\n"
     ]
    }
   ],
   "source": [
    "%pylab inline\n",
    "\n",
    "from PyTools import integrated_flux\n",
    "import os, pres_style"
   ]
  },
  {
   "cell_type": "code",
   "execution_count": 2,
   "metadata": {
    "collapsed": true
   },
   "outputs": [],
   "source": [
    "odir = \"../inputs/real_deal7/\"\n",
    "\n",
    "flist = sorted([file for root, subs, files in os.walk(odir+\"sdss/\") for file in files if file.startswith(\"processed_SDSS\")])\n",
    "\n",
    "weff = array([3.5618E+03, 4.7189E+03, 6.1852E+03, 7.4997E+03, 8.9615E+03])\n",
    "sdss_res = loadtxt(\"../inputs/SDSS_filters.txt\")\n",
    "u_res = sdss_res[:47]\n",
    "g_res = sdss_res[47:47+89]\n",
    "r_res = sdss_res[47+89:47+89+75]\n",
    "i_res = sdss_res[47+89+75:47+89+75+89]\n",
    "z_res = sdss_res[47+89+75+89:]"
   ]
  },
  {
   "cell_type": "code",
   "execution_count": 4,
   "metadata": {
    "collapsed": false
   },
   "outputs": [],
   "source": [
    "sdss, spec = [], []\n",
    "band = [g_res, r_res, i_res]\n",
    "for file in flist:\n",
    "    kflux = loadtxt(odir+\"sdss/\"+file, usecols=(0,))\n",
    "    SED = loadtxt(odir+\"spec/\"+file.replace(\"SDSS\", \"SPEC\"), usecols=(0, 1))\n",
    "    sflux = array([integrated_flux(SED[SED[:, 1]>0.0, :], b) for b in band])\n",
    "\n",
    "    sdss.append(kflux)\n",
    "    spec.append(sflux)\n",
    "\n",
    "sdss = array(sdss)\n",
    "spec = array(spec)"
   ]
  }
 ],
 "metadata": {
  "kernelspec": {
   "display_name": "Python 2",
   "language": "python",
   "name": "python2"
  },
  "language_info": {
   "codemirror_mode": {
    "name": "ipython",
    "version": 2
   },
   "file_extension": ".py",
   "mimetype": "text/x-python",
   "name": "python",
   "nbconvert_exporter": "python",
   "pygments_lexer": "ipython2",
   "version": "2.7.11"
  }
 },
 "nbformat": 4,
 "nbformat_minor": 0
}
