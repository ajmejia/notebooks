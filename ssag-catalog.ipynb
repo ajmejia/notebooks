{
 "cells": [
  {
   "cell_type": "code",
   "execution_count": 1,
   "metadata": {},
   "outputs": [
    {
     "name": "stdout",
     "output_type": "stream",
     "text": [
      "Populating the interactive namespace from numpy and matplotlib\n"
     ]
    }
   ],
   "source": [
    "%pylab inline\n",
    "\n",
    "import os\n",
    "from scipy.ndimage.filters import gaussian_filter\n",
    "\n",
    "import styles.paper\n",
    "from styles.colors import *\n",
    "from styles.labels import *"
   ]
  },
  {
   "cell_type": "code",
   "execution_count": 2,
   "metadata": {
    "collapsed": true
   },
   "outputs": [],
   "source": [
    "path = os.path.expandvars(\"$phd/inputs/tta_cb13/ssag\")\n",
    "rpath = os.path.expandvars(\"$phd/inputs/tta_bc03\")\n",
    "\n",
    "colors = genfromtxt(\"{}/SSAG_1.00TauV.log\".format(path), dtype=None, names=True, skip_header=2)\n",
    "params = genfromtxt(\"{}/true_params.log\".format(path), dtype=None, names=True)\n",
    "recipe = genfromtxt(\"{}/SSAG_catalog.txt\".format(rpath), dtype=None, names=True, missing_values='\"\"')"
   ]
  },
  {
   "cell_type": "code",
   "execution_count": 3,
   "metadata": {
    "collapsed": true
   },
   "outputs": [],
   "source": [
    "#filter nd galaxies in params\n",
    "mask = array([not name.endswith(\"nd\") for name in params[\"Galaxy\"]], dtype=bool)\n",
    "params_clean = params[mask]\n",
    "\n",
    "#find the union between colors and params\n",
    "mask = array([name in params_clean[\"Galaxy\"] for name in colors[\"Seq\"]], dtype=bool)\n",
    "colors_clean = colors[mask]"
   ]
  },
  {
   "cell_type": "code",
   "execution_count": 4,
   "metadata": {
    "collapsed": true
   },
   "outputs": [],
   "source": [
    "#write joint tables\n",
    "c_fields = \"u g r i z\".split()\n",
    "p_fields = \"Masszobs rFWLAyr ZZsun Av_eff\".split()\n",
    "t_fields = \"name u g r i z M_lib log_t_L_lib log_Z_L_lib Av_lib\".split()\n",
    "t_dtypes = zip(t_fields, (\"S18 \"+9*\"<f8 \").split())\n",
    "\n",
    "p_map = dict(zip(p_fields, t_fields[6:]))\n",
    "\n",
    "catalog = zeros(params_clean.size, dtype=t_dtypes)\n",
    "\n",
    "catalog[\"name\"] = params_clean[\"Galaxy\"]\n",
    "for field in c_fields: catalog[field] = colors_clean[field]\n",
    "for p_field, t_field in p_map.iteritems(): catalog[t_field] = params_clean[p_field]\n",
    "\n",
    "fmt = \"%16s\"+5*\"%8.4f\"+4*\"%12.5f\"\n",
    "hdr = (\"%14s\"+5*\"%8s\"+4*\"%12s\")%tuple(t_fields)\n",
    "#savetxt(\"{}/ssag/ssag_cb13_catalog.txt\".format(path), catalog, fmt=fmt, header=hdr)"
   ]
  },
  {
   "cell_type": "code",
   "execution_count": 5,
   "metadata": {},
   "outputs": [
    {
     "data": {
      "image/png": "[encoded data removed]",
      "text/plain": [
       "<matplotlib.figure.Figure at 0x7f4359528c10>"
      ]
     },
     "metadata": {},
     "output_type": "display_data"
    }
   ],
   "source": [
    "kws = \"tform\", \"gamma\", \"tcut\", \"taucut\", \"burstage\", \"burstext\", \"A\", \"Z\", \"sigma\", (\"tau\", \"mu\")\n",
    "lbs = r\"$t_\\text{form}$ (Ga\\~no)\", r\"$\\gamma$ (Ga\\~no$^{-1}$)\", r\"$t_\\text{trunc}$ (Ga\\~no)\", r\"$\\tau_\\text{trunc}$ (Ga\\~no)\", r\"$t_\\text{brote}$ (Ga\\~no)\", r\"$t_\\text{ext}$ (Ma\\~no)\", r\"$A$\", r\"$Z/\\text{Z}_\\odot$\", r\"$\\sigma_v$ (km\\,s$^{-1}$)\", r\"$A_V$ (mag)\"\n",
    "fns = lambda t,x: t[x], lambda t,x: t[x], lambda t,x: t[x], lambda t,x: t[x], lambda t,x: t[x], lambda t,x: t[x], lambda t,x: t[x], lambda t,x: t[x], lambda t,x: t[x], lambda t,x: 1.086*t[x[0]]*t[x[1]]\n",
    "uns = 1e-9, 1e9, 1e-9, 1e-9, 1e-9, 1e-6, 1, 1, 1, 1\n",
    "tks = (2,7,12), (0.25,0.75), (0,5,10), (0.25,0.75), (2,7,12), (50,150,250), (0.5,2.0,3.5), (0.5,1,2.5), (50,200,350), (0,2,4)\n",
    "nb = 100\n",
    "\n",
    "fig, axs = subplots(2, len(kws)/2, figsize=(6,2), sharey=True)\n",
    "\n",
    "ylim(0,1.2)\n",
    "\n",
    "axs = axs.ravel()\n",
    "\n",
    "for j in xrange(axs.size):\n",
    "    par = fns[j](recipe, kws[j])\n",
    "    mask = ~isnan(par)\n",
    "    \n",
    "    N, xe = histogram(par[mask], nb)\n",
    "    x = 0.5*(xe[1:]+xe[:-1]) * uns[j]\n",
    "    \n",
    "    X = linspace(x.min(), x.max(), 100)\n",
    "    Y = gaussian_filter(interp(X, x, N),5)\n",
    "    \n",
    "    #axs[j].fill_between(X, Y/Y.max(), facecolor=\"none\", edgecolor=samples[\"medium\"], lw=0, hatch=10*\"/\")\n",
    "    axs[j].fill_between(X, (Y/Y.max()+0.2)/1.2, facecolor=samples[\"medium\"], lw=0)\n",
    "    axs[j].set_xlim(X.min(), X.max())\n",
    "    axs[j].set_xticks(tks[j])\n",
    "    axs[j].set_xlabel(lbs[j])\n",
    "    if axs[j].is_first_col(): axs[j].set_ylabel(r\"DP\")\n",
    "    if axs[j].is_first_row():\n",
    "        axs[j].tick_params(bottom=False, labelbottom=False, top=True, labeltop=True)\n",
    "        axs[j].xaxis.set_label_position(\"top\")\n",
    "\n",
    "fig.tight_layout()\n",
    "fig.subplots_adjust(wspace=0.2, hspace=0.1)\n",
    "fig.savefig(\"{}/ssag-pdf\".format(os.path.expandvars(\"$HOME/Documents/Publications/PhD-thesis/figures\")))"
   ]
  },
  {
   "cell_type": "code",
   "execution_count": 16,
   "metadata": {},
   "outputs": [
    {
     "data": {
      "image/png": "[encoded data removed]",
      "text/plain": [
       "<matplotlib.figure.Figure at 0x7f4366308950>"
      ]
     },
     "metadata": {},
     "output_type": "display_data"
    }
   ],
   "source": [
    "fig, ax = subplots(1, 1)\n",
    "\n",
    "psi_cont = lambda t, gamma, tform, mask: exp(-(tform-t)*gamma)*mask.astype(float)\n",
    "psi_trun = lambda t, ttrun, tautrun, cont, mask: cont*exp(-(ttrun-t)/tautrun)*mask.astype(float)\n",
    "psi_burs = lambda t, tburs, text, A, mass, mask: mass*A/text*ones(t.size)*mask.astype(float)\n",
    "\n",
    "t = linspace(0.0, 13.75e9, 1000)\n",
    "\n",
    "tform = 11e9\n",
    "gamma = 1/9e9\n",
    "ttrun = 4e9\n",
    "tautrun = 3e9\n",
    "tburs = 8e9\n",
    "text = 1e9\n",
    "A = 0.05\n",
    "\n",
    "mask_trun = t<=ttrun\n",
    "mask_burs = (t<=tburs)&(t>=tburs-text)\n",
    "mask_cont = (t<=tform)&(~mask_trun)\n",
    "\n",
    "psi_tot = psi_cont(t, gamma, tform, mask_cont&(~mask_trun)) +\\\n",
    "          psi_trun(t, ttrun, tautrun, interp(ttrun,t,psi_cont(t,gamma,tform,ones(t.size))), mask_trun)\n",
    "\n",
    "xlim(t[0], t[-1])\n",
    "ylim(0.0,1.2)\n",
    "\n",
    "fill_between(t[mask_cont|mask_trun], psi_tot[mask_cont|mask_trun], lw=0, facecolor=\"none\", edgecolor=samples[\"medium\"], hatch=7*\"/\")\n",
    "plot(t[mask_trun], psi_trun(t,ttrun,tautrun,interp(ttrun,t,psi_cont(t,gamma,tform,ones(t.size))),mask_trun)[mask_trun], lw=1.5, color=samples[\"hot\"])\n",
    "plot(t[mask_burs], psi_burs(t,tburs,text,A,trapz(psi_cont(t,gamma,tform,mask_cont),t),mask_burs)[mask_burs]+psi_cont(t,gamma,tform,mask_burs)[mask_burs], lw=1.5, color=samples[\"warm\"])\n",
    "axvline(tburs-text, psi_cont(t,gamma,tform,mask_cont)[mask_burs].min()/1.2, (psi_burs(t,tburs,text,A,trapz(psi_cont(t,gamma,tform,mask_cont),t),mask_burs)[mask_burs]+psi_cont(t,gamma,tform,mask_burs)[mask_burs]).min()/1.2, ls=\":\", lw=1.0, color=samples[\"warm\"])\n",
    "axvline(tburs, psi_cont(t,gamma,tform,mask_cont)[mask_burs].max()/1.2, (psi_burs(t,tburs,text,A,trapz(psi_cont(t,gamma,tform,mask_cont),t),mask_burs)[mask_burs]+psi_cont(t,gamma,tform,mask_burs)[mask_burs]).max()/1.2, ls=\":\", lw=1.0, color=samples[\"warm\"])\n",
    "plot(t[mask_cont&(t<tburs-text)], psi_cont(t,gamma,tform,mask_cont)[mask_cont&(t<tburs-text)], lw=1.5, color=samples[\"cold\"])\n",
    "plot(t[mask_cont&(t>tburs)], psi_cont(t,gamma,tform,mask_cont)[mask_cont&(t>tburs)], lw=1.5, color=samples[\"cold\"])\n",
    "plot(t[mask_cont|(mask_trun)], psi_cont(t,gamma,tform,mask_cont|(mask_trun))[mask_cont|(mask_trun)], \":\", lw=1.0, color=samples[\"cold\"])\n",
    "\n",
    "gca().set_yticks([])\n",
    "gca().set_xticks([t[0],ttrun,tburs,tform,t[-1]])\n",
    "gca().set_xticklabels(r\"Presente,$t_\\text{trunc}$,$t_\\text{brote}$,$t_\\text{form}$,G.~E.\".split(\",\"))\n",
    "\n",
    "xlabel(r\"Tiempo\")\n",
    "ylabel(r\"TFE\")\n",
    "\n",
    "plt.text(0.05e10, 0.50, r\"$$\\exp{\\left(-t/\\tau_\\text{trunc}\\right)}$$\", size=tsize, color=samples[\"hot\"], ha=\"left\")\n",
    "plt.text(0.90e10, 1.05, r\"$$\\exp{\\left(-t\\gamma\\right)}$$\", color=samples[\"cold\"], size=tsize, ha=\"left\")\n",
    "plt.text(0.15e10, 0.90, r\"$$\\psi_\\text{cont}+A\\times M_\\text{sub}/t_\\text{ext}$$\", color=samples[\"warm\"], size=tsize, ha=\"left\")\n",
    "plt.text(0.25e10, 0.10, r\"$$M_\\text{sub}\\equiv\\int_{0}^{t_{\\text{form}}}\\left(\\psi_\\text{cont}+\\psi_\\text{trunc}\\right)\\,\\text{d}t\\,$$\", size=tsize, ha=\"left\", color=samples[\"medium\"], bbox=dict(fc=\"w\", ec=\"none\",pad=2))\n",
    "\n",
    "tight_layout()\n",
    "savefig(\"{}/ssag-sfh\".format(os.path.expandvars(\"$HOME/Documents/Publications/PhD-thesis/figures\")))"
   ]
  }
 ],
 "metadata": {
  "kernelspec": {
   "display_name": "Python 2",
   "language": "python",
   "name": "python2"
  },
  "language_info": {
   "codemirror_mode": {
    "name": "ipython",
    "version": 2
   },
   "file_extension": ".py",
   "mimetype": "text/x-python",
   "name": "python",
   "nbconvert_exporter": "python",
   "pygments_lexer": "ipython2",
   "version": "2.7.13"
  }
 },
 "nbformat": 4,
 "nbformat_minor": 1
}
