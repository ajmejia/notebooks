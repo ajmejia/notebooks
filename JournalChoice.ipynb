{
 "cells": [
  {
   "cell_type": "code",
   "execution_count": null,
   "metadata": {
    "collapsed": false
   },
   "outputs": [],
   "source": [
    "%pylab inline\n",
    "\n",
    "from PyAstronomy.pyasl.asl.astroTimeLegacy import get_juldate, juldate, datetime\n",
    "import pres_style, time"
   ]
  },
  {
   "cell_type": "code",
   "execution_count": null,
   "metadata": {
    "collapsed": true
   },
   "outputs": [],
   "source": [
    "random.seed(time.localtime().tm_yday)\n",
    "GMTCorr = 0.18752167467027903\n",
    "RedJulD = 2400000\n",
    "\n",
    "StList = {\"Marie\":    1.0,\n",
    "          \"Eddy\":     1.0,\n",
    "          \"Adriana\":  1.0,\n",
    "          \"Alfredo\":  1.0,\n",
    "          \"Maria\":    1.0,\n",
    "          \"Alice\":    1.0,\n",
    "          \"Ibranny\":  1.0,\n",
    "          \"Eugenio\":  1.0,\n",
    "          \"Luis V\":   1.0,\n",
    "          \"Taurimay\": 1.0}\n",
    "ReList = {\"Carlos\":   1.0,\n",
    "          \"Gladis\":   1.0,\n",
    "          \"Jesus\":    1.0,\n",
    "          \"Kathy\":    1.0,\n",
    "          \"Cecilia\":  1.0,\n",
    "          \"Juan\":     1.0,\n",
    "          \"Giuliat\":  1.0,\n",
    "          \"Elvis\":    1.0,\n",
    "          \"Luis R\":   1.0}\n",
    "\n",
    "StLast = {\"Marie\":    [2015, 8, 1],\n",
    "          \"Eddy\":     [2015, 8, 1],\n",
    "          \"Adriana\":  [2015, 8, 1],\n",
    "          \"Alfredo\":  [2015, 8, 1],\n",
    "          \"Maria\":    [2015, 8, 1],\n",
    "          \"Alice\":    [2015, 8, 1],\n",
    "          \"Ibranny\":  [2015, 8, 1],\n",
    "          \"Eugenio\":  [2015, 8, 1],\n",
    "          \"Luis V\":   [2015, 8, 1],\n",
    "          \"Taurimay\": [2015, 8, 1]}\n",
    "ReLast = {\"Carlos\":   [2015, 8, 1],\n",
    "          \"Gladis\":   [2015, 8, 1],\n",
    "          \"Jesus\":    [2015, 8, 1],\n",
    "          \"Kathy\":    [2015, 8, 1],\n",
    "          \"Cecilia\":  [2015, 8, 1],\n",
    "          \"Juan\":     [2015, 8, 1],\n",
    "          \"Giuliat\":  [2015, 8, 1],\n",
    "          \"Elvis\":    [2015, 8, 1],\n",
    "          \"Luis R\":   [2015, 8, 1]}\n",
    "\n",
    "def StWeights():\n",
    "    names = sorted(StList.keys())\n",
    "    for name in names:\n",
    "        last = datetime.datetime(*StLast[name])\n",
    "        StList[name] = get_juldate()-GMTCorr-RedJulD-juldate(last)\n",
    "\n",
    "def ReWeights():\n",
    "    names = sorted(ReList.keys())\n",
    "    for name in names:\n",
    "        last = datetime.datetime(*ReLast[name])\n",
    "        ReList[name] = get_juldate()-GMTCorr-RedJulD-juldate(last)"
   ]
  },
  {
   "cell_type": "code",
   "execution_count": null,
   "metadata": {
    "collapsed": false
   },
   "outputs": [],
   "source": [
    "for name in StLast: print \"{0:10s} {1:s}\".format(name, StLast[name])\n",
    "print\n",
    "for name in ReLast: print \"{0:10s} {1:s}\".format(name, ReLast[name])"
   ]
  },
  {
   "cell_type": "code",
   "execution_count": null,
   "metadata": {
    "collapsed": false
   },
   "outputs": [],
   "source": [
    "StLast[\"Eddy\"] = [2015, 11, 25]\n",
    "StLast[\"Eugenio\"] = [2015, 11, 25]\n",
    "StLast[\"Alfredo\"] = [2015, 10, 21]\n",
    "\n",
    "ReLast[\"Cecilia\"] = [2015, 11, 4]\n",
    "ReLast[\"Juan\"] = [2015, 10, 21]\n",
    "\n",
    "StWeights()\n",
    "ReWeights()\n",
    "\n",
    "# No ESTAN ================================\n",
    "StList[\"Alice\"] = 0\n",
    "StList[\"Maria\"] = 0\n",
    "StList[\"Adriana\"] = 0\n",
    "\n",
    "ReList[\"Elvis\"] = 0\n",
    "# =========================================\n",
    "\n",
    "for name in StLast: print \"{0:10s}: {1:f}\".format(name, StList[name])\n",
    "print\n",
    "for name in ReLast: print \"{0:10s}: {1:f}\".format(name, ReList[name])"
   ]
  },
  {
   "cell_type": "code",
   "execution_count": null,
   "metadata": {
    "collapsed": false
   },
   "outputs": [],
   "source": [
    "fig, axs = subplots(2, 1, figsize=(10, 7), sharey=True)\n",
    "\n",
    "ylim(-0.1, 1.2)\n",
    "\n",
    "axs[0].plot(range(1, len(ReList)+1), ReList.values()/np.max(ReList.values()), \"o-\")\n",
    "axs[0].set_xlim(0, len(ReList)+1)\n",
    "axs[0].set_xticks(range(0, len(ReList)+2))\n",
    "axs[0].set_xticklabels([\"\"]+ReList.keys()+[\"\"], rotation=20)\n",
    "axs[0].grid()\n",
    "axs[0].set_xlabel(\"Researcher\")\n",
    "axs[0].set_ylabel(\"Weights\")\n",
    "\n",
    "axs[1].plot(range(1, len(StList)+1), StList.values()/np.max(StList.values()), \"o-\")\n",
    "axs[1].set_xlim(0, len(StList)+1)\n",
    "axs[1].set_xticks(range(0, len(StList)+2))\n",
    "axs[1].set_xticklabels([\"\"]+StList.keys()+[\"\"], rotation=20)\n",
    "axs[1].grid()\n",
    "axs[1].set_xlabel(\"Student\")\n",
    "axs[1].set_ylabel(\"Weights\")\n",
    "\n",
    "fig.tight_layout()\n",
    "pass"
   ]
  },
  {
   "cell_type": "code",
   "execution_count": null,
   "metadata": {
    "collapsed": false
   },
   "outputs": [],
   "source": [
    "StChoice = random.choice(StList.keys(), 2, replace=False, p=StList.values()/sum(StList.values()))\n",
    "ReChoice = random.choice(ReList.keys(), 1, replace=False, p=ReList.values()/sum(ReList.values()))\n",
    "\n",
    "print \"Researcher: {}\".format(ReChoice[0])\n",
    "print \"Students  : {} & {}\".format(*StChoice)"
   ]
  }
 ],
 "metadata": {
  "kernelspec": {
   "display_name": "Python 2",
   "language": "python",
   "name": "python2"
  },
  "language_info": {
   "codemirror_mode": {
    "name": "ipython",
    "version": 2
   },
   "file_extension": ".py",
   "mimetype": "text/x-python",
   "name": "python",
   "nbconvert_exporter": "python",
   "pygments_lexer": "ipython2",
   "version": "2.7.6"
  }
 },
 "nbformat": 4,
 "nbformat_minor": 0
}
