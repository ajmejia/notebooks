{
 "metadata": {
  "name": "",
  "signature": "sha256:becba556b361a65e2ff5b97bf9e3cea33ca9ee582372aa2d26dad2fae2b5458c"
 },
 "nbformat": 3,
 "nbformat_minor": 0,
 "worksheets": [
  {
   "cells": [
    {
     "cell_type": "code",
     "collapsed": false,
     "input": [
      "indexes = []\n",
      "for i in xrange(120): indexes += range(i * 100, i * 100 + 50)\n",
      "\n",
      "lsnr_seds = genfromtxt(\"../outputs/photometric_fit/photoz3/photofit_z0p00.library\")[:6000]\n",
      "hsnr_seds = genfromtxt(\"../outputs/photometric_fit/remote_set3/photofit_JPAS.library\")[indexes]\n",
      "\n",
      "print lsnr_seds.shape, hsnr_seds.shape"
     ],
     "language": "python",
     "metadata": {},
     "outputs": []
    },
    {
     "cell_type": "code",
     "collapsed": false,
     "input": [
      "wli = [2+i for i in xrange(56)]\n",
      "fli = [wli[-1]+56+1+i for i in xrange(56)]\n",
      "sgi = [fli[-1]+1+i for i in xrange(56)]\n",
      "\n",
      "lsnr = lsnr_seds[:, fli] / lsnr_seds[:, sgi]\n",
      "hsnr = hsnr_seds[:, fli] / hsnr_seds[:, sgi]\n",
      "\n",
      "med_lsnr = median(lsnr, axis=1)\n",
      "med_hsnr = median(hsnr, axis=1)\n",
      "\n",
      "print median(med_hsnr)\n",
      "print median(med_lsnr)\n",
      "\n",
      "hist(med_lsnr, 40, histtype=\"step\")"
     ],
     "language": "python",
     "metadata": {},
     "outputs": []
    },
    {
     "cell_type": "code",
     "collapsed": false,
     "input": [
      "hist(med_hsnr, 40, histtype=\"step\")"
     ],
     "language": "python",
     "metadata": {},
     "outputs": []
    },
    {
     "cell_type": "code",
     "collapsed": false,
     "input": [],
     "language": "python",
     "metadata": {},
     "outputs": []
    }
   ],
   "metadata": {}
  }
 ]
}