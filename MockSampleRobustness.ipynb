{
 "cells": [
  {
   "cell_type": "code",
   "execution_count": null,
   "metadata": {
    "collapsed": false
   },
   "outputs": [],
   "source": [
    "%pylab inline\n",
    "\n",
    "from PyTools import nbins\n",
    "from scipy.ndimage.filters import gaussian_filter\n",
    "from mpl_toolkits.axes_grid1.inset_locator import inset_axes\n",
    "import paper_style, os"
   ]
  },
  {
   "cell_type": "code",
   "execution_count": null,
   "metadata": {
    "collapsed": false
   },
   "outputs": [],
   "source": [
    "par_lbs = [r\"$M_\\star$\", r\"$\\left<\\log{t_\\star}\\right>_M$\", r\"$\\left<\\log{t_\\star}\\right>_L$\",\n",
    "           r\"$\\left<\\log{Z_\\star/Z\\odot}\\right>_M$\", r\"$\\left<\\log{Z_\\star/Z\\odot}\\right>_L$\", r\"$A_V$\"]\n",
    "res_lbs = [r\"$\\Delta_r M_\\star$\", r\"$\\Delta\\left<\\log{t_\\star}\\right>_M$\", r\"$\\Delta\\left<\\log{t_\\star}\\right>_L$\",\n",
    "           r\"$\\Delta\\left<\\log{Z_\\star}\\right>_M$\", r\"$\\Delta\\left<\\log{Z_\\star}\\right>_L$\",\n",
    "           r\"$\\Delta A_V$\"]\n",
    "\n",
    "od = os.path.expandvars(\"$HOME/Documents/Papers/photofit_near_paper/\")"
   ]
  },
  {
   "cell_type": "code",
   "execution_count": null,
   "metadata": {
    "collapsed": false
   },
   "outputs": [],
   "source": [
    "#load SDSS catalog\n",
    "table_obs = genfromtxt(\"../inputs/total_photometry.txt\", dtype=None, names=True)\n",
    "\n",
    "xcolor_obs = (table_obs[\"modelMag_u\"]-table_obs[\"modelMag_g\"])[table_obs[\"z\"]<0.03]\n",
    "ycolor_obs = (table_obs[\"modelMag_g\"]-table_obs[\"modelMag_r\"])[table_obs[\"z\"]<0.03]\n",
    "\n",
    "#load whole SSAG\n",
    "table = genfromtxt(\"../inputs/SSAG_catalog.txt\", dtype=None, names=True)\n",
    "table[\"mwage\"] = log10(table[\"mwage\"])\n",
    "\n",
    "table_lib = zeros(table.shape[0], dtype=table.dtype.descr+[(\"Av\", \"<f8\")])\n",
    "for f in table.dtype.names: table_lib[f] = table[f]\n",
    "table_lib[\"Av\"] = table[\"V\"]-table[\"pV\"]\n",
    "\n",
    "#load set3 sample\n",
    "table_set = genfromtxt(\"../inputs/set3_catalog.txt\", dtype=None, names=True)"
   ]
  },
  {
   "cell_type": "code",
   "execution_count": null,
   "metadata": {
    "collapsed": false
   },
   "outputs": [],
   "source": [
    "def perturbation(xo, yo, x, y, R=0.05):\n",
    "    idxs = arange(x.size, dtype=np.int)\n",
    "    mask = (xo-x)**2 + (yo-y)**2<=R**2\n",
    "\n",
    "    index = random.choice(idxs[mask])\n",
    "    return index\n",
    "\n",
    "xcolor_lib = table_lib[\"umag\"] - table_lib[\"gmag\"]\n",
    "ycolor_lib = table_lib[\"gmag\"] - table_lib[\"rmag\"]\n",
    "\n",
    "xcolor_set = table_set[\"umag\"] - table_set[\"gmag\"]\n",
    "ycolor_set = table_set[\"gmag\"] - table_set[\"rmag\"]\n",
    "\n",
    "si = array([argmin(abs(name-table_lib[\"name\"])) for name in table_set[\"name\"]])"
   ]
  },
  {
   "cell_type": "code",
   "execution_count": null,
   "metadata": {
    "collapsed": false
   },
   "outputs": [],
   "source": [
    "labels = [r\"$M_\\star$\", r\"$\\left<\\log{t_\\star}\\right>_L$\", r\"$Z_\\star/Z\\odot$\", r\"$A_V$\"]\n",
    "limits = [(0, 7), (8, 10.2), (0, 2.5), (0, 5)]\n",
    "fields = [\"mass\", \"rfwla\", \"Z\", \"Av\"]\n",
    "xi, xc, xe = [], [], []\n",
    "for i in xrange(100):\n",
    "    ind = array([perturbation(x, y, xcolor_lib, ycolor_lib) for x, y in zip(xcolor_set, ycolor_set)])\n",
    "    xi.append(ind)\n",
    "    \n",
    "    fcounts, fcenter = [], []\n",
    "    for j in xrange(len(fields)):\n",
    "        counts, edges = histogram(table_lib[fields[j]][ind], 20, range=limits[j])\n",
    "        fcounts.append(counts)\n",
    "        fcenter.append((edges[:-1]+edges[1:])*0.5)\n",
    "    xc.append(fcounts)\n",
    "\n",
    "xi = array(xi)\n",
    "xc = array(xc)\n",
    "xe = array(fcenter)"
   ]
  },
  {
   "cell_type": "code",
   "execution_count": null,
   "metadata": {
    "collapsed": false
   },
   "outputs": [],
   "source": [
    "fig, axs = subplots(2, 2, figsize=(3.3, 3.3), sharey=True)\n",
    "axs = axs.ravel()\n",
    "\n",
    "mean_counts = xc.mean(axis=0)\n",
    "sigm_counts = xc.std(axis=0)\n",
    "\n",
    "for i in xrange(axs.size):\n",
    "    axs[i].hist(table_lib[fields[i]][si], 20, range=limits[i], lw=0, histtype=\"stepfilled\", color=\"0.2\")\n",
    "    axs[i].plot(xe[i], mean_counts[i]-sigm_counts[i], \"--\", color=\"#AA4455\")\n",
    "    axs[i].plot(xe[i], mean_counts[i]+sigm_counts[i], \"--\", color=\"#AA4455\")\n",
    "    axs[i].plot(xe[i], mean_counts[i], \"-\", color=\"#AA4455\")\n",
    "    \n",
    "    axs[i].set_xlabel(labels[i])\n",
    "\n",
    "ylim(0, 55)\n",
    "axs[0].set_ylabel(r\"\\bf Counts\")\n",
    "axs[2].set_ylabel(r\"\\bf Counts\")\n",
    "tight_layout()\n",
    "savefig(od + \"current_sample_robustness\")"
   ]
  },
  {
   "cell_type": "code",
   "execution_count": null,
   "metadata": {
    "collapsed": false
   },
   "outputs": [],
   "source": [
    "xcolor_cum = append(xcolor_set, xcolor_lib[xi])\n",
    "ycolor_cum = append(ycolor_set, ycolor_lib[xi])\n",
    "\n",
    "xlm = array((0.7, 2.0))\n",
    "ylm = array((0.2, 1.0))\n",
    "axs = subplot(111, xlim=xlm, ylim=ylm)\n",
    "ins = inset_axes(axs, width=\"2.5%\", height=\"40%\", loc=2)\n",
    "\n",
    "axs.set_xlabel(r\"\\bf $u-g$ (mag)\")\n",
    "axs.set_ylabel(r\"\\bf $g-r$ (mag)\")\n",
    "\n",
    "nx, xini, xfin, bsx = nbins(xcolor_obs)\n",
    "ny, yini, yfin, bsy = nbins(ycolor_obs)\n",
    "\n",
    "H, xedges, yedges = histogram2d(xcolor_obs, ycolor_obs, bins=(nx, ny), normed=True)\n",
    "H = gaussian_filter(H, sigma=2)\n",
    "\n",
    "cont = axs.contourf(xedges[:- 1], yedges[:- 1], H.T, cmap=cm.rainbow, levels=np.arange(1, 5, 0.5))\n",
    "cb = colorbar(cont, cax=ins)\n",
    "cb.set_label(r\"\\bf galaxies per bin\")\n",
    "\n",
    "axs.scatter(xcolor_cum[120:], ycolor_cum[120:], marker=\"o\", lw=0.0, c=\"0.2\", s=7)\n",
    "axs.scatter(xcolor_cum[:120], ycolor_cum[:120], marker=\"o\", lw=0.0, c=\"yellow\")\n",
    "\n",
    "axs.errorbar([1.9], [0.3], 0.05, 0.05, color=\"0.2\", ecolor=\"0.2\", capsize=5, lw=2, mew=2)\n",
    "\n",
    "ins.tick_params(right=True, left=False, direction=\"out\", labelright=\"on\", labelleft=\"off\")\n",
    "ins.yaxis.set_label_position(\"right\")\n",
    "\n",
    "savefig(\"sample_robustness\")"
   ]
  }
 ],
 "metadata": {
  "kernelspec": {
   "display_name": "Python 2",
   "language": "python",
   "name": "python2"
  },
  "language_info": {
   "codemirror_mode": {
    "name": "ipython",
    "version": 2
   },
   "file_extension": ".py",
   "mimetype": "text/x-python",
   "name": "python",
   "nbconvert_exporter": "python",
   "pygments_lexer": "ipython2",
   "version": "2.7.10"
  }
 },
 "nbformat": 4,
 "nbformat_minor": 0
}
