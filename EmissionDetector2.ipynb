{
 "cells": [
  {
   "cell_type": "code",
   "execution_count": 84,
   "metadata": {
    "collapsed": false
   },
   "outputs": [
    {
     "name": "stdout",
     "output_type": "stream",
     "text": [
      "Populating the interactive namespace from numpy and matplotlib\n"
     ]
    }
   ],
   "source": [
    "%pylab inline\n",
    "\n",
    "import os\n",
    "\n",
    "rc(\"text\", usetex=False)\n",
    "rc(\"font\", size=14)\n",
    "\n",
    "def model(K, pars):\n",
    "    a, b = pars\n",
    "    return a*K + b*K**2\n",
    "\n",
    "pars_OIII = [  217.4835193,   1062.12222244]\n",
    "pars_Halpha = [  278.81867414,  1338.57486397]"
   ]
  },
  {
   "cell_type": "code",
   "execution_count": 85,
   "metadata": {
    "collapsed": false
   },
   "outputs": [],
   "source": [
    "sdir = \"../inputs/real_deal6/\"\n",
    "\n",
    "jlist = sorted([os.path.join(root, file) for root, subs, files in os.walk(sdir) for file in files if \"_JPAS_\" in file])\n",
    "slist = [name.replace(\"JPAS\", \"SPEC\") for name in jlist]"
   ]
  },
  {
   "cell_type": "code",
   "execution_count": null,
   "metadata": {
    "collapsed": true,
    "slideshow": {
     "slide_type": "-"
    }
   },
   "outputs": [],
   "source": [
    "i = 3\n",
    "\n",
    "wls, fls = loadtxt(slist[i], usecols=(0,1), unpack=True)\n",
    "wlj, flj = loadtxt(jlist[i], usecols=(0,1), unpack=True)\n",
    "\n",
    "wi, k1, k2 = array([(wlj[i+1], flj[i]/flj[i+1], flj[i+2]/flj[i]) for i in xrange(wlj.size-2) if all(flj[i:i+3]!=0)]).T\n",
    "\n",
    "K = 1 - (k1+k2)/2\n",
    "ew = model(K, pars_Halpha)\n",
    "\n",
    "em = ones(wlj.size, dtype=np.bool)\n",
    "for j in xrange(wi.size):\n",
    "    if K[j]>0.04: em[wlj==wi[j]] = False\n",
    "\n",
    "fig, axs = subplots(2, 1, sharex=True, figsize=(10, 7))\n",
    "axs[0].plot(wls, fls, \"-\")\n",
    "axs[0].plot(wlj, flj, \"o\", mew=0)\n",
    "axs[0].plot(wlj[em], flj[em], \".\")\n",
    "axs[1].plot(wi, K, \"o-\", mew=0)\n",
    "axs[1].axhline(0.04, ls=\"--\", color=\"0.4\")\n",
    "\n",
    "axs[1].set_xlabel(\"Wavelength\")\n",
    "axs[0].set_ylabel(\"Flux\")\n",
    "axs[1].set_ylabel(\"Emission strength\")"
   ]
  },
  {
   "cell_type": "code",
   "execution_count": null,
   "metadata": {
    "collapsed": true
   },
   "outputs": [],
   "source": []
  }
 ],
 "metadata": {
  "kernelspec": {
   "display_name": "Python 2",
   "language": "python",
   "name": "python2"
  },
  "language_info": {
   "codemirror_mode": {
    "name": "ipython",
    "version": 2
   },
   "file_extension": ".py",
   "mimetype": "text/x-python",
   "name": "python",
   "nbconvert_exporter": "python",
   "pygments_lexer": "ipython2",
   "version": "2.7.8"
  }
 },
 "nbformat": 4,
 "nbformat_minor": 0
}
